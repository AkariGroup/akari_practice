{
 "cells": [
  {
   "attachments": {},
   "cell_type": "markdown",
   "id": "499fadb4-dc42-40f4-a10e-839eaa98ca98",
   "metadata": {},
   "source": [
    "# Q2-7.手動ライト"
   ]
  },
  {
   "attachments": {},
   "cell_type": "markdown",
   "id": "89b6d771-a611-45d4-8c7f-02304465ca6c",
   "metadata": {
    "tags": []
   },
   "source": [
    "## 問題\n",
    "**Q2-7.ボタンAを押すとテストヘッドのpwmout0のLEDの明るさを10上げて、ボタンBを押すと10下げる手動ライトを作りましょう。**  \n",
    "pwmout0にセットする値は0-250の範囲内に収まるようにしてください。"
   ]
  },
  {
   "cell_type": "code",
   "execution_count": null,
   "id": "34197f04-6a3f-4369-890d-cf8e4c91990e",
   "metadata": {},
   "outputs": [],
   "source": [
    "#!/usr/bin/env python\n",
    "# -*- coding: utf-8 -*-\n",
    "\n",
    "### ここから問題  ###\n",
    "\n",
    "\"\"\"(コードを記述)”\"\"\"\n",
    "\n",
    "### ここまで  ###"
   ]
  },
  {
   "attachments": {},
   "cell_type": "markdown",
   "id": "27784c1b-4331-4439-8218-8d0cd8861ff4",
   "metadata": {},
   "source": [
    "### ヒント\n",
    "\n",
    "**ボタン操作はQ2-1、pwmoutはq2-4を参考にしましょう。**\n",
    "\n",
    "[Q2-1](q2-1_button.ipynb)と同じ方法でボタンA, ボタンBの状態が取得できます。  \n",
    "if文で、ボタンAが押されている場合の処理、ボタンBが押されている場合の処理を書いていきましょう。\n",
    "\n",
    "pwmoutの出力値の変数を初期値0で最初に作っておいて、ボタンAが押されたら+10、ボタンBが押されたら-10、PWM出力をセットして少しsleep、というのが処理の流れです。  \n",
    "この処理をwhile文でループさせましょう。\n",
    "\n",
    "PWM出力には[Q2-4](q2-4_pwmout.ipynb)と同じく、set_pwmout()を使います。\n",
    "\n",
    "１ループの最後にtime.sleep()を入れないと処理が間に合いませんが、sleep時間が長すぎると動きが遅くなってしまいます。  \n",
    "sleep時間を色々変えながら、使いやすい値を決定していきましょう。"
   ]
  },
  {
   "attachments": {},
   "cell_type": "markdown",
   "id": "b57ed4d0-2700-46b1-9697-d5979814fa65",
   "metadata": {},
   "source": [
    "完成したら実行してみましょう。  \n",
    "ボタンAとボタンBで、テストヘッドのpwmout0のLEDの明るさが変更できれば成功です。"
   ]
  },
  {
   "cell_type": "markdown",
   "id": "2dc388b4-f781-4c60-b4ff-cbace60934b8",
   "metadata": {
    "tags": []
   },
   "source": [
    "## 回答と解説\n",
    "以下は回答例と解説です。動作が正しければ、これと同じでなくても問題ありません。"
   ]
  },
  {
   "cell_type": "code",
   "execution_count": null,
   "id": "6fba88ef-ef82-480e-82a6-72e3c3491460",
   "metadata": {},
   "outputs": [],
   "source": [
    "#!/usr/bin/env python\n",
    "# -*- coding: utf-8 -*-\n",
    "\n",
    "# M5との通信の際はakari_clientのライブラリをインポートする\n",
    "from akari_client import AkariClient\n",
    "# sleep関数を使うためにtimeのライブラリをインポートする\n",
    "import time\n",
    "\n",
    "### ここから問題  ###\n",
    "def main() -> None:\n",
    "    \"\"\"\n",
    "    メイン関数\n",
    "    \"\"\"\n",
    "\n",
    "    # AkariClient、m5stackのインスタンスを取得する\n",
    "    akari = AkariClient()\n",
    "    m5 = akari.m5stack\n",
    "\n",
    "    # pwmout0の明るさの変数を初期値0で作成。\n",
    "    pwmout0_val = 0\n",
    "\n",
    "    # Ctrl + Cで終了するまでループし続ける。\n",
    "    while(True):\n",
    "        m5_data = m5.get()\n",
    "        # ボタンAが押されていて、かつpwmout0_valが240以下の場合、pwmout0を+10。\n",
    "        if(m5_data[\"button_a\"] and pwmout0_val <= 240):\n",
    "            pwmout0_val += 10\n",
    "        # ボタンBが押されていて、かつpwmout0_valが10以上の場合、pwmout0を-10。\n",
    "        if(m5_data[\"button_b\"] and pwmout0_val >= 10):\n",
    "            pwmout0_val -= 10\n",
    "        # pwmout0の値をコマンドラインに出力。\n",
    "        print(\"今の明るさは\" + str(pwmout0_val) + \"です。\")\n",
    "        # pwmout0を指令\n",
    "        m5.set_pwmout(pin_id=0, value=pwmout0_val)\n",
    "        # 0.1秒停止処理を入れる。ここは各自調整！\n",
    "        time.sleep(0.1)\n",
    "\n",
    "\n",
    "if __name__ == '__main__':\n",
    "    main()\n",
    "### ここまで  ###"
   ]
  },
  {
   "attachments": {},
   "cell_type": "markdown",
   "id": "5735f15d-f72e-461f-b38d-996540b5bec1",
   "metadata": {},
   "source": [
    "#### 4-7行目:\n",
    "```python\n",
    "# M5との通信の際はakari_clientのライブラリをインポートする\n",
    "from akari_client import AkariClient\n",
    "# sleep関数を使うためにtimeのライブラリをインポートする\n",
    "import time\n",
    "```\n",
    "最初に必要なモジュールをインポートします。  \n",
    "1つ目はM5と通信するためのAkariClient  \n",
    "2つ目はsleepを使うために必要なtimeです。"
   ]
  },
  {
   "attachments": {},
   "cell_type": "markdown",
   "id": "01a16423",
   "metadata": {},
   "source": [
    "#### 9行目:\n",
    "```python\n",
    "def main() -> None:\n",
    "```\n",
    "メイン関数を定義します。この中身が実行されます。"
   ]
  },
  {
   "attachments": {},
   "cell_type": "markdown",
   "id": "a1313c93",
   "metadata": {},
   "source": [
    "#### 15-17行目:\n",
    "```python\n",
    "# AkariClient、m5stackのインスタンスを取得する\n",
    "akari = AkariClient()\n",
    "m5 = akari.m5stack\n",
    "```\n",
    "AKARIのライブラリであるAkariClientを使用するには、最初にこのインスタンスの作成が必須となります。  \n",
    "ここではそのインスタンスにakariという名前を付けています。  \n",
    "また、m5の制御を行うには、このakariの中のm5stackのインスタンスも取得する必要があります。\n"
   ]
  },
  {
   "attachments": {},
   "cell_type": "markdown",
   "id": "d56e1e96",
   "metadata": {},
   "source": [
    "#### 19-20行目:\n",
    "```python\n",
    "# pwmout0の明るさの変数を初期値0で作成。\n",
    "pwmout0_val = 0\n",
    "```\n",
    "pwm出力値として使う変数をここで作成しておきます。  \n",
    "While文の中に書いてしまうと、毎回ループのために0が与えられてしまうので、while文の前に書きます。"
   ]
  },
  {
   "attachments": {},
   "cell_type": "markdown",
   "id": "0fabef14",
   "metadata": {},
   "source": [
    "#### 22-23行目:\n",
    "```python\n",
    "# Ctrl + Cで終了するまでループし続ける。\n",
    "while(True):\n",
    "```\n",
    "3秒に１回動作するコードなので、while()でループさせます。  \n",
    "条件式はTrueなので、終了するまでループし続けます。"
   ]
  },
  {
   "attachments": {},
   "cell_type": "markdown",
   "id": "22f8f8d7",
   "metadata": {},
   "source": [
    "#### 24行目:\n",
    "```python\n",
    "m5_data = m5.get()\n",
    "```\n",
    "\n",
    "17行目で _m5_ という名前のAkariClient().m5stackのインスタンスを作成しています。  \n",
    "この場合、AkariClient().m5stackに含まれる関数は _m5.関数名_ という形で呼び出します。\n",
    "\n",
    "ここではget()関数を使ってm5の情報を取得しています。"
   ]
  },
  {
   "attachments": {},
   "cell_type": "markdown",
   "id": "82a8251f",
   "metadata": {},
   "source": [
    "#### 25-27行目:\n",
    "```python\n",
    "# ボタンAが押されていて、かつpwmout0_valが240以下の場合、pwmout0を+10。\n",
    "if(m5_data[\"button_a\"] and pwmout0_val <= 240):\n",
    "    pwmout0_val += 10\n",
    "```\n",
    "ボタンAの出力はm5_data[\"button_a\"]に格納されています。  \n",
    "ボタンAが True で、かつpwmout0_valが240以下の時のみ、32行目で作成した変数であるpwmout0_valを+10します。  \n",
    "こうすることで、pwmout0_valが250を超えないようにします。"
   ]
  },
  {
   "attachments": {},
   "cell_type": "markdown",
   "id": "4259902a",
   "metadata": {},
   "source": [
    "#### 28-30行目:\n",
    "```python\n",
    "# ボタンBが押されていて、かつpwmout0_valが10以上の場合、pwmout0を-10。\n",
    "if(m5_data['button_b'] and pwmout0_val >= 10):\n",
    "    pwmout0_val -= 10\n",
    "```\n",
    "ボタンBの出力はm5_data['button_b']に格納されています。  \n",
    "同様にボタンBが True かつpwmout0_valが10以上の時のみ、pwmout0_valを-10します。  \n",
    "こうすることで、pwmout0_valが0を下回らないようにします。"
   ]
  },
  {
   "attachments": {},
   "cell_type": "markdown",
   "id": "1599b4a9",
   "metadata": {},
   "source": [
    "#### 31-32行目:\n",
    "```python\n",
    "# pwmout0の値をコマンドラインに出力。\n",
    "print(\"今の明るさは\" + str(pwmout0_val) + \"です。\")\n",
    "```\n",
    "pwmout0_valをコマンドラインに出力しておきます。"
   ]
  },
  {
   "attachments": {},
   "cell_type": "markdown",
   "id": "9c67b26e",
   "metadata": {},
   "source": [
    "#### 33-34行目:\n",
    "```python\n",
    "# pwmout0を指令\n",
    "m5.set_pwmout(pin_id=0, value=pwmout0_val)\n",
    "```\n",
    "ボタンによって更新されたpwmout0_valを出力値として、set_pwmout()でpwmout0を出力します。"
   ]
  },
  {
   "attachments": {},
   "cell_type": "markdown",
   "id": "a3a9a768",
   "metadata": {},
   "source": [
    "#### 35-36行目:\n",
    "```python\n",
    "# 0.1秒停止処理を入れる。ここは各自調整！\n",
    "time.sleep(0.1)\n",
    "```\n",
    "0.1秒間停止させる処理をします。  \n",
    "ここの値は各自調整し、ループ速度と処理のレスポンスが最適になるようにしましょう。"
   ]
  },
  {
   "attachments": {},
   "cell_type": "markdown",
   "id": "c96897b4",
   "metadata": {},
   "source": [
    "#### 39-40行目:\n",
    "```python\n",
    "if __name__ == '__main__':\n",
    "    main()\n",
    "```\n",
    "この文法を入れておくと、ファイルがコマンドラインからスクリプトとして実行された場合にのみ処理を実行してくれます。"
   ]
  },
  {
   "attachments": {},
   "cell_type": "markdown",
   "id": "6da5a026-dd3e-400a-a007-f51932446efe",
   "metadata": {
    "tags": []
   },
   "source": [
    "## 最後に\n",
    "これでQ2-7は終了です。次は、ディスプレイカラーの制御を学習してみましょう。"
   ]
  },
  {
   "attachments": {},
   "cell_type": "markdown",
   "id": "0ac62a1d-2a93-4fe8-abce-889db09580d7",
   "metadata": {},
   "source": [
    "[次の問題へ](q3-1_display_color.ipynb)"
   ]
  }
 ],
 "metadata": {
  "kernelspec": {
   "display_name": "Python 3.8.10 64-bit",
   "language": "python",
   "name": "python3"
  },
  "language_info": {
   "codemirror_mode": {
    "name": "ipython",
    "version": 3
   },
   "file_extension": ".py",
   "mimetype": "text/x-python",
   "name": "python",
   "nbconvert_exporter": "python",
   "pygments_lexer": "ipython3",
   "version": "3.8.10"
  },
  "vscode": {
   "interpreter": {
    "hash": "e7370f93d1d0cde622a1f8e1c04877d8463912d04d973331ad4851f04de6915a"
   }
  }
 },
 "nbformat": 4,
 "nbformat_minor": 5
}
