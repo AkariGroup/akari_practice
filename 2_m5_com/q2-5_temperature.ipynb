{
 "cells": [
  {
   "attachments": {},
   "cell_type": "markdown",
   "id": "499fadb4-dc42-40f4-a10e-839eaa98ca98",
   "metadata": {},
   "source": [
    "# Q2-4.温度計"
   ]
  },
  {
   "attachments": {},
   "cell_type": "markdown",
   "id": "89b6d771-a611-45d4-8c7f-02304465ca6c",
   "metadata": {
    "tags": []
   },
   "source": [
    "## 問題\n",
    "**Q2-5.環境温度を取得して1秒ごとにコマンドラインに表示しましょう。**"
   ]
  },
  {
   "cell_type": "code",
   "execution_count": null,
   "id": "34197f04-6a3f-4369-890d-cf8e4c91990e",
   "metadata": {},
   "outputs": [],
   "source": [
    "#!/usr/bin/env python\n",
    "# -*- coding: utf-8 -*-\n",
    "\n",
    "# M5との通信の際はakari_clientのライブラリをインポートする\n",
    "from akari_client import AkariClient\n",
    "# sleep関数を使うためにtimeのライブラリをインポートする。\n",
    "import time\n",
    "\n",
    "\n",
    "def main() -> None:\n",
    "    \"\"\"\n",
    "    メイン関数\n",
    "    \"\"\"\n",
    "\n",
    "    # AkariClient、m5stackのインスタンスを取得する\n",
    "    akari = AkariClient()\n",
    "    m5 = akari.m5stack\n",
    "\n",
    "    ### ここから問題  ###\n",
    "    # Ctrl + Cで終了するまでループし続ける\n",
    "    while(True):\n",
    "        m5_data = \"\"\"(M5から値を取得する関数)\"\"\"\n",
    "        # 温度を表示。\n",
    "        \"\"\"(温度をコマンドラインに表示する処理)\"\"\"\n",
    "        # 1秒停止処理を入れる。\n",
    "        \"\"\"(1秒停止する処理)\"\"\"\n",
    "    ### ここまで  ###\n",
    "\n",
    "\n",
    "if __name__ == '__main__':\n",
    "    main()"
   ]
  },
  {
   "attachments": {},
   "cell_type": "markdown",
   "id": "27784c1b-4331-4439-8218-8d0cd8861ff4",
   "metadata": {},
   "source": [
    "### ヒント\n",
    "\n",
    "**M5からの情報を取得するには、 _get()_ を使います。**\n",
    "\n",
    "[Q2-1](q2-1_button.ipynb)と同じように _get()_ を使ってM5のセンサ情報を取得します。  \n",
    "返り値のm5_dataの中で、今回参照するのは[\"temperature\"]のキーです。\n",
    "\n",
    "得られたデータは、print()で表示します。  \n",
    "温度の値だけ表示してもいいですが、[Q1-5](../1_motor/q1-4_random.ipynb)の29-30行目の様に、  \n",
    "文字列と取得した値を組み合わせて\"温度は〇〇度です。\"のように表示できるとより分かりやすいです。"
   ]
  },
  {
   "attachments": {},
   "cell_type": "markdown",
   "id": "b57ed4d0-2700-46b1-9697-d5979814fa65",
   "metadata": {},
   "source": [
    "完成したら実行してみましょう。  \n",
    "1秒ごとにコマンドライン上に温度が表示されたら成功です。"
   ]
  },
  {
   "cell_type": "markdown",
   "id": "2dc388b4-f781-4c60-b4ff-cbace60934b8",
   "metadata": {
    "tags": []
   },
   "source": [
    "## 回答と解説\n",
    "以下は回答例と解説です。動作が正しければ、これと同じでなくても問題ありません。"
   ]
  },
  {
   "cell_type": "code",
   "execution_count": null,
   "id": "6fba88ef-ef82-480e-82a6-72e3c3491460",
   "metadata": {},
   "outputs": [],
   "source": [
    "#!/usr/bin/env python\n",
    "# -*- coding: utf-8 -*-\n",
    "\n",
    "# M5との通信の際はakari_clientのライブラリをインポートする\n",
    "from akari_client import AkariClient\n",
    "# sleep関数を使うためにtimeのライブラリをインポートする。\n",
    "import time\n",
    "\n",
    "\n",
    "def main() -> None:\n",
    "    \"\"\"\n",
    "    メイン関数\n",
    "    \"\"\"\n",
    "\n",
    "    # AkariClient、m5stackのインスタンスを取得する\n",
    "    akari = AkariClient()\n",
    "    m5 = akari.m5stack\n",
    "\n",
    "    ### ここから問題  ###\n",
    "    # Ctrl + Cで終了するまでループし続ける\n",
    "    while(True):\n",
    "        m5_data = m5.get()\n",
    "        # 温度を表示。\n",
    "        print(\"温度は\" + str(m5_data['temperature']) + \"度です。\")\n",
    "        # 1秒停止処理を入れる。\n",
    "        time.sleep(1)\n",
    "    ### ここまで  ###\n",
    "\n",
    "\n",
    "if __name__ == '__main__':\n",
    "    main()"
   ]
  },
  {
   "attachments": {},
   "cell_type": "markdown",
   "id": "5735f15d-f72e-461f-b38d-996540b5bec1",
   "metadata": {},
   "source": [
    "#### 17行目:\n",
    "```python\n",
    "m5_data = m5.get()\n",
    "```\n",
    "\n",
    "[Q2-1](q2-1_button.ipynb)と同じように _m5_ という名前でAkariClient().m5stackのインスタンスを作成しているので、m5.get()という形で呼び出します。"
   ]
  },
  {
   "attachments": {},
   "cell_type": "markdown",
   "id": "01a16423",
   "metadata": {},
   "source": [
    "#### 23-24行目:\n",
    "```python\n",
    "# 温度を表示。\n",
    "print(\"温度は\" + str(m5_data[\"temperature\"]) + \"度です。\")\n",
    "```\n",
    "\n",
    "今回は、\"m5_data[\"temperature\"]\" を参照します。  \n",
    "この値を文字列に変換した上で、前後に文字列を合成して、\"温度は〇〇度です。\"という表示にします。"
   ]
  },
  {
   "attachments": {},
   "cell_type": "markdown",
   "id": "82a8251f",
   "metadata": {},
   "source": [
    "#### 25-26行目:\n",
    "```python\n",
    "# 1秒停止処理を入れる。\n",
    "time.sleep(1)\n",
    "```\n",
    "1秒間停止させるように問題文で指示されているので、sleepを使って1秒停止します。"
   ]
  },
  {
   "attachments": {},
   "cell_type": "markdown",
   "id": "6da5a026-dd3e-400a-a007-f51932446efe",
   "metadata": {
    "tags": []
   },
   "source": [
    "## 最後に\n",
    "これでQ2-5は終了です。次は、自動ライトをつくってみましょう。"
   ]
  },
  {
   "attachments": {},
   "cell_type": "markdown",
   "id": "0ac62a1d-2a93-4fe8-abce-889db09580d7",
   "metadata": {},
   "source": [
    "[次の問題へ](q2-6_auto_light.ipynb)"
   ]
  }
 ],
 "metadata": {
  "kernelspec": {
   "display_name": "Python 3",
   "language": "python",
   "name": "python3"
  },
  "language_info": {
   "codemirror_mode": {
    "name": "ipython",
    "version": 3
   },
   "file_extension": ".py",
   "mimetype": "text/x-python",
   "name": "python",
   "nbconvert_exporter": "python",
   "pygments_lexer": "ipython3",
   "version": "3.6.8 (tags/v3.6.8:3c6b436a57, Dec 24 2018, 00:16:47) [MSC v.1916 64 bit (AMD64)]"
  },
  "vscode": {
   "interpreter": {
    "hash": "045823372ae896803066400baabdd9ce57da994bf40a6bcd023d2de1b7d884a6"
   }
  }
 },
 "nbformat": 4,
 "nbformat_minor": 5
}
