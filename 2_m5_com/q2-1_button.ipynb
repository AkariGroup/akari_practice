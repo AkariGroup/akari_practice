{
 "cells": [
  {
   "attachments": {},
   "cell_type": "markdown",
   "id": "499fadb4-dc42-40f4-a10e-839eaa98ca98",
   "metadata": {},
   "source": [
    "# Q2-1.ボタン入力の取得"
   ]
  },
  {
   "attachments": {},
   "cell_type": "markdown",
   "id": "89b6d771-a611-45d4-8c7f-02304465ca6c",
   "metadata": {
    "tags": []
   },
   "source": [
    "## 問題\n",
    "**Q2-1.ボタンAが押されたらコマンドラインに「ボタンAが押されています。」と表示されるようにしましょう。**"
   ]
  },
  {
   "cell_type": "code",
   "execution_count": null,
   "id": "34197f04-6a3f-4369-890d-cf8e4c91990e",
   "metadata": {},
   "outputs": [],
   "source": [
    "#!/usr/bin/env python\n",
    "# -*- coding: utf-8 -*-\n",
    "\n",
    "# M5との通信の際はakari_clientのライブラリをインポートする\n",
    "from akari_client import AkariClient\n",
    "# sleep関数を使うためにtimeのライブラリをインポートする。\n",
    "import time\n",
    "\n",
    "\n",
    "def main() -> None:\n",
    "    \"\"\"\n",
    "    メイン関数\n",
    "    \"\"\"\n",
    "\n",
    "    # AkariClient、m5stackのインスタンスを取得する\n",
    "    akari = AkariClient()\n",
    "    m5 = akari.m5stack\n",
    "\n",
    "    ### ここから問題  ###\n",
    "    # Ctrl + Cで終了するまでループし続ける\n",
    "    while(True):\n",
    "        m5_data = \"\"\"(M5から値を取得する関数)\"\"\"\n",
    "        # ボタンが押されているか判定。\n",
    "        if(\"\"\"(ボタンAが押されているかの判定処理)\"\"\"):\n",
    "            \"\"\"(コマンドラインに出力する処理)\"\"\"\n",
    "        # 0.1秒停止処理を入れる。\n",
    "        time.sleep(0.1)\n",
    "    ### ここまで  ###\n",
    "\n",
    "\n",
    "    if __name__ == '__main__':\n",
    "    main()"
   ]
  },
  {
   "attachments": {},
   "cell_type": "markdown",
   "id": "27784c1b-4331-4439-8218-8d0cd8861ff4",
   "metadata": {},
   "source": [
    "### ヒント\n",
    "\n",
    "**M5からの情報を取得するには、 _get()_ を使います。**\n",
    "\n",
    "```python\n",
    "akari_client.m5stack_client.get(self) -> M5ComDict:\n",
    "\"\"\"M5から環境センサ、ヘッドGPIOの入力値、M5のボタンの状態を取得する。\n",
    "\n",
    "Returns:\n",
    "M5ComDict: M5から取得した各データを格納したDict。\n",
    "\n",
    "\"\"\"\n",
    "```\n",
    "\n",
    "この _get()_ で取得できる値は、 _M5ComDict_ というクラスに格納されます。  \n",
    "_M5ConDict_ から取得できるデータとキーの一覧は[akari_manual](https://akari-docs.vbcpp.net/source/spec/soft_base.html#akari_client.m5stack_client.M5ComDict)を参照してください。  \n",
    "今回はボタンAの値を取得したいので、[\"button_a\"]というキーを使用します。  \n",
    "\n",
    "下記のセルを実行すると使い方の例が見られます。"
   ]
  },
  {
   "cell_type": "code",
   "execution_count": null,
   "id": "3a501672-89a3-46b4-aa3a-761a95dd10dc",
   "metadata": {},
   "outputs": [],
   "source": [
    "# M5との通信の際はakari_clientのライブラリをインポートする\n",
    "from akari_client import AkariClient\n",
    "\n",
    "# AkariClient、m5stackのインスタンスを取得する\n",
    "akari = AkariClient()\n",
    "m5 = akari.m5stack\n",
    "\n",
    "m5_data = m5.get()\n",
    "print(\"ボタンAは\" + str(m5_data[\"button_a\"]) + \"です。\")"
   ]
  },
  {
   "attachments": {},
   "cell_type": "markdown",
   "id": "57a6297c",
   "metadata": {},
   "source": [
    "**ボタンAが押されているかの判定処理には、if文を使います。**\n",
    "\n",
    "24行目に _if_ が登場しています。  \n",
    "if文は条件分岐で、条件式 の結果が True になったとき、処理が実行されます。  \n",
    "条件式が False になった場合、else以下が実行されます。  \n",
    "```python\n",
    "if 条件式:\n",
    "   処理1\n",
    "else:\n",
    "   処理2\n",
    "```\n",
    "上記の場合、条件式が True の場合 処理1 だけが実行されます。条件式 が False の場合は、 処理1 は実行されず、 処理2 だけが実行されます。  \n",
    "詳しくは下記を参照してください。  \n",
    "https://www.python.jp/train/if_condition/if_statement.html  \n",
    "\n",
    "下記のセルを実行すると使い方の例が見られます。"
   ]
  },
  {
   "cell_type": "code",
   "execution_count": null,
   "id": "96f1e588",
   "metadata": {},
   "outputs": [],
   "source": [
    "# 初期値を決める\n",
    "val = True\n",
    "\n",
    "# 値の判定\n",
    "if (val):\n",
    "  print(\"val は True です。\")\n",
    "else:\n",
    "  print(\"val は False です。\")"
   ]
  },
  {
   "attachments": {},
   "cell_type": "markdown",
   "id": "302e793b-5f1b-40e4-9ef2-2cc7ea36c5b8",
   "metadata": {},
   "source": [
    "上のヒントを参考に、m5.get()で得た値を使ってボタンが押されているか判定してみましょう  \n",
    "24行目には、 _m5_data['button_a']_ の値が True だった場合の条件式を記載します。  \n",
    "25行目でコマンドラインにメッセージをprintします。問題文にあるように、\"ボタンAが押されています。\" としましょう。"
   ]
  },
  {
   "attachments": {},
   "cell_type": "markdown",
   "id": "b57ed4d0-2700-46b1-9697-d5979814fa65",
   "metadata": {},
   "source": [
    "完成したら実行してみましょう。  \n",
    "M5のボタンAを押した際、コマンドラインに \"ボタンAが押されています。\" と表示されたら成功です。"
   ]
  },
  {
   "cell_type": "markdown",
   "id": "2dc388b4-f781-4c60-b4ff-cbace60934b8",
   "metadata": {
    "tags": []
   },
   "source": [
    "## 回答と解説\n",
    "以下は回答例と解説です。動作が正しければ、これと同じでなくても問題ありません。"
   ]
  },
  {
   "cell_type": "code",
   "execution_count": null,
   "id": "6fba88ef-ef82-480e-82a6-72e3c3491460",
   "metadata": {},
   "outputs": [],
   "source": [
    "#!/usr/bin/env python\n",
    "# -*- coding: utf-8 -*-\n",
    "\n",
    "# M5との通信の際はakari_clientのライブラリをインポートする\n",
    "from akari_client import AkariClient\n",
    "# sleep関数を使うためにtimeのライブラリをインポートする。\n",
    "import time\n",
    "\n",
    "\n",
    "def main() -> None:\n",
    "    \"\"\"\n",
    "    メイン関数\n",
    "    \"\"\"\n",
    "\n",
    "    # AkariClient、m5stackのインスタンスを取得する\n",
    "    akari = AkariClient()\n",
    "    m5 = akari.m5stack\n",
    "\n",
    "    ### ここから問題  ###\n",
    "    # Ctrl + Cで終了するまでループし続ける\n",
    "    while(True):\n",
    "        m5_data = m5.get()\n",
    "        # ボタンが押されているか判定。\n",
    "        if(m5_data[\"button_a\"]):\n",
    "            print(\"ボタンAが押されています。\")\n",
    "        # 0.1秒停止処理を入れる。\n",
    "        time.sleep(0.1)\n",
    "    ### ここまで  ###\n",
    "\n",
    "\n",
    "    if __name__ == '__main__':\n",
    "    main()"
   ]
  },
  {
   "attachments": {},
   "cell_type": "markdown",
   "id": "5735f15d-f72e-461f-b38d-996540b5bec1",
   "metadata": {},
   "source": [
    "#### 22行目:\n",
    "```python\n",
    "m5_data = m5.get()\n",
    "```\n",
    "\n",
    "17行目で _m5_ という名前のAkariClient().m5stackのインスタンスを作成しています。  \n",
    "この場合、AkariClient().m5stackに含まれる関数は _m5.関数名_ という形で呼び出します。\n",
    "\n",
    "ここではget()関数を使います。"
   ]
  },
  {
   "attachments": {},
   "cell_type": "markdown",
   "id": "01a16423",
   "metadata": {},
   "source": [
    "#### 24行目:\n",
    "```python\n",
    "if(m5_data[\"button_a\"]):\n",
    "```\n",
    "\n",
    "m5_data[\"button_a\"]の値がTrueだった場合 という条件式を書きます。"
   ]
  },
  {
   "attachments": {},
   "cell_type": "markdown",
   "id": "82a8251f",
   "metadata": {},
   "source": [
    "#### 25行目:\n",
    "```python\n",
    "print(\"ボタンAが押されています\")\n",
    "```\n",
    "\n",
    "コマンドラインに出力するには、print()という関数を使います。  \n",
    "出力するメッセージは問題文にあるように、\"ボタンAが押されています。\" というようにします。"
   ]
  },
  {
   "attachments": {},
   "cell_type": "markdown",
   "id": "9145d1fe",
   "metadata": {},
   "source": [
    "#### 27行目:\n",
    "```python\n",
    "time.sleep(0.1)\n",
    "```\n",
    "27行目以降はループしており、M5のデータを取得→ボタンAが押されているか判定する、という処理を繰り返しています。  \n",
    "ループの最後に0.1秒のスリープを入れて、ループ速度の調整をしています。"
   ]
  },
  {
   "cell_type": "markdown",
   "id": "e1fbcd27-8d98-4c93-a711-64e650a3d449",
   "metadata": {
    "tags": []
   },
   "source": [
    "## Tips"
   ]
  },
  {
   "attachments": {},
   "cell_type": "markdown",
   "id": "83140fe5-9d81-44db-93c0-27b3ac41f2aa",
   "metadata": {
    "tags": []
   },
   "source": [
    "#### その他のボタンを取得するには？\n",
    "ボタンB、ボタンCも同様に取得できます。25行目以下に下記を追加してみましょう。  \n",
    "```python\n",
    "if(m5_data['button_b']):\n",
    "    print(\"ボタンBが押されています。\")\n",
    "if(m5_data['button_c']):\n",
    "    print(\"ボタンCが押されています。\")\n",
    "```\n",
    "ボタンA~Cのステータスを同時に取得できるようになります。"
   ]
  },
  {
   "attachments": {},
   "cell_type": "markdown",
   "id": "6da5a026-dd3e-400a-a007-f51932446efe",
   "metadata": {
    "tags": []
   },
   "source": [
    "## 最後に\n",
    "これでQ2-1は終了です。次は、GPIO入力の取得を学習してみましょう。"
   ]
  },
  {
   "attachments": {},
   "cell_type": "markdown",
   "id": "0ac62a1d-2a93-4fe8-abce-889db09580d7",
   "metadata": {},
   "source": [
    "[次の問題へ](q2-2_gpio_input.ipynb)"
   ]
  }
 ],
 "metadata": {
  "kernelspec": {
   "display_name": "Python 3",
   "language": "python",
   "name": "python3"
  },
  "language_info": {
   "codemirror_mode": {
    "name": "ipython",
    "version": 3
   },
   "file_extension": ".py",
   "mimetype": "text/x-python",
   "name": "python",
   "nbconvert_exporter": "python",
   "pygments_lexer": "ipython3",
   "version": "3.6.8"
  },
  "vscode": {
   "interpreter": {
    "hash": "045823372ae896803066400baabdd9ce57da994bf40a6bcd023d2de1b7d884a6"
   }
  }
 },
 "nbformat": 4,
 "nbformat_minor": 5
}
