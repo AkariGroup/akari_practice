{
 "cells": [
  {
   "attachments": {},
   "cell_type": "markdown",
   "id": "499fadb4-dc42-40f4-a10e-839eaa98ca98",
   "metadata": {},
   "source": [
    "# Q2-3.デジタル出力の制御"
   ]
  },
  {
   "attachments": {},
   "cell_type": "markdown",
   "id": "89b6d771-a611-45d4-8c7f-02304465ca6c",
   "metadata": {
    "tags": []
   },
   "source": [
    "## 問題\n",
    "**Q2-3.テストヘッドのdout0のLEDを2秒ごとにONOFFするコードを書きましょう。**"
   ]
  },
  {
   "cell_type": "code",
   "execution_count": null,
   "id": "34197f04-6a3f-4369-890d-cf8e4c91990e",
   "metadata": {},
   "outputs": [],
   "source": [
    "#!/usr/bin/env python\n",
    "# -*- coding: utf-8 -*-\n",
    "\n",
    "# M5との通信の際はakari_clientのライブラリをインポートする\n",
    "from akari_client import AkariClient\n",
    "# sleep関数を使うためにtimeのライブラリをインポートする。\n",
    "import time\n",
    "\n",
    "\n",
    "def main() -> None:\n",
    "    \"\"\"\n",
    "    メイン関数\n",
    "    \"\"\"\n",
    "\n",
    "    # AkariClient、m5stackのインスタンスを取得する\n",
    "    akari = AkariClient()\n",
    "    m5 = akari.m5stack\n",
    "\n",
    "    ### ここから問題  ###\n",
    "    while(True):\n",
    "        \"\"\" (処理を書く)\"\"\"\n",
    "    ### ここまで  ###\n",
    "\n",
    "\n",
    "if __name__ == '__main__':\n",
    "    main()"
   ]
  },
  {
   "attachments": {},
   "cell_type": "markdown",
   "id": "27784c1b-4331-4439-8218-8d0cd8861ff4",
   "metadata": {},
   "source": [
    "### ヒント\n",
    "\n",
    "**M5のデジタル出力を制御するには、 _set_dout()_ を使います。**  \n",
    "```python\n",
    "akari_client.m5stack_client.set_dout(self, pin_id: int, value: bool, sync: bool = True) -> None:\n",
    "\"\"\"ヘッド部GPIOピンのデジタル出力を設定する。\n",
    "\n",
    "Args:\n",
    "    pin_id: pin番号。0でdout0、1でdout1を指定する。\n",
    "    value: デジタル出力の値。``False``で0V,``True``で3.3V出力。\n",
    "    sync: 同期実行の指定。``True``の場合M5側で実行完了するまで関数の終了待ちを行う。\n",
    "\n",
    "\"\"\"\n",
    "```\n",
    "\n",
    "下記にdout0をHi、dout1をLoにするサンプルを記載します。  \n",
    "テスト用ヘッドモジュールをAKARIに接続している場合は、dout0のLEDが点灯します。  \n",
    "下記のセルを実行すると使い方の例が見られます。"
   ]
  },
  {
   "cell_type": "code",
   "execution_count": null,
   "id": "3a501672-89a3-46b4-aa3a-761a95dd10dc",
   "metadata": {},
   "outputs": [],
   "source": [
    "# M5との通信の際はakari_clientのライブラリをインポートする\n",
    "from akari_client import AkariClient\n",
    "\n",
    "# AkariClient、m5stackのインスタンスを取得する\n",
    "akari = AkariClient()\n",
    "m5 = akari.m5stack\n",
    "\n",
    "# dout0をHi\n",
    "m5.set_dout(pin_id=0,value=True)\n",
    "# dout1をLo\n",
    "m5.set_dout(pin_id=1,value=False)"
   ]
  },
  {
   "attachments": {},
   "cell_type": "markdown",
   "id": "2914f3fa",
   "metadata": {},
   "source": [
    "**2秒ごとにONOFFするには、 _time.sleep()_ を使います。**\n",
    "\n",
    "今回は2秒毎にON、OFFし続けるので、while文の中にtime.sleep()を入れてループスピードを制御しましょう。  \n",
    "dout0をON→2秒sleep→dout0をOFF→2秒sleepが1ループです。"
   ]
  },
  {
   "attachments": {},
   "cell_type": "markdown",
   "id": "b57ed4d0-2700-46b1-9697-d5979814fa65",
   "metadata": {},
   "source": [
    "完成したら実行してみましょう。  \n",
    "テストヘッドのdout0のLEDが2秒ごとにONOFFしたら成功です。"
   ]
  },
  {
   "cell_type": "markdown",
   "id": "2dc388b4-f781-4c60-b4ff-cbace60934b8",
   "metadata": {
    "tags": []
   },
   "source": [
    "## 回答と解説\n",
    "以下は回答例と解説です。動作が正しければ、これと同じでなくても問題ありません。"
   ]
  },
  {
   "cell_type": "code",
   "execution_count": null,
   "id": "6fba88ef-ef82-480e-82a6-72e3c3491460",
   "metadata": {},
   "outputs": [],
   "source": [
    "#!/usr/bin/env python\n",
    "# -*- coding: utf-8 -*-\n",
    "\n",
    "# M5との通信の際はakari_clientのライブラリをインポートする\n",
    "from akari_client import AkariClient\n",
    "# sleep関数を使うためにtimeのライブラリをインポートする\n",
    "import time\n",
    "\n",
    "\n",
    "def main() -> None:\n",
    "    \"\"\"\n",
    "    メイン関数\n",
    "    \"\"\"\n",
    "\n",
    "    # AkariClient、m5stackのインスタンスを取得する\n",
    "    akari = AkariClient()\n",
    "    m5 = akari.m5stack\n",
    "\n",
    "    ### ここから問題  ###\n",
    "    while(True):\n",
    "        # dout0をON\n",
    "        m5.set_dout(pin_id=0,value=True)\n",
    "        # 2秒停止する\n",
    "        time.sleep(2)\n",
    "        # dout0をOFF\n",
    "        m5.set_dout(pin_id=0, value=False)\n",
    "        # 2秒停止する\n",
    "        time.sleep(2)\n",
    "    ### ここまで  ###\n",
    "\n",
    "\n",
    "if __name__ == '__main__':\n",
    "    main"
   ]
  },
  {
   "attachments": {},
   "cell_type": "markdown",
   "id": "5735f15d-f72e-461f-b38d-996540b5bec1",
   "metadata": {},
   "source": [
    "#### 20行目:\n",
    "```python\n",
    "while(True):\n",
    "```\n",
    "M5の情報を取得→din0の判定をループするので、while文を使います。  \n",
    "終了するまで繰り返し続けるので、条件式はTrueです。"
   ]
  },
  {
   "attachments": {},
   "cell_type": "markdown",
   "id": "01a16423",
   "metadata": {},
   "source": [
    "#### 21-22行目:\n",
    "```python\n",
    "# dout0をON\n",
    "m5.set_dout(pin_id=0,value=True)\n",
    "```\n",
    "17行目で _m5_ という名前でAkariClient().m5stackのインスタンスを作成しています。  \n",
    "この場合、AkariClient().m5stackに含まれる関数は _m5.関数名_ という形で呼び出します。\n",
    "\n",
    "ここでは _set_dout()_ を使います。dout0をONにするため、pin_id=0、value=Trueです。"
   ]
  },
  {
   "attachments": {},
   "cell_type": "markdown",
   "id": "82a8251f",
   "metadata": {},
   "source": [
    "#### 23-24行目:\n",
    "```python\n",
    "# 2秒停止する\n",
    "time.sleep(2)\n",
    "```\n",
    "2秒間停止するので、time.sleep()を使います。"
   ]
  },
  {
   "attachments": {},
   "cell_type": "markdown",
   "id": "9145d1fe",
   "metadata": {},
   "source": [
    "#### 27行目:\n",
    "```python\n",
    "# dout0をOFF\n",
    "m5.set_dout(pin_id=0, value=False)\n",
    "```\n",
    "21-22行目と同様に、set_dout()を使います。\n",
    "\n",
    "dout0をOFFにするため、pin_id=0、value=Falseです。"
   ]
  },
  {
   "attachments": {},
   "cell_type": "markdown",
   "id": "8d1fa249",
   "metadata": {},
   "source": [
    "#### 28-29行目:\n",
    "```python\n",
    "# 2秒停止する\n",
    "time.sleep(2)\n",
    "```\n",
    "23-24行目と同様です。"
   ]
  },
  {
   "attachments": {},
   "cell_type": "markdown",
   "id": "6da5a026-dd3e-400a-a007-f51932446efe",
   "metadata": {
    "tags": []
   },
   "source": [
    "## 最後に\n",
    "これでQ2-3は終了です。次は、PWM出力の制御を学習してみましょう。"
   ]
  },
  {
   "attachments": {},
   "cell_type": "markdown",
   "id": "0ac62a1d-2a93-4fe8-abce-889db09580d7",
   "metadata": {},
   "source": [
    "[次の問題へ](q2-4_pwmout.ipynb)"
   ]
  }
 ],
 "metadata": {
  "kernelspec": {
   "display_name": "Python 3",
   "language": "python",
   "name": "python3"
  },
  "language_info": {
   "codemirror_mode": {
    "name": "ipython",
    "version": 3
   },
   "file_extension": ".py",
   "mimetype": "text/x-python",
   "name": "python",
   "nbconvert_exporter": "python",
   "pygments_lexer": "ipython3",
   "version": "3.6.8 (tags/v3.6.8:3c6b436a57, Dec 24 2018, 00:16:47) [MSC v.1916 64 bit (AMD64)]"
  },
  "vscode": {
   "interpreter": {
    "hash": "045823372ae896803066400baabdd9ce57da994bf40a6bcd023d2de1b7d884a6"
   }
  }
 },
 "nbformat": 4,
 "nbformat_minor": 5
}
