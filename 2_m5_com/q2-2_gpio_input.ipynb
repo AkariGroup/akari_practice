{
 "cells": [
  {
   "cell_type": "markdown",
   "id": "499fadb4-dc42-40f4-a10e-839eaa98ca98",
   "metadata": {},
   "source": [
    "# Q2-2.GPIO入力の取得"
   ]
  },
  {
   "cell_type": "markdown",
   "id": "89b6d771-a611-45d4-8c7f-02304465ca6c",
   "metadata": {
    "tags": []
   },
   "source": [
    "## 問題\n",
    "**Q2-2.テストヘッドのdin0ボタン入力があったときにコマンドラインに「din0がONです。」と表示されるようにしましょう。**"
   ]
  },
  {
   "cell_type": "code",
   "execution_count": null,
   "id": "34197f04-6a3f-4369-890d-cf8e4c91990e",
   "metadata": {},
   "outputs": [],
   "source": [
    "#!/usr/bin/env python\n",
    "# -*- coding: utf-8 -*-\n",
    "\n",
    "# M5との通信の際はakari_clientのライブラリをインポートする\n",
    "from akari_client import AkariClient\n",
    "# sleep関数を使うためにtimeのライブラリをインポートする。\n",
    "import time\n",
    "\n",
    "# AkariClient、m5stackのインスタンスを取得する\n",
    "akari = AkariClient()\n",
    "m5 = akari.m5stack\n",
    "\n",
    "### ここから問題  ###\n",
    "\"\"\"(処理を書く)\"\"\"\n",
    "### ここまで  ###"
   ]
  },
  {
   "cell_type": "markdown",
   "id": "27784c1b-4331-4439-8218-8d0cd8861ff4",
   "metadata": {},
   "source": [
    "### ヒント\n",
    "\n",
    "**M5からの情報を取得するには、 _get()_ を使います。**\n",
    "\n",
    "[Q2-1](q2-1_button.ipynb)を参考にしましょう。流れはほとんど一緒です。  \n",
    "Q2-1の _\"button_a\"_ を _\"din0\"_ に変更すれば、din0の結果が取得できます。  \n",
    "あとはprintするメッセージを変更しましょう。  \n",
    "\n",
    "_M5ConDict_ から取得できるデータとキーの一覧は[akari_manual](https://akarigroup.github.io/docs/source/spec/soft_base.html#akari_client.m5stack_client.M5ComDict)を参照してください。  \n",
    "今回はボタンAの値を取得したいので、[\"din0\"]というキーを使用します。  \n",
    "\n",
    "下記のセルを実行すると使い方の例が見られます。"
   ]
  },
  {
   "cell_type": "code",
   "execution_count": null,
   "id": "3a501672-89a3-46b4-aa3a-761a95dd10dc",
   "metadata": {},
   "outputs": [],
   "source": [
    "# M5との通信の際はakari_clientのライブラリをインポートする\n",
    "from akari_client import AkariClient\n",
    "\n",
    "# AkariClient、m5stackのインスタンスを取得する\n",
    "akari = AkariClient()\n",
    "m5 = akari.m5stack\n",
    "\n",
    "m5_data = m5.get()\n",
    "print(\"din0は\" + str(m5_data[\"din0\"]) + \"です。\")"
   ]
  },
  {
   "cell_type": "markdown",
   "id": "f1b99d23",
   "metadata": {},
   "source": [
    "din0, din1のデフォルトはHiのため、ボタンを押していない状態では True が出力されます。  \n",
    "if文に渡す際に True のままだとボタンを押していない間、常にif文の中身が実行されてしまいます。  \n",
    "\n",
    "そこでnot演算子を使用して、din0の値を反転させて活用します。  \n",
    "not演算子については下記を参照してください。  \n",
    "https://www.python.jp/train/logical_oper/not_oper.html\n",
    "\n",
    "下記のセルを実行すると使い方の例が見られます。"
   ]
  },
  {
   "cell_type": "code",
   "execution_count": null,
   "id": "ae7fc37c",
   "metadata": {},
   "outputs": [],
   "source": [
    "# M5との通信の際はakari_clientのライブラリをインポートする\n",
    "from akari_client import AkariClient\n",
    "\n",
    "# AkariClient、m5stackのインスタンスを取得する\n",
    "akari = AkariClient()\n",
    "m5 = akari.m5stack\n",
    "\n",
    "m5_data = m5.get()\n",
    "if (not m5_data[\"din0\"]):\n",
    "    print(\"din0が押されています。\")\n",
    "else:\n",
    "    print(\"din0が押されていません。\")"
   ]
  },
  {
   "cell_type": "markdown",
   "id": "b57ed4d0-2700-46b1-9697-d5979814fa65",
   "metadata": {},
   "source": [
    "完成したら実行してみましょう。  \n",
    "テストヘッドdin0を押した際、コマンドラインに \"din0がONです。\" と表示されたら成功です。"
   ]
  },
  {
   "cell_type": "markdown",
   "id": "2dc388b4-f781-4c60-b4ff-cbace60934b8",
   "metadata": {
    "tags": []
   },
   "source": [
    "## 回答と解説\n",
    "以下は回答例と解説です。動作が正しければ、これと同じでなくても問題ありません。"
   ]
  },
  {
   "cell_type": "code",
   "execution_count": null,
   "id": "6fba88ef-ef82-480e-82a6-72e3c3491460",
   "metadata": {},
   "outputs": [],
   "source": [
    "#!/usr/bin/env python\n",
    "# -*- coding: utf-8 -*-\n",
    "\n",
    "# M5との通信の際はakari_clientのライブラリをインポートする\n",
    "from akari_client import AkariClient\n",
    "# sleep関数を使うためにtimeのライブラリをインポートする。\n",
    "import time\n",
    "\n",
    "# AkariClient、m5stackのインスタンスを取得する\n",
    "akari = AkariClient()\n",
    "m5 = akari.m5stack\n",
    "\n",
    "### ここから問題  ###\n",
    "while(True):\n",
    "    m5_data = m5.get()\n",
    "    if(not m5_data[\"din0\"]):\n",
    "        print(\"din0がONです。\")\n",
    "    time.sleep(0.1)\n",
    "### ここまで  ###"
   ]
  },
  {
   "cell_type": "markdown",
   "id": "5735f15d-f72e-461f-b38d-996540b5bec1",
   "metadata": {},
   "source": [
    "#### 14行目:\n",
    "```python\n",
    "while(True):\n",
    "```\n",
    "M5の情報を取得→din0の判定をループするので、while文を使います。  \n",
    "終了するまで繰り返し続けるので、条件式は True です。"
   ]
  },
  {
   "cell_type": "markdown",
   "id": "01a16423",
   "metadata": {},
   "source": [
    "#### 15行目:\n",
    "```python\n",
    "m5_data = m5.get()\n",
    "```\n",
    "[Q2-1](q2-1_button.ipynb)と同様、 _m5_ という名前のAkariClient().m5stackのインスタンスを作成しています。  \n",
    "この場合、AkariClient().m5stackに含まれる関数は _m5_data.関数名_ という形で呼び出します。\n",
    "\n",
    "使用する関数は、Q2-1と同様get()関数です。"
   ]
  },
  {
   "cell_type": "markdown",
   "id": "82a8251f",
   "metadata": {},
   "source": [
    "#### 16-17行目:\n",
    "```python\n",
    "if(not m5_data[\"din0\"]):\n",
    "    print(\"din0がONです。\")\n",
    "```\n",
    "m5_data[\"din0\"]にdin0の値が格納されています。  \n",
    "din0がHiなら True 、Loなら False です。  \n",
    "\n",
    "not演算子をつけることで値が反転するため、  \n",
    "if文を用いて、この値が True の時のみ、\"din0がONです\"というメッセージをprintするようにします。"
   ]
  },
  {
   "cell_type": "markdown",
   "id": "9145d1fe",
   "metadata": {},
   "source": [
    "#### 18行目:\n",
    "```python\n",
    "time.sleep(0.1)\n",
    "```\n",
    "18行目以降はループしており、M5のデータを取得→ボタンAが押されているか判定する、という処理を繰り返しています。  \n",
    "ループの最後に0.1秒のスリープを入れて、ループ速度の調整をしています。  \n",
    "\n",
    "[Q2-1](q2-1_button.ipynb)と同じく0.1秒としていますが、時間を色々変えて試してみるといいでしょう。"
   ]
  },
  {
   "cell_type": "markdown",
   "id": "e1fbcd27-8d98-4c93-a711-64e650a3d449",
   "metadata": {
    "tags": []
   },
   "source": [
    "## Tips"
   ]
  },
  {
   "cell_type": "markdown",
   "id": "83140fe5-9d81-44db-93c0-27b3ac41f2aa",
   "metadata": {
    "tags": []
   },
   "source": [
    "#### その他の入力を取得するには？\n",
    "din1、ain0も同様に取得できます。17行目以下に下記を追加してみましょう。  \n",
    "```python\n",
    "if(not m5_data[\"din1\"]):\n",
    "    print(\"din1がONです\")\n",
    "print(\"ain0の値は\" + str(m5_data[\"ain0\"]) + \"です\")\n",
    "```\n",
    "din1,ain0のステータスも同時に取得できるようになります。  \n",
    "\n",
    "ain0はアナログ入力なので、0-255の数値が返ってきます。  \n",
    "今回は、毎回ain0の値を出力するようにしています。"
   ]
  },
  {
   "cell_type": "markdown",
   "id": "6da5a026-dd3e-400a-a007-f51932446efe",
   "metadata": {
    "tags": []
   },
   "source": [
    "## 最後に\n",
    "これでQ2-2は終了です。次は、デジタル出力の制御を学習してみましょう。"
   ]
  },
  {
   "cell_type": "markdown",
   "id": "0ac62a1d-2a93-4fe8-abce-889db09580d7",
   "metadata": {},
   "source": [
    "[次の問題へ](q2-3_dout.ipynb)"
   ]
  }
 ],
 "metadata": {
  "kernelspec": {
   "display_name": "Python 3 (ipykernel)",
   "language": "python",
   "name": "python3"
  },
  "language_info": {
   "codemirror_mode": {
    "name": "ipython",
    "version": 3
   },
   "file_extension": ".py",
   "mimetype": "text/x-python",
   "name": "python",
   "nbconvert_exporter": "python",
   "pygments_lexer": "ipython3",
   "version": "3.8.10"
  },
  "vscode": {
   "interpreter": {
    "hash": "e7370f93d1d0cde622a1f8e1c04877d8463912d04d973331ad4851f04de6915a"
   }
  }
 },
 "nbformat": 4,
 "nbformat_minor": 5
}
