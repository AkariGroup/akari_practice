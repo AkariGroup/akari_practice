{
 "cells": [
  {
   "cell_type": "markdown",
   "id": "499fadb4-dc42-40f4-a10e-839eaa98ca98",
   "metadata": {},
   "source": [
    "# Q2-6.自動ライト"
   ]
  },
  {
   "cell_type": "markdown",
   "id": "89b6d771-a611-45d4-8c7f-02304465ca6c",
   "metadata": {
    "tags": []
   },
   "source": [
    "## 問題\n",
    "**Q2-6.環境明るさの取得値をコマンドラインに表示し、3000以上の場合のみ、テストヘッドのdout0のLEDをONにする自動ライトを作りましょう。**"
   ]
  },
  {
   "cell_type": "code",
   "execution_count": null,
   "id": "34197f04-6a3f-4369-890d-cf8e4c91990e",
   "metadata": {},
   "outputs": [],
   "source": [
    "#!/usr/bin/env python\n",
    "# -*- coding: utf-8 -*-\n",
    "\n",
    "# M5との通信の際はakari_clientのライブラリをインポートする\n",
    "from akari_client import AkariClient\n",
    "# sleep関数を使うためにtimeのライブラリをインポートする。\n",
    "import time\n",
    "\n",
    "\n",
    "def main() -> None:\n",
    "    \"\"\"\n",
    "    メイン関数\n",
    "    \"\"\"\n",
    "\n",
    "    # AkariClient、m5stackのインスタンスを取得する\n",
    "    akari = AkariClient()\n",
    "    m5 = akari.m5stack\n",
    "\n",
    "    ### ここから問題  ###\n",
    "    # Ctrl + Cで終了するまでループし続ける\n",
    "    while(True):\n",
    "        m5_data = \"\"\"(M5から値を取得する関数)\"\"\"\n",
    "        # 取得した明るさをコマンドラインに表示。\n",
    "        \"\"\"(明るさ値をコマンドラインに表示する処理)\"\"\"\n",
    "        # 3000以上ならdout0をONにする。\n",
    "        \"\"\"(明るさ3000以上ならdout0をON、3000未満ならOFFにする処理)\"\"\"\n",
    "        # 0.5秒停止処理を入れる。\n",
    "        time.sleep(0.5)\n",
    "    ### ここまで  ###\n",
    "\n",
    "\n",
    "if __name__ == '__main__':\n",
    "    main()"
   ]
  },
  {
   "cell_type": "markdown",
   "id": "27784c1b-4331-4439-8218-8d0cd8861ff4",
   "metadata": {},
   "source": [
    "### ヒント\n",
    "\n",
    "**Q2-3、Q2-5を参考にしましょう。**\n",
    "\n",
    "[Q2-5](q2-5_temperature.ipynb)と同じように _get()_ を使ってM5のセンサ情報を取得します。  \n",
    "返り値のm5_dataの中で、今回参照するのは[\"brightness\"]のキーです。\n",
    "\n",
    "明るさ値は0-4095で、 暗くなるほど値が大きくなります。  \n",
    "今回は取得した明るさ値が3000以上かどうかをif文で判定して3000以上ならdout0をON、3000未満ならOFFにします。  \n",
    "\n",
    "dout0のON、OFFの方法は[Q2-3](q2-3_dout.ipynb)と同じです。"
   ]
  },
  {
   "cell_type": "markdown",
   "id": "b57ed4d0-2700-46b1-9697-d5979814fa65",
   "metadata": {},
   "source": [
    "完成したら実行してみましょう。  \n",
    "0.5秒ごとにコマンドライン上に明るさ値が表示されるはずです。  \n",
    "AKARIのボディー部の、AKARIから見て右側面に光センサがついています。  \n",
    "これを手で覆ってみるなどして、コマンドラインに表示されている明るさ値が3000以上になった時にdout0のLEDが点灯、3000未満で消灯すれば成功です。"
   ]
  },
  {
   "cell_type": "markdown",
   "id": "2dc388b4-f781-4c60-b4ff-cbace60934b8",
   "metadata": {
    "tags": []
   },
   "source": [
    "## 回答と解説\n",
    "以下は回答例と解説です。動作が正しければ、これと同じでなくても問題ありません。"
   ]
  },
  {
   "cell_type": "code",
   "execution_count": null,
   "id": "6fba88ef-ef82-480e-82a6-72e3c3491460",
   "metadata": {},
   "outputs": [],
   "source": [
    "#!/usr/bin/env python\n",
    "# -*- coding: utf-8 -*-\n",
    "\n",
    "# M5との通信の際はakari_clientのライブラリをインポートする\n",
    "from akari_client import AkariClient\n",
    "# sleep関数を使うためにtimeのライブラリをインポートする\n",
    "import time\n",
    "\n",
    "\n",
    "def main() -> None:\n",
    "    \"\"\"\n",
    "    メイン関数\n",
    "    \"\"\"\n",
    "\n",
    "    # AkariClient、m5stackのインスタンスを取得する\n",
    "    akari = AkariClient()\n",
    "    m5 = akari.m5stack\n",
    "\n",
    "    ### ここから問題  ###\n",
    "    # Ctrl + Cで終了するまでループし続ける\n",
    "    while(True):\n",
    "        m5_data = m5.get()\n",
    "        # 取得した明るさをコマンドラインに表示。\n",
    "        print(\"明るさ値は\" + str(m5_data[\"brightness\"]) + \"です。\")\n",
    "        # 3000以上ならdout0をONにする。\n",
    "        if(m5_data[\"brightness\"] >= 3000):\n",
    "            m5.set_dout(pin_id=0, value=True)\n",
    "        else:\n",
    "            m5.set_dout(pin_id=0, value=False)\n",
    "        # 0.5秒停止処理を入れる。\n",
    "        time.sleep(0.5)\n",
    "    ### ここまで  ###\n",
    "\n",
    "\n",
    "if __name__ == '__main__':\n",
    "    main()"
   ]
  },
  {
   "cell_type": "markdown",
   "id": "5735f15d-f72e-461f-b38d-996540b5bec1",
   "metadata": {},
   "source": [
    "#### 22行目:\n",
    "```python\n",
    "m5_data = m5.get()\n",
    "```\n",
    "[Q2-5](q2-5_temperature.ipynb)と同じように _m5_ という名前でAkariClient().m5stackのインスタンスを作成しているので、m5.get()という形で呼び出します。"
   ]
  },
  {
   "cell_type": "markdown",
   "id": "01a16423",
   "metadata": {},
   "source": [
    "#### 23-24行目:\n",
    "```python\n",
    "# 取得した明るさをコマンドラインに表示。\n",
    "print(\"明るさ値は\" + str(m5_data[\"brightness\"]) + \"です。\")\n",
    "```\n",
    "今回は、\"m5_data[\"brightnesss\"]\" を参照します。[Q2-5](q2-5_temperature.ipynb)と同様、この値を文字列に変換した上で、前後に文字列を合成して、\"明るさ値は〇〇です。\"という表示にします。"
   ]
  },
  {
   "cell_type": "markdown",
   "id": "82a8251f",
   "metadata": {},
   "source": [
    "#### 25-29行目:\n",
    "```python\n",
    "# 3000以上ならdout0をONにする。\n",
    "if(m5_data[\"brightness\"] >= 3000):\n",
    "    m5.set_dout(pin_id=0, value=True)\n",
    "else:\n",
    "    m5.set_dout(pin_id=0, value=False)\n",
    "```\n",
    "m5_data[\"brightness\"]が3000以上かどうかを、if文を使って判定します。 3000以上の場合はdout0をONにします。  \n",
    "[Q2-3](q2-3_dout.ipynb)と同様m5.set_dout()を使います。 _pin_id=0_ , _value=True_ です。\n",
    "\n",
    "3000以下の場合の処理はelse以下に書きます。  \n",
    "dout0をOFFにするには同じくm5.set_dout()を使い、 _pin_id=0_ , _value=False_ です。"
   ]
  },
  {
   "cell_type": "markdown",
   "id": "6da5a026-dd3e-400a-a007-f51932446efe",
   "metadata": {
    "tags": []
   },
   "source": [
    "## 最後に\n",
    "これでQ2-6は終了です。次は、手動ライトをつくってみましょう。"
   ]
  },
  {
   "cell_type": "markdown",
   "id": "0ac62a1d-2a93-4fe8-abce-889db09580d7",
   "metadata": {},
   "source": [
    "[次の問題へ](q2-7_manual_light.ipynb)"
   ]
  }
 ],
 "metadata": {
  "kernelspec": {
   "display_name": "Python 3 (ipykernel)",
   "language": "python",
   "name": "python3"
  },
  "language_info": {
   "codemirror_mode": {
    "name": "ipython",
    "version": 3
   },
   "file_extension": ".py",
   "mimetype": "text/x-python",
   "name": "python",
   "nbconvert_exporter": "python",
   "pygments_lexer": "ipython3",
   "version": "3.8.10"
  },
  "vscode": {
   "interpreter": {
    "hash": "e7370f93d1d0cde622a1f8e1c04877d8463912d04d973331ad4851f04de6915a"
   }
  }
 },
 "nbformat": 4,
 "nbformat_minor": 5
}
