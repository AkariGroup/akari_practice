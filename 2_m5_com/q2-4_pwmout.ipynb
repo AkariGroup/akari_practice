{
 "cells": [
  {
   "cell_type": "markdown",
   "id": "499fadb4-dc42-40f4-a10e-839eaa98ca98",
   "metadata": {},
   "source": [
    "# Q2-4.PWM出力の制御"
   ]
  },
  {
   "cell_type": "markdown",
   "id": "89b6d771-a611-45d4-8c7f-02304465ca6c",
   "metadata": {
    "tags": []
   },
   "source": [
    "## 問題\n",
    "**Q2-4.テストヘッドのpwmout0のLEDを0-250まで10刻みで明るくしていく処理を書きましょう。**  \n",
    "明るさを変化させるごとに0.5秒停止する処理をいれてください。  \n",
    "250になったら明るさを0にしてから終了してください。"
   ]
  },
  {
   "cell_type": "code",
   "execution_count": null,
   "id": "34197f04-6a3f-4369-890d-cf8e4c91990e",
   "metadata": {},
   "outputs": [],
   "source": [
    "#!/usr/bin/env python\n",
    "# -*- coding: utf-8 -*-\n",
    "\n",
    "# M5との通信の際はakari_clientのライブラリをインポートする\n",
    "from akari_client import AkariClient\n",
    "# sleep関数を使うためにtimeのライブラリをインポートする。\n",
    "import time\n",
    "\n",
    "# AkariClient、m5stackのインスタンスを取得する\n",
    "akari = AkariClient()\n",
    "m5 = akari.m5stack\n",
    "\n",
    "### ここから問題  ###\n",
    "\"\"\"(処理を書く)\"\"\"\n",
    "### ここまで  ###"
   ]
  },
  {
   "cell_type": "markdown",
   "id": "27784c1b-4331-4439-8218-8d0cd8861ff4",
   "metadata": {},
   "source": [
    "### ヒント\n",
    "\n",
    "**M5のPWM出力を制御するには、 _set_pwmout()_ を使います。**\n",
    "```python\n",
    "akari_client.m5stack_client.set_pwmout(self, pin_id: int, value: int, sync: bool = True) -> None:\n",
    "\"\"\"ヘッド部GPIOピンのPWM出力を設定する。\n",
    "\n",
    "Args:\n",
    "    pin_id: pin番号。デフォルトではpwmout0しかないため、0を指定すること。\n",
    "    value: PWM出力の値。 0-255で指定し、0で0V、255で3.3Vを出力する。\n",
    "    sync: 同期実行の指定。``True``の場合M5側で実行完了するまで関数の終了待ちを行う。\n",
    "\"\"\"\n",
    "```\n",
    "\n",
    "下記のセルを実行すると使い方の例が見られます。"
   ]
  },
  {
   "cell_type": "code",
   "execution_count": 1,
   "id": "3a501672-89a3-46b4-aa3a-761a95dd10dc",
   "metadata": {},
   "outputs": [],
   "source": [
    "# M5との通信の際はakari_clientのライブラリをインポートする\n",
    "from akari_client import AkariClient\n",
    "\n",
    "# AkariClient、m5stackのインスタンスを取得する\n",
    "akari = AkariClient()\n",
    "m5 = akari.m5stack\n",
    "\n",
    "# pwmout0を255に\n",
    "m5.set_pwmout(pin_id=0, value=255)"
   ]
  },
  {
   "cell_type": "markdown",
   "id": "adbd1a93",
   "metadata": {},
   "source": [
    "**処理を反復するには、 _for_ を使います。**\n",
    "\n",
    "for文は、条件の範囲内で処理を反復する方法です。  \n",
    "for文の使い方はいくつかあるので、下記を参照してみてください。  \n",
    "https://www.python.jp/train/list/list_forloop.html\n",
    "\n",
    "今回は`for i in range(start, end, step):`を使いましょう。  \n",
    "この場合変数 i が start から始まり end に達するまで、 step ずつ増加します。\n",
    "\n",
    "下記のセルを実行すると使い方の例が見れます。"
   ]
  },
  {
   "cell_type": "code",
   "execution_count": null,
   "id": "67a6e76b",
   "metadata": {},
   "outputs": [],
   "source": [
    "#1,3,5,7が出力されるfor文\n",
    "for i in range(1, 9, 2):\n",
    "  print(i)"
   ]
  },
  {
   "cell_type": "markdown",
   "id": "100aebec",
   "metadata": {},
   "source": [
    "上のセルを参考に、iを0〜250まで10ずつ増加させ、それをset_dout()の _value=_ に与えましょう。\n",
    "\n",
    "明るさを変化させるごとに0.5秒スリープする、ループから抜けたら明るさを0にする、という処理を入れるように指定されています。  \n",
    "それらを入れるタイミングにも気を付けましょう。"
   ]
  },
  {
   "cell_type": "markdown",
   "id": "b57ed4d0-2700-46b1-9697-d5979814fa65",
   "metadata": {},
   "source": [
    "完成したら実行してみましょう。  \n",
    "テストヘッドのpwmout0のLEDが0.5秒ごとにだんだん明るくなったら成功です。"
   ]
  },
  {
   "cell_type": "markdown",
   "id": "2dc388b4-f781-4c60-b4ff-cbace60934b8",
   "metadata": {
    "tags": []
   },
   "source": [
    "## 回答と解説\n",
    "以下は回答例と解説です。動作が正しければ、これと同じでなくても問題ありません。"
   ]
  },
  {
   "cell_type": "code",
   "execution_count": 3,
   "id": "6fba88ef-ef82-480e-82a6-72e3c3491460",
   "metadata": {},
   "outputs": [],
   "source": [
    "#!/usr/bin/env python\n",
    "# -*- coding: utf-8 -*-\n",
    "\n",
    "# M5との通信の際はakari_clientのライブラリをインポートする\n",
    "from akari_client import AkariClient\n",
    "# sleep関数を使うためにtimeのライブラリをインポートする\n",
    "import time\n",
    "\n",
    "# AkariClient、m5stackのインスタンスを取得する\n",
    "akari = AkariClient()\n",
    "m5 = akari.m5stack\n",
    "\n",
    "### ここから問題  ###\n",
    "# iを0から250まで10ずつ増加させる\n",
    "for i in range(0, 250, 10):\n",
    "    # pwmout0の出力をiにする\n",
    "    m5.set_pwmout(pin_id=0, value=i)\n",
    "    time.sleep(0.5)\n",
    "# ループ処理が終了したらpwmout0の出力を0にする\n",
    "m5.set_pwmout(pin_id=0, value=0)\n",
    "### ここまで  ###"
   ]
  },
  {
   "cell_type": "markdown",
   "id": "5735f15d-f72e-461f-b38d-996540b5bec1",
   "metadata": {},
   "source": [
    "#### 15行目:\n",
    "```python\n",
    "for i in range(0, 250, 10):\n",
    "```\n",
    "for文を使って変数 i を変化させていきます。 i はpwmout0の明るさとして与えるので、0から250まで10ずつ変化させます。"
   ]
  },
  {
   "cell_type": "markdown",
   "id": "01a16423",
   "metadata": {},
   "source": [
    "#### 17行目:\n",
    "```python\n",
    "m5.set_pwmout(pin_id=0, value=i)\n",
    "```\n",
    "これまでの問題と同様、11行目で _m5_ という名前でAkariClient().m5stackのインスタンスを作成しているので、m5.set_pwmout()という形で書きます。\n",
    "\n",
    "pin_idは0、valueはfor文で変化させる _i_ を使います。  \n",
    "i が10ずつ増加するので、この値を引数にします。"
   ]
  },
  {
   "cell_type": "markdown",
   "id": "82a8251f",
   "metadata": {},
   "source": [
    "#### 18行目:\n",
    "```python\n",
    "time.sleep(0.5)\n",
    "```\n",
    "0.5秒間停止させるように問題文で指示されているので、time.sleep()を使って0.5秒停止します。"
   ]
  },
  {
   "cell_type": "markdown",
   "id": "9145d1fe",
   "metadata": {},
   "source": [
    "#### 20行目:\n",
    "```python\n",
    "m5.set_pwmout(pin_id=0, value=0)\n",
    "```\n",
    "ループが完了したあとに出力を0にするよう指示されているので、for文の外にset_pwmout()を書きます。\n",
    "\n",
    "pwmout0を0にするため、 _pin_id=0_ 、 _value=0_ です。"
   ]
  },
  {
   "cell_type": "markdown",
   "id": "e1fbcd27-8d98-4c93-a711-64e650a3d449",
   "metadata": {
    "tags": []
   },
   "source": [
    "## Tips"
   ]
  },
  {
   "cell_type": "markdown",
   "id": "83140fe5-9d81-44db-93c0-27b3ac41f2aa",
   "metadata": {
    "tags": []
   },
   "source": [
    "#### dout0, dout1との同時制御\n",
    "\n",
    "_set_allout()_ を使うことで、3ピン同時に制御することもできます。\n",
    "```python\n",
    "akari_client.m5stack_client.set_allout(\n",
    "        self,\n",
    "        *,\n",
    "        dout0: bool,\n",
    "        dout1: bool,\n",
    "        pwmout0: int,\n",
    "        sync: bool = True,\n",
    "    ) -> None:\n",
    "\"\"\"ヘッド部GPIOピンの出力をまとめて設定する。\n",
    "\n",
    "Args:\n",
    "    dout0: dout0の出力値。``False``で0V,``True``で3.3V出力。\n",
    "    dout1: dout1の出力値。``False``で0V,``True``で3.3V出力。\n",
    "    pwmout0: pwmout0の出力値。0-255で指定し、0で0V、255で3.3Vを出力する。\n",
    "    sync: 同期実行の指定。``True``の場合M5側で実行完了するまで関数の終了待ちを行う。\n",
    "\n",
    "\"\"\"\n",
    "```\n",
    "\n",
    "下記のセルを実行するとdout0をLo,dout1をHi,pwmout0を200にすることができます。"
   ]
  },
  {
   "cell_type": "code",
   "execution_count": 4,
   "id": "81859742",
   "metadata": {},
   "outputs": [],
   "source": [
    "# pwmout0を255に\n",
    "m5.set_allout(dout0=False, dout1=True, pwmout0=200)"
   ]
  },
  {
   "cell_type": "markdown",
   "id": "6da5a026-dd3e-400a-a007-f51932446efe",
   "metadata": {
    "tags": []
   },
   "source": [
    "## 最後に\n",
    "これでQ2-4は終了です。次は、温度データを取得してみましょう。"
   ]
  },
  {
   "cell_type": "markdown",
   "id": "0ac62a1d-2a93-4fe8-abce-889db09580d7",
   "metadata": {},
   "source": [
    "[次の問題へ](q2-5_temperature.ipynb)"
   ]
  }
 ],
 "metadata": {
  "kernelspec": {
   "display_name": "Python 3",
   "language": "python",
   "name": "python3"
  },
  "language_info": {
   "codemirror_mode": {
    "name": "ipython",
    "version": 3
   },
   "file_extension": ".py",
   "mimetype": "text/x-python",
   "name": "python",
   "nbconvert_exporter": "python",
   "pygments_lexer": "ipython3",
   "version": "3.8.10"
  },
  "vscode": {
   "interpreter": {
    "hash": "e7370f93d1d0cde622a1f8e1c04877d8463912d04d973331ad4851f04de6915a"
   }
  }
 },
 "nbformat": 4,
 "nbformat_minor": 5
}
