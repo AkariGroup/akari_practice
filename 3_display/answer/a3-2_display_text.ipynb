{
 "cells": [
  {
   "cell_type": "markdown",
   "id": "499fadb4-dc42-40f4-a10e-839eaa98ca98",
   "metadata": {},
   "source": [
    "# A3-2.ディスプレイテキストの表示"
   ]
  },
  {
   "cell_type": "markdown",
   "id": "89b6d771-a611-45d4-8c7f-02304465ca6c",
   "metadata": {
    "tags": []
   },
   "source": [
    "## 回答\n",
    "**Q3-2.M5のディスプレイの真中中央に\"こんにちは\"という文字を表示してみましょう。**\n",
    "\n",
    "以下はコード例です。問題文を満たしていれば、これと同じでなくても問題ありません。"
   ]
  },
  {
   "cell_type": "code",
   "execution_count": null,
   "id": "34197f04-6a3f-4369-890d-cf8e4c91990e",
   "metadata": {},
   "outputs": [],
   "source": [
    "#!/usr/bin/env python\n",
    "# -*- coding: utf-8 -*-\n",
    "\n",
    "\"\"\"\n",
    "Q3-2.M5のディスプレイの真中中央に\"こんにちは\"という文字を表示してみましょう。\n",
    "ヒント1: 文字を表示するにはset_display_text()という関数を使います。\n",
    "        この関数は引数が多くやや複雑です。\n",
    "        まずはコメントを読みながら穴埋めをし、コードを実行してみましょう。\n",
    "        その後、変数を色々変えてどう表示が変わるか試してみましょう。\n",
    "ヒント2: 文字と背景の色は、画面の色変更と同じように黒なら'black'、白なら'white'を入れればOKです。\n",
    "\"\"\"\n",
    "\n",
    "# akari_clientをインポートする。\n",
    "from akari_client import AkariClient\n",
    "from akari_client.color import Colors\n",
    "from akari_client.position import Positions\n",
    "\n",
    "# sleep関数を使うためにtimeのライブラリをインポートする。\n",
    "import time\n",
    "\n",
    "\n",
    "def main() -> None:\n",
    "    \"\"\"\n",
    "    メイン関数\n",
    "    \"\"\"\n",
    "\n",
    "    with AkariClient() as akari:\n",
    "        # m5と通信するクラスを呼び出す\n",
    "        m5 = akari.m5stack\n",
    "\n",
    "        ### ここから問題  ###\n",
    "        # textは'こんにちは'\n",
    "        text = \"こんにちは\"\n",
    "        # 左右表示位置を0-320で座標指定。０が左。Positions.LEFTで左揃え、Positions.CENTERで画面中央揃え、Positions.RIGHTで画面右揃え\n",
    "        pos_x = Positions.CENTER\n",
    "        # 上下表示位置を0-240で座標指定。0が上。Positions.TOPで上揃え、Positions.CENTERで画面中央揃え、Positions.BOTTOMで画面下揃え\n",
    "        pos_y = Positions.CENTER\n",
    "        # 文字サイズは3\n",
    "        size = 3\n",
    "        # 文字色は黒\n",
    "        text_color = Colors.BLACK\n",
    "        # 背景色は白\n",
    "        back_color = Colors.WHITE\n",
    "        # 背景をリセット\n",
    "        refresh = True\n",
    "        # set_display_textを実行\n",
    "        result = m5.set_display_text(\n",
    "            text, pos_x, pos_y, size, text_color, back_color, refresh)\n",
    "        ### ここまで  ###\n",
    "\n",
    "\n",
    "if __name__ == '__main__':\n",
    "    main()"
   ]
  },
  {
   "cell_type": "markdown",
   "id": "27784c1b-4331-4439-8218-8d0cd8861ff4",
   "metadata": {},
   "source": [
    "### 解説\n",
    "**33行目:**\n",
    "```python\n",
    "    text = 'こんにちは'\n",
    "```\n",
    "textの引数には、str形式で出力したい文字列を与えます。  \n",
    "  \n",
    "**35行目:**\n",
    "```python\n",
    "    pos_x = Positions.CENTER\n",
    "```\n",
    "左右表示位置は0-320で座標指定ですが、Positions.CENTERを入れると真中揃えになります。  \n",
    "  \n",
    "**37行目:**\n",
    "```python\n",
    "    pos_y = Positions.CENTER\n",
    "```\n",
    "上下表示位置は0-240で座標指定ですが、Positions.CENTERで画面中央揃えになります。  \n",
    "  \n",
    "**39行目:**\n",
    "```python\n",
    "    text_color = Color.BLACK\n",
    "```\n",
    "文字の色は黒なので、text_colorはColor.BLACKを指定します。  \n",
    "  \n",
    "**41行目:**\n",
    "```python\n",
    "    back_color = Color.WHITE\n",
    "```\n",
    "背景色は白なので、back_colorはColor.WHITEを指定します。  \n",
    "  \n",
    "回答のセルを実行すると、画面に「こんにちは」という文字が表示されます。"
   ]
  },
  {
   "cell_type": "markdown",
   "id": "287da284-3564-47c6-921a-fd098ea6475c",
   "metadata": {},
   "source": [
    "[Q3-2へ戻る](../question/q3-2_display_text.ipynb)  \n",
    "[Q3-3へ進む](../question/q3-2_display_text_2.ipynb)"
   ]
  }
 ],
 "metadata": {
  "kernelspec": {
   "display_name": "Python 3 (ipykernel)",
   "language": "python",
   "name": "python3"
  },
  "language_info": {
   "codemirror_mode": {
    "name": "ipython",
    "version": 3
   },
   "file_extension": ".py",
   "mimetype": "text/x-python",
   "name": "python",
   "nbconvert_exporter": "python",
   "pygments_lexer": "ipython3",
   "version": "3.8.11"
  }
 },
 "nbformat": 4,
 "nbformat_minor": 5
}
