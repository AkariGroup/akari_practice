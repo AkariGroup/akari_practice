{
 "cells": [
  {
   "cell_type": "markdown",
   "id": "499fadb4-dc42-40f4-a10e-839eaa98ca98",
   "metadata": {},
   "source": [
    "# A3-2.ディスプレイテキストの表示"
   ]
  },
  {
   "cell_type": "code",
   "execution_count": 2,
   "id": "4e40f778-472e-4bd0-9c59-66761087d446",
   "metadata": {},
   "outputs": [
    {
     "name": "stdout",
     "output_type": "stream",
     "text": [
      "('en_US', 'UTF-8')\n"
     ]
    }
   ],
   "source": [
    "import locale\n",
    "print(str(locale.getlocale()))"
   ]
  },
  {
   "cell_type": "markdown",
   "id": "89b6d771-a611-45d4-8c7f-02304465ca6c",
   "metadata": {
    "tags": []
   },
   "source": [
    "## 回答\n",
    "**Q3-5. M5のディスプレイに時:分:秒を表示する時計を作りましょう。**  \n",
    "ヒント1: 現在時刻を返す独自関数 get_time() を作成してあります。これを使ってみましょう。  \n",
    "         返り値として時:分:秒の文字列が得られます。  \n",
    "ヒント2: Q3-4を参考に書いてみましょう。  \n",
    "         背景の色、文字の色やサイズ、ループのあとの停止時間をどれくらいにするか、などで見栄えの良さが変わります。少し難しいですが、よりかっこいいアプリを目指して色々試してみましょう。  \n",
    "          \n",
    "以下はコード例です。問題文を満たしていれば、これと同じでなくても問題ありません。"
   ]
  },
  {
   "cell_type": "code",
   "execution_count": 1,
   "id": "34197f04-6a3f-4369-890d-cf8e4c91990e",
   "metadata": {},
   "outputs": [
    {
     "ename": "Error",
     "evalue": "unsupported locale setting",
     "output_type": "error",
     "traceback": [
      "\u001b[0;31m---------------------------------------------------------------------------\u001b[0m",
      "\u001b[0;31mError\u001b[0m                                     Traceback (most recent call last)",
      "Input \u001b[0;32mIn [1]\u001b[0m, in \u001b[0;36m<cell line: 74>\u001b[0;34m()\u001b[0m\n\u001b[1;32m     71\u001b[0m             time\u001b[38;5;241m.\u001b[39msleep(\u001b[38;5;241m0.3\u001b[39m)\n\u001b[1;32m     74\u001b[0m \u001b[38;5;28;01mif\u001b[39;00m \u001b[38;5;18m__name__\u001b[39m \u001b[38;5;241m==\u001b[39m \u001b[38;5;124m'\u001b[39m\u001b[38;5;124m__main__\u001b[39m\u001b[38;5;124m'\u001b[39m:\n\u001b[0;32m---> 75\u001b[0m     \u001b[43mmain\u001b[49m\u001b[43m(\u001b[49m\u001b[43m)\u001b[49m\n",
      "Input \u001b[0;32mIn [1]\u001b[0m, in \u001b[0;36mmain\u001b[0;34m()\u001b[0m\n\u001b[1;32m     51\u001b[0m m5\u001b[38;5;241m.\u001b[39mset_display_color(Colors\u001b[38;5;241m.\u001b[39mBLACK)\n\u001b[1;32m     52\u001b[0m \u001b[38;5;28;01mwhile\u001b[39;00m(\u001b[38;5;28;01mTrue\u001b[39;00m):\n\u001b[1;32m     53\u001b[0m     \u001b[38;5;66;03m# 表示する時刻は、独自関数を呼び出して取得する。\u001b[39;00m\n\u001b[0;32m---> 54\u001b[0m     text \u001b[38;5;241m=\u001b[39m \u001b[43mget_time\u001b[49m\u001b[43m(\u001b[49m\u001b[43m)\u001b[49m\n\u001b[1;32m     55\u001b[0m     \u001b[38;5;66;03m# 左右表示位置は真中揃え\u001b[39;00m\n\u001b[1;32m     56\u001b[0m     pos_x \u001b[38;5;241m=\u001b[39m Positions\u001b[38;5;241m.\u001b[39mCENTER\n",
      "Input \u001b[0;32mIn [1]\u001b[0m, in \u001b[0;36mget_time\u001b[0;34m()\u001b[0m\n\u001b[1;32m     28\u001b[0m \u001b[38;5;124;03m\"\"\"\u001b[39;00m\n\u001b[1;32m     29\u001b[0m \u001b[38;5;124;03m現在時刻を返す独自関数\u001b[39;00m\n\u001b[1;32m     30\u001b[0m \u001b[38;5;124;03m引数:なし\u001b[39;00m\n\u001b[1;32m     31\u001b[0m \u001b[38;5;124;03m返り値: 時:分:秒の文字列\u001b[39;00m\n\u001b[1;32m     32\u001b[0m \u001b[38;5;124;03m\"\"\"\u001b[39;00m\n\u001b[1;32m     33\u001b[0m \u001b[38;5;66;03m# 現在時刻を取得。\u001b[39;00m\n\u001b[0;32m---> 34\u001b[0m \u001b[43mlocale\u001b[49m\u001b[38;5;241;43m.\u001b[39;49m\u001b[43msetlocale\u001b[49m\u001b[43m(\u001b[49m\u001b[43mlocale\u001b[49m\u001b[38;5;241;43m.\u001b[39;49m\u001b[43mLC_ALL\u001b[49m\u001b[43m,\u001b[49m\u001b[43m \u001b[49m\u001b[38;5;124;43m'\u001b[39;49m\u001b[38;5;124;43men_US\u001b[39;49m\u001b[38;5;124;43m'\u001b[39;49m\u001b[43m)\u001b[49m\n\u001b[1;32m     35\u001b[0m dt_now \u001b[38;5;241m=\u001b[39m datetime\u001b[38;5;241m.\u001b[39mdatetime\u001b[38;5;241m.\u001b[39mnow()\n\u001b[1;32m     36\u001b[0m \u001b[38;5;66;03m# 時:分:秒を返す。\u001b[39;00m\n",
      "File \u001b[0;32m/usr/local/lib/python3.8/locale.py:608\u001b[0m, in \u001b[0;36msetlocale\u001b[0;34m(category, locale)\u001b[0m\n\u001b[1;32m    605\u001b[0m \u001b[38;5;28;01mif\u001b[39;00m locale \u001b[38;5;129;01mand\u001b[39;00m \u001b[38;5;129;01mnot\u001b[39;00m \u001b[38;5;28misinstance\u001b[39m(locale, _builtin_str):\n\u001b[1;32m    606\u001b[0m     \u001b[38;5;66;03m# convert to string\u001b[39;00m\n\u001b[1;32m    607\u001b[0m     locale \u001b[38;5;241m=\u001b[39m normalize(_build_localename(locale))\n\u001b[0;32m--> 608\u001b[0m \u001b[38;5;28;01mreturn\u001b[39;00m \u001b[43m_setlocale\u001b[49m\u001b[43m(\u001b[49m\u001b[43mcategory\u001b[49m\u001b[43m,\u001b[49m\u001b[43m \u001b[49m\u001b[43mlocale\u001b[49m\u001b[43m)\u001b[49m\n",
      "\u001b[0;31mError\u001b[0m: unsupported locale setting"
     ]
    }
   ],
   "source": [
    "#!/usr/bin/env python\n",
    "# -*- coding: utf-8 -*-\n",
    "\n",
    "\"\"\"\n",
    "Q3-5. M5のディスプレイに時:分:秒を表示する時計を作りましょう。\n",
    "ヒント1: 現在時刻を返す独自関数 get_time() を作成してあります。これを使ってみましょう。\n",
    "         返り値として時:分:秒の文字列が得られます。\n",
    "ヒント2: Q3-4を参考に書いてみましょう。\n",
    "         背景の色、文字の色やサイズ、ループのあとの停止時間をどれくらいにするか、などで見栄えの良さが\n",
    "         変わります。少し難しいですが、よりかっこいいアプリを目指して色々試してみましょう。\n",
    "\"\"\"\n",
    "\n",
    "# akari_clientをインポートする。\n",
    "from akari_client import AkariClient\n",
    "from akari_client.color import Colors\n",
    "from akari_client.position import Positions\n",
    "\n",
    "# sleep関数を使うためにtimeのライブラリをインポートする。\n",
    "import time\n",
    "# 時刻取得に必要なライブラリをインポートする。\n",
    "import datetime\n",
    "import locale\n",
    "\n",
    "import os\n",
    "\n",
    "\n",
    "def get_time() -> str:\n",
    "    \"\"\"\n",
    "    現在時刻を返す独自関数\n",
    "    引数:なし\n",
    "    返り値: 時:分:秒の文字列\n",
    "    \"\"\"\n",
    "    # 現在時刻を取得。\n",
    "    locale.setlocale(locale.LC_ALL, 'en_US')\n",
    "    dt_now = datetime.datetime.now()\n",
    "    # 時:分:秒を返す。\n",
    "    return (dt_now.strftime('%H:%M:%S'))\n",
    "\n",
    "### ここから問題  ###\n",
    "\n",
    "def main() -> None:\n",
    "    \"\"\"\n",
    "    メイン関数\n",
    "    \"\"\"\n",
    "\n",
    "    with AkariClient() as akari:\n",
    "        # m5と通信するクラスを呼び出す\n",
    "        m5 = akari.m5stack\n",
    "\n",
    "        # M5のディスプレイの背景色を黒にする\n",
    "        m5.set_display_color(Colors.BLACK)\n",
    "        while(True):\n",
    "            # 表示する時刻は、独自関数を呼び出して取得する。\n",
    "            text = get_time()\n",
    "            # 左右表示位置は真中揃え\n",
    "            pos_x = Positions.CENTER\n",
    "            # 上下表示位置は中央揃え\n",
    "            pos_y = Positions.CENTER\n",
    "            # 文字サイズは4にする\n",
    "            size = 4\n",
    "            # 文字色は白\n",
    "            text_color = Colors.WHITE\n",
    "            # 背景色は黒\n",
    "            back_color = Colors.BLACK\n",
    "            # 背景をリセットしない\n",
    "            refresh = False\n",
    "            # set_display_textを実行\n",
    "            result = m5.set_display_text(\n",
    "                text, pos_x, pos_y, size, text_color, back_color, refresh)\n",
    "            # 0.3秒停止\n",
    "            time.sleep(0.3)\n",
    "\n",
    "\n",
    "if __name__ == '__main__':\n",
    "    main()\n",
    "### ここまで  ###"
   ]
  },
  {
   "cell_type": "markdown",
   "id": "27784c1b-4331-4439-8218-8d0cd8861ff4",
   "metadata": {},
   "source": [
    "### 解説\n",
    "**33行目:**\n",
    "```python\n",
    "    text = 'こんにちは'\n",
    "```\n",
    "textの引数には、str形式で出力したい文字列を与えます。  \n",
    "  \n",
    "**35行目:**\n",
    "```python\n",
    "    pos_x = Positions.CENTER\n",
    "```\n",
    "左右表示位置は0-320で座標指定ですが、Positions.CENTERを入れると真中揃えになります。  \n",
    "  \n",
    "**37行目:**\n",
    "```python\n",
    "    pos_y = Positions.CENTER\n",
    "```\n",
    "上下表示位置は0-240で座標指定ですが、Positions.CENTERで画面中央揃えになります。  \n",
    "  \n",
    "**39行目:**\n",
    "```python\n",
    "    text_color = Color.BLACK\n",
    "```\n",
    "文字の色は黒なので、text_colorはColor.BLACKを指定します。  \n",
    "  \n",
    "**41行目:**\n",
    "```python\n",
    "    back_color = Color.WHITE\n",
    "```\n",
    "背景色は白なので、back_colorはColor.WHITEを指定します。  \n",
    "  \n",
    "回答のセルを実行すると、画面に「こんにちは」という文字が表示されます。"
   ]
  },
  {
   "cell_type": "markdown",
   "id": "287da284-3564-47c6-921a-fd098ea6475c",
   "metadata": {},
   "source": [
    "[Q3-2へ戻る](../question/q3-2_display_text.ipynb)  \n",
    "[Q3-3へ進む](../question/q3-2_display_text_2.ipynb)"
   ]
  }
 ],
 "metadata": {
  "kernelspec": {
   "display_name": "Python 3 (ipykernel)",
   "language": "python",
   "name": "python3"
  },
  "language_info": {
   "codemirror_mode": {
    "name": "ipython",
    "version": 3
   },
   "file_extension": ".py",
   "mimetype": "text/x-python",
   "name": "python",
   "nbconvert_exporter": "python",
   "pygments_lexer": "ipython3",
   "version": "3.8.11"
  }
 },
 "nbformat": 4,
 "nbformat_minor": 5
}
