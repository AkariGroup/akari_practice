{
 "cells": [
  {
   "cell_type": "markdown",
   "id": "499fadb4-dc42-40f4-a10e-839eaa98ca98",
   "metadata": {},
   "source": [
    "# Q3-5.デジタル時計"
   ]
  },
  {
   "cell_type": "markdown",
   "id": "89b6d771-a611-45d4-8c7f-02304465ca6c",
   "metadata": {
    "tags": []
   },
   "source": [
    "## 問題\n",
    "  **Q3-5.M5のディスプレイに時:分:秒を表示する時計を作りましょう。**"
   ]
  },
  {
   "cell_type": "code",
   "execution_count": null,
   "id": "34197f04-6a3f-4369-890d-cf8e4c91990e",
   "metadata": {},
   "outputs": [],
   "source": [
    "#!/usr/bin/env python\n",
    "# -*- coding: utf-8 -*-\n",
    "\n",
    "# akari_clientをインポートする。\n",
    "from akari_client import AkariClient\n",
    "# 色を指定する際に使うColors,Colorのインポート\n",
    "from akari_client.color import Colors\n",
    "# 位置を指定する際に使うPositionsのインポート\n",
    "from akari_client.position import Positions\n",
    "# sleep関数を使うためにtimeのライブラリをインポートする。\n",
    "import time\n",
    "# 時刻取得に必要なライブラリをインポートする。\n",
    "import datetime\n",
    "import locale\n",
    "\n",
    "# AkariClient、m5stackのインスタンスを取得する\n",
    "akari = AkariClient()\n",
    "m5 = akari.m5stack\n",
    "\n",
    "\n",
    "def get_time() -> str:\n",
    "    \"\"\"\n",
    "    現在時刻を返す独自関数\n",
    "    引数:なし\n",
    "    返り値: 時:分:秒の文字列\n",
    "    \"\"\"\n",
    "    # 現在時刻を取得。\n",
    "    locale.setlocale(locale.LC_TIME, 'ja_JP.UTF-8')\n",
    "    dt_now = datetime.datetime.now()\n",
    "    # 時:分:秒を返す。\n",
    "    return (dt_now.strftime('%H:%M:%S'))\n",
    "\n",
    "\n",
    "### ここから問題  ###\n",
    "\n",
    "\"\"\"(コードを記述)\"\"\"\n",
    "\n",
    "### ここまで  ###"
   ]
  },
  {
   "cell_type": "markdown",
   "id": "65e7e0da",
   "metadata": {},
   "source": [
    "### 動作イメージ"
   ]
  },
  {
   "cell_type": "code",
   "execution_count": null,
   "id": "5ecf4603",
   "metadata": {},
   "outputs": [],
   "source": [
    "from IPython.display import Image\n",
    "Image('image/q3-5.jpg')"
   ]
  },
  {
   "cell_type": "markdown",
   "id": "27784c1b-4331-4439-8218-8d0cd8861ff4",
   "metadata": {},
   "source": [
    "### ヒント\n",
    "[Q3-4](q3-4_pressure_sensor.ipynb)と同様、関数が実装されています。\n",
    "まずはQ3-4を参考にすれば、1秒ごとに値を更新して表示する方法は分かるはずです。  \n",
    "\n",
    "今回は時刻の文字列を返す _get_time()_ という関数があらかじめ実装されているので、これをQ3-4の _get_pressure()_ の代わりに使っていきます。  \n",
    "\n",
    "時計の表示する文字の指定はありません。背景の色や文字の色、サイズや表示位置など色々試しながら、見栄えを調整してみましょう。  "
   ]
  },
  {
   "cell_type": "markdown",
   "id": "b57ed4d0-2700-46b1-9697-d5979814fa65",
   "metadata": {},
   "source": [
    "完成したら実行してみましょう。  \n",
    "M5のディスプレイに時:分:秒のデジタル時計が表示されていれば成功です。"
   ]
  },
  {
   "cell_type": "markdown",
   "id": "d047344a-2470-4249-882e-5c227ec292c8",
   "metadata": {
    "tags": []
   },
   "source": [
    "## 回答と解説\n",
    "以下は回答例と解説です。動作が正しければ、これと同じでなくても問題ありません。"
   ]
  },
  {
   "cell_type": "code",
   "execution_count": null,
   "id": "cfa587da-f810-4ebd-987d-19cfddd74116",
   "metadata": {},
   "outputs": [],
   "source": [
    "#!/usr/bin/env python\n",
    "# -*- coding: utf-8 -*-\n",
    "\n",
    "# akari_clientをインポートする。\n",
    "from akari_client import AkariClient\n",
    "# 色を指定する際に使うColors,Colorのインポート\n",
    "from akari_client.color import Colors\n",
    "# 位置を指定する際に使うPositionsのインポート\n",
    "from akari_client.position import Positions\n",
    "# sleep関数を使うためにtimeのライブラリをインポートする。\n",
    "import time\n",
    "# 時刻取得に必要なライブラリをインポートする。\n",
    "import datetime\n",
    "import locale\n",
    "\n",
    "# AkariClient、m5stackのインスタンスを取得する\n",
    "akari = AkariClient()\n",
    "m5 = akari.m5stack\n",
    "\n",
    "\n",
    "def get_time() -> str:\n",
    "    \"\"\"\n",
    "    現在時刻を返す独自関数\n",
    "    引数:なし\n",
    "    返り値: 時:分:秒の文字列\n",
    "    \"\"\"\n",
    "    # 現在時刻を取得。\n",
    "    locale.setlocale(locale.LC_TIME, 'ja_JP.UTF-8')\n",
    "    dt_now = datetime.datetime.now()\n",
    "    # 時:分:秒を返す。\n",
    "    return (dt_now.strftime('%H:%M:%S'))\n",
    "\n",
    "\n",
    "### ここから問題  ###\n",
    "m5.set_display_color(Colors.BLACK)\n",
    "while(True):\n",
    "    # 表示する時刻は、独自関数を呼び出して取得する。\n",
    "    text = get_time()\n",
    "    # 左右表示位置は真中揃え\n",
    "    pos_x = Positions.CENTER\n",
    "    # 上下表示位置は中央揃え\n",
    "    pos_y = Positions.CENTER\n",
    "    # 文字サイズは7にする\n",
    "    size = 7\n",
    "    # 文字色は白\n",
    "    text_color = Colors.WHITE\n",
    "    # 背景色は黒\n",
    "    back_color = Colors.BLACK\n",
    "    # 背景をリセットしない\n",
    "    refresh = False\n",
    "    # set_display_textを実行\n",
    "    m5.set_display_text(\n",
    "        text=text,\n",
    "        pos_x=pos_x,\n",
    "        pos_y=pos_y,\n",
    "        size=size,\n",
    "        text_color=text_color,\n",
    "        back_color=back_color,\n",
    "        refresh=refresh\n",
    "        )\n",
    "### ここまで  ###"
   ]
  },
  {
   "cell_type": "markdown",
   "id": "61d42804-6ac4-4c04-89bd-2f1746043a36",
   "metadata": {
    "tags": []
   },
   "source": [
    "#### 35行目:\n",
    "```python\n",
    "m5.set_display_color(Colors.BLACK)\n",
    "```\n",
    "今回はディスプレイの背景を黒に変更しています。\n",
    "\n",
    "#### 36行目:\n",
    "```python\n",
    "while(True):\n",
    "```\n",
    "時刻を取得してディスプレイを更新する処理はwhile文でループします。\n",
    "\n",
    "#### 38行目:\n",
    "```python\n",
    "text = get_time()\n",
    "```\n",
    "既に実装されている _get_time()_ を用いて、時刻の文字列を取得してtextに代入します。\n",
    "\n",
    "#### 40行目:\n",
    "```python\n",
    "pos_x = Positions.CENTER\n",
    "```\n",
    "左右表示位置を真中揃えにします。Positions.CENTERで真中になります。\n",
    "\n",
    "#### 42行目:\n",
    "```python\n",
    "pos_y = Positions.CENTER\n",
    "```\n",
    "上下表示位置を真中揃えにします。Positions.CENTERで真中になります。\n",
    "\n",
    "#### 44行目:\n",
    "```python\n",
    "size = 7\n",
    "```\n",
    "今回は文字サイズを7にしています。\n",
    "\n",
    "#### 46行目:\n",
    "```python\n",
    "text_color = Colors.WHITE\n",
    "```\n",
    "今回は文字色を白にしています。\n",
    "\n",
    "#### 48行目:\n",
    "```python\n",
    "back_color = Colors.BLACK\n",
    "```\n",
    "今回は背景色を黒にしています。\n",
    "\n",
    "#### 50行目:\n",
    "```python\n",
    "refresh = False\n",
    "```\n",
    "同じ場所に表示し続けるので、背景はリセットしなくても問題ないです。\n",
    "\n",
    "#### 52行目:\n",
    "```python\n",
    "m5.set_display_text(\n",
    "        text=text,\n",
    "        pos_x=pos_x,\n",
    "        pos_y=pos_y,\n",
    "        size=size,\n",
    "        text_color=text_color,\n",
    "        back_color=back_color,\n",
    "        refresh=refresh\n",
    "        )\n",
    "```\n",
    "ここまで設定した変数を引数として、 _set_display_text()を実行します。"
   ]
  },
  {
   "cell_type": "markdown",
   "id": "af70840e",
   "metadata": {},
   "source": [
    "# Tips"
   ]
  },
  {
   "cell_type": "markdown",
   "id": "98ca038a",
   "metadata": {},
   "source": [
    "#### 時刻の取得方法\n",
    "\n",
    "**datetime型**  \n",
    "\n",
    "21-31行目の _get_time()_ では、datetime型を使って時刻を取得しています。  \n",
    "\n",
    "_datetime.datetime.now()_ で現在の日時が取得できます。  \n",
    "下記のセルを実行すると使い方の例が見られます。"
   ]
  },
  {
   "cell_type": "code",
   "execution_count": null,
   "id": "681b02a2",
   "metadata": {},
   "outputs": [],
   "source": [
    "import datetime\n",
    "\n",
    "dt_now = datetime.datetime.now()\n",
    "print(dt_now)"
   ]
  },
  {
   "cell_type": "markdown",
   "id": "99724674",
   "metadata": {},
   "source": [
    "datetime型はそのまま日時の差を計算したり、日や時、分など特定の要素のみを抽出できたりなど非常に便利です。  \n",
    "詳細は下記を参照してください。  \n",
    "https://note.nkmk.me/python-datetime-timedelta-measure-time/"
   ]
  },
  {
   "cell_type": "markdown",
   "id": "ac8ae23e-3cfd-41c5-b51a-c2bc6429878c",
   "metadata": {
    "tags": []
   },
   "source": [
    "## 最後に\n",
    "これでQ3-5は終了です。次は、チャレンジ問題に取り組んでみましょう。"
   ]
  },
  {
   "cell_type": "markdown",
   "id": "0ac62a1d-2a93-4fe8-abce-889db09580d7",
   "metadata": {},
   "source": [
    "[Q4-1へ](../4_challenge/q4-1_temperature_logger.ipynb)"
   ]
  }
 ],
 "metadata": {
  "kernelspec": {
   "display_name": "Python 3 (ipykernel)",
   "language": "python",
   "name": "python3"
  },
  "language_info": {
   "codemirror_mode": {
    "name": "ipython",
    "version": 3
   },
   "file_extension": ".py",
   "mimetype": "text/x-python",
   "name": "python",
   "nbconvert_exporter": "python",
   "pygments_lexer": "ipython3",
   "version": "3.10.6"
  },
  "vscode": {
   "interpreter": {
    "hash": "045823372ae896803066400baabdd9ce57da994bf40a6bcd023d2de1b7d884a6"
   }
  }
 },
 "nbformat": 4,
 "nbformat_minor": 5
}
