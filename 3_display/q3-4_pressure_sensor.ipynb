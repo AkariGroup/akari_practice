{
    "cells": [
        {
            "cell_type": "markdown",
            "id": "499fadb4-dc42-40f4-a10e-839eaa98ca98",
            "metadata": {},
            "source": [
                "# Q3-4.気圧計"
            ]
        },
        {
            "cell_type": "markdown",
            "id": "89b6d771-a611-45d4-8c7f-02304465ca6c",
            "metadata": {
                "tags": []
            },
            "source": [
                "## 問題\n",
                "  **Q3-4.M5のディスプレイに圧力センサの値を表示しましょう。**"
            ]
        },
        {
            "cell_type": "code",
            "execution_count": null,
            "id": "34197f04-6a3f-4369-890d-cf8e4c91990e",
            "metadata": {},
            "outputs": [],
            "source": [
                "#!/usr/bin/env python\n",
                "# -*- coding: utf-8 -*-\n",
                "\n",
                "# akari_clientをインポートする。\n",
                "from akari_client import AkariClient\n",
                "# 色を指定する際に使うColors,Colorのインポート\n",
                "from akari_client.color import Colors\n",
                "# 位置を指定する際に使うPositionsのインポート\n",
                "from akari_client.position import Positions\n",
                "# sleep関数を使うためにtimeのライブラリをインポートする。\n",
                "import time\n",
                "\n",
                "# AkariClient、m5stackのインスタンスを取得する\n",
                "akari = AkariClient()\n",
                "m5 = akari.m5stack\n",
                "\n",
                "\n",
                "def get_pressure() -> str:\n",
                "    \"\"\"\n",
                "    圧力センサの値を返す独自関数\n",
                "    引数:なし\n",
                "    返り値: 圧力値の文字列\n",
                "    \"\"\"\n",
                "    m5_data = m5.get()\n",
                "    # 圧力センサ値を小数点以下２桁にして、単位hPaを付けて返す。\n",
                "    return (str(round(m5_data['pressure'] / 100, 2)) + 'hPa')\n",
                "\n",
                "\n",
                "# M5のディスプレイの背景色を黒にする\n",
                "m5.set_display_color(Colors.BLACK)\n",
                "\n",
                "### ここから問題  ###\n",
                "while(True):\n",
                "    # 表示する圧力センサ値は、独自関数を呼び出して取得する。\n",
                "    text = \"\"\"(圧力センサの値を返す独自関数を呼ぶ)\"\"\"\n",
                "    # 左右表示位置は真中揃え\n",
                "    pos_x = Positions.CENTER\n",
                "    # 上下表示位置は中央揃え\n",
                "    pos_y = Positions.CENTER\n",
                "    # 文字サイズは5にする\n",
                "    size = \"\"\"(文字サイズを指定)\"\"\"\n",
                "    # 文字色は白\n",
                "    text_color = \"\"\"(文字色を指定)\"\"\"\n",
                "    # 背景色は黒\n",
                "    back_color = \"\"\"(背景色を指定)\"\"\"\n",
                "    # 背景をリセットする\n",
                "    refresh = True\n",
                "    # set_display_textを実行\n",
                "    \"\"\"(文字をM5に表示する処理)\"\"\"\n",
                "    # 1秒停止\n",
                "    time.sleep(1)\n",
                "### ここまで  ###"
            ]
        },
        {
            "cell_type": "markdown",
            "id": "4b09ee30",
            "metadata": {},
            "source": [
                "### 動作イメージ"
            ]
        },
        {
            "cell_type": "code",
            "execution_count": null,
            "id": "eedff828",
            "metadata": {},
            "outputs": [],
            "source": [
                "from IPython.display import Image\n",
                "Image('gif/q3-4.gif')"
            ]
        },
        {
            "cell_type": "markdown",
            "id": "27784c1b-4331-4439-8218-8d0cd8861ff4",
            "metadata": {},
            "source": [
                "### ヒント\n",
                "今回は、実装された関数を呼び出す方法も学習しましょう。\n",
                "\n",
                "18-26行目に _get_pressure()_ という関数がすでに実装されています。  \n",
                "こちらは、Q2で学習した _m5.get()_ を使って圧力センサの値を取得し、テキストに変換して返してくれる関数です。  \n",
                "\n",
                "この関数を35行目で呼び出して、返ってきたテキストを[Q3-2](q3-2_display_text.ipynb)と同じようにディスプレイに表示していきます。\n",
                "\n",
                "今回は49行目で _set_display_text()_ の実行部分も書く必要があります。Q3-2を参考に書いてみましょう。"
            ]
        },
        {
            "cell_type": "markdown",
            "id": "b57ed4d0-2700-46b1-9697-d5979814fa65",
            "metadata": {},
            "source": [
                "完成したら実行してみましょう。  \n",
                "M5のディスプレイに気圧の値が表示されていれば成功です。"
            ]
        },
        {
            "cell_type": "markdown",
            "id": "d047344a-2470-4249-882e-5c227ec292c8",
            "metadata": {
                "tags": []
            },
            "source": [
                "## 回答と解説\n",
                "以下は回答例と解説です。動作が正しければ、これと同じでなくても問題ありません。"
            ]
        },
        {
            "cell_type": "code",
            "execution_count": null,
            "id": "cfa587da-f810-4ebd-987d-19cfddd74116",
            "metadata": {},
            "outputs": [],
            "source": [
                "#!/usr/bin/env python\n",
                "# -*- coding: utf-8 -*-\n",
                "\n",
                "# akari_clientをインポートする。\n",
                "from akari_client import AkariClient\n",
                "# 色を指定する際に使うColors,Colorのインポート\n",
                "from akari_client.color import Colors\n",
                "# 位置を指定する際に使うPositionsのインポート\n",
                "from akari_client.position import Positions\n",
                "# sleep関数を使うためにtimeのライブラリをインポートする。\n",
                "import time\n",
                "\n",
                "# AkariClient、m5stackのインスタンスを取得する\n",
                "akari = AkariClient()\n",
                "m5 = akari.m5stack\n",
                "\n",
                "\n",
                "def get_pressure() -> str:\n",
                "    \"\"\"\n",
                "    圧力センサの値を返す独自関数\n",
                "    引数:なし\n",
                "    返り値: 圧力値の文字列\n",
                "    \"\"\"\n",
                "    m5_data = m5.get()\n",
                "    # 圧力センサ値を小数点以下２桁にして、単位hPaを付けて返す。\n",
                "    return (str(round(m5_data['pressure'] / 100, 2)) + 'hPa')\n",
                "\n",
                "\n",
                "# M5のディスプレイの背景色を黒にする\n",
                "m5.set_display_color(Colors.BLACK)\n",
                "\n",
                "### ここから問題  ###\n",
                "while(True):\n",
                "    # 表示する圧力センサ値は、独自関数を呼び出して取得する。\n",
                "    text = get_pressure()\n",
                "    # 左右表示位置は真中揃え\n",
                "    pos_x = Positions.CENTER\n",
                "    # 上下表示位置は中央揃え\n",
                "    pos_y = Positions.CENTER\n",
                "    # 文字サイズは5にする\n",
                "    size = 5\n",
                "    # 文字色は白\n",
                "    text_color = Colors.WHITE\n",
                "    # 背景色は黒\n",
                "    back_color = Colors.BLACK\n",
                "    # 背景をリセットする\n",
                "    refresh = True\n",
                "    # set_display_textを実行\n",
                "    m5.set_display_text(\n",
                "        text=text,\n",
                "        pos_x=pos_x,\n",
                "        pos_y=pos_y,\n",
                "        size=size,\n",
                "        text_color=text_color,\n",
                "        back_color=back_color,\n",
                "        refresh=refresh\n",
                "        )\n",
                "    # 1秒停止\n",
                "    time.sleep(1)\n",
                "### ここまで  ###"
            ]
        },
        {
            "cell_type": "markdown",
            "id": "61d42804-6ac4-4c04-89bd-2f1746043a36",
            "metadata": {
                "tags": []
            },
            "source": [
                "#### 35行目:\n",
                "```python\n",
                "text = get_pressure()\n",
                "```\n",
                "17行目で作成されている _get_pressure()_ を呼び出します。  \n",
                "この関数は、返り値がすでに'〇〇hPa'というstr形式になっているので、そのままtextの引数にできます。  \n",
                "\n",
                "#### 41行目:\n",
                "```python\n",
                "size = 5\n",
                "```\n",
                "コメントで文字サイズ5を指定されているので、5を入れます。\n",
                "\n",
                "#### 43行目:\n",
                "```python\n",
                "text_color = Colors.WHITE\n",
                "```\n",
                "コメントにしたがって、文字色は白にします。\n",
                "\n",
                "#### 45行目:\n",
                "```python\n",
                "back_color = Colors.BLACK\n",
                "```\n",
                "こちらもコメントにしたがって、背景色を黒にします。\n",
                "\n",
                "#### 49行目:\n",
                "```python\n",
                "m5.set_display_text(\n",
                "        text=text,\n",
                "        pos_x=pos_x,\n",
                "        pos_y=pos_y,\n",
                "        size=size,\n",
                "        text_color=text_color,\n",
                "        back_color=back_color,\n",
                "        refresh=refresh\n",
                "        )\n",
                "```\n",
                "[Q3-2](q3-2_display_text.ipynb)と同じように、 _set_display_text()_ を呼び出します。  \n",
                "34-49行目で設定した変数を引数として文字が表示されます。"
            ]
        },
        {
            "cell_type": "markdown",
            "id": "ac8ae23e-3cfd-41c5-b51a-c2bc6429878c",
            "metadata": {
                "tags": []
            },
            "source": [
                "## 最後に\n",
                "これでQ3-4は終了です。次は、テキスト表示を使ってデジタル時計をつくってみましょう。"
            ]
        },
        {
            "cell_type": "markdown",
            "id": "0ac62a1d-2a93-4fe8-abce-889db09580d7",
            "metadata": {},
            "source": [
                "[Q3-5へ](q3-5_clock.ipynb)"
            ]
        }
    ],
    "metadata": {
        "kernelspec": {
            "display_name": "Python 3 (ipykernel)",
            "language": "python",
            "name": "python3"
        },
        "language_info": {
            "codemirror_mode": {
                "name": "ipython",
                "version": 3
            },
            "file_extension": ".py",
            "mimetype": "text/x-python",
            "name": "python",
            "nbconvert_exporter": "python",
            "pygments_lexer": "ipython3",
            "version": "3.8.10"
        },
        "vscode": {
            "interpreter": {
                "hash": "e7370f93d1d0cde622a1f8e1c04877d8463912d04d973331ad4851f04de6915a"
            }
        }
    },
    "nbformat": 4,
    "nbformat_minor": 5
}