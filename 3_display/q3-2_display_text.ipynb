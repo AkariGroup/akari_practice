{
 "cells": [
  {
   "cell_type": "markdown",
   "id": "499fadb4-dc42-40f4-a10e-839eaa98ca98",
   "metadata": {},
   "source": [
    "# Q3-2.ディスプレイテキストの表示"
   ]
  },
  {
   "cell_type": "markdown",
   "id": "89b6d771-a611-45d4-8c7f-02304465ca6c",
   "metadata": {
    "tags": []
   },
   "source": [
    "## 問題\n",
    "**Q3-2.M5のディスプレイの真中中央に\"こんにちは\"という文字を表示してみましょう。**"
   ]
  },
  {
   "cell_type": "code",
   "execution_count": null,
   "id": "34197f04-6a3f-4369-890d-cf8e4c91990e",
   "metadata": {},
   "outputs": [],
   "source": [
    "#!/usr/bin/env python\n",
    "# -*- coding: utf-8 -*-\n",
    "\n",
    "# akari_clientをインポートする。\n",
    "from akari_client import AkariClient\n",
    "from akari_client.color import Colors\n",
    "from akari_client.position import Positions\n",
    "\n",
    "# sleep関数を使うためにtimeのライブラリをインポートする。\n",
    "import time\n",
    "\n",
    "\n",
    "def main() -> None:\n",
    "    \"\"\"\n",
    "    メイン関数\n",
    "    \"\"\"\n",
    "\n",
    "    with AkariClient() as akari:\n",
    "        # m5と通信するクラスを呼び出す\n",
    "        m5 = akari.m5stack\n",
    "\n",
    "        ### ここから問題  ###\n",
    "        # textは'こんにちは'\n",
    "        text = \"\"\"(表示したい文字を入力)\"\"\"\n",
    "        # 左右表示位置を0-320で座標指定。０が左。Positions.LEFTで左揃え、Positions.CENTERで画面中央揃え、Positions.RIGHTで画面右揃え\n",
    "        pos_x = \"\"\"(中央を指定)\"\"\"\n",
    "        # 上下表示位置を0-240で座標指定。0が上。Positions.TOPで上揃え、Positions.CENTERで画面中央揃え、Positions.BOTTOMで画面下揃え\n",
    "        pos_y = \"\"\"(中央を指定)\"\"\"\n",
    "        # 文字サイズは3\n",
    "        size = 3\n",
    "        # 文字色は黒\n",
    "        text_color = \"\"\"(黒を指定)\"\"\"\n",
    "        # 背景色は白\n",
    "        back_color = \"\"\"(白を指定)\"\"\"\n",
    "        # 背景をリセット\n",
    "        refresh = \"\"\"(True or False)\"\"\"\n",
    "        # set_display_textを実行\n",
    "        result = m5.set_display_text(\n",
    "            text, pos_x, pos_y, size, text_color, back_color, refresh)\n",
    "        ### ここまで  ###\n",
    "\n",
    "\n",
    "if __name__ == '__main__':\n",
    "    main()"
   ]
  },
  {
   "cell_type": "markdown",
   "id": "27784c1b-4331-4439-8218-8d0cd8861ff4",
   "metadata": {},
   "source": [
    "### ヒント\n",
    "M5のディスプレイにテキストを表示するには、 **set_display_text()** 関数を使います。  \n",
    "```python\n",
    "    set_display_text(\n",
    "            text: str,\n",
    "            pos_x: int,\n",
    "            pos_y: int,\n",
    "            size: int,\n",
    "            text_color: Optional[Color] = None,\n",
    "            back_color: Optional[Color] = None,\n",
    "            refresh: bool = False,\n",
    "            sync: bool = True,\n",
    "        ) -> None:\n",
    "```\n",
    "> M5のディスプレイに文字を表示。  \n",
    "> - 引数  \n",
    "str text: 表示される文字列。文字列最後に空白を挿入したい場合は空白の後ろに\"\\n\"をつけること。  \n",
    "int pos_x: x方向の開始ピクセルを0-320で指定。画面左端が0。文字列上端がここで指定した位置に描画される。  \n",
    "    Positions.LEFTで左揃え、Positions.CENTERで画面中央揃え、Positions.RIGHTで画面右揃えとなる。  \n",
    "int pos_y: y方向の開始ピクセルを0-240で指定。画面上端が0。文字列上端がここで指定した位置に描画される。 \n",
    "    Positions.TOPで上揃え、Positions.CENTERで画面中央揃え、Positions.BOTTOMで画面下揃えとなる。  \n",
    "int size: 文字サイズを1-7の7段階で指定。0の場合前回表示時の文字サイズをそのまま使う。  \n",
    "str text_color: テキスト色を名前で指定。使用可能な色名リストは後述。リストにない文字列の場合(空白など)の場合は前回値をそのまま使用。  \n",
    "str back_color: テキストの背景色を名前で指定。使用可能な色名リストは後述。リストにない文字列の場合(空白など)の場合は現在の背景色をそのまま使用。  \n",
    "bool refresh: trueの場合画面全体を現在の背景色で更新する。falseの場合は現在の表示を維持しつつ、指定表示範囲のみ更新する。  \n",
    "> - 返り値  \n",
    "bool result: M5へのserial送信完了でtrue。  \n",
    "\n",
    "下記のセルを実行すると使い方の例が見られます。"
   ]
  },
  {
   "cell_type": "code",
   "execution_count": null,
   "id": "3a501672-89a3-46b4-aa3a-761a95dd10dc",
   "metadata": {},
   "outputs": [],
   "source": [
    "# akari_clientをインポートする。\n",
    "from akari_client import AkariClient\n",
    "from akari_client.color import Colors\n",
    "#from akari_client.position import Positions\n",
    "\n",
    "\n",
    "with AkariClient() as akari:\n",
    "    # m5と通信するクラスを呼び出す\n",
    "    m5 = akari.m5stack\n",
    "    # textは'test'\n",
    "    text = 'test'\n",
    "    # 左右表示位置を0-320で座標指定。０が左。Positions.LEFTで左揃え、Positions.CENTERで画面中央揃え、Positions.RIGHTで画面右揃え\n",
    "    pos_x = -999\n",
    "    # 上下表示位置を0-240で座標指定。0が上。Positions.TOPで上揃え、Positions.CENTERで画面中央揃え、Positions.BOTTOMで画面下揃え\n",
    "    pos_y = -999\n",
    "    # 文字サイズは5\n",
    "    size = 5\n",
    "    # 文字色は赤\n",
    "    text_color = Colors.RED\n",
    "    # 背景色は白\n",
    "    back_color = Colors.WHITE\n",
    "    # 背景をリセット\n",
    "    refresh = True\n",
    "    # set_display_textを実行\n",
    "    result = m5.set_display_text(\n",
    "        text, pos_x, pos_y, size, text_color, back_color, refresh)"
   ]
  },
  {
   "cell_type": "markdown",
   "id": "302e793b-5f1b-40e4-9ef2-2cc7ea36c5b8",
   "metadata": {},
   "source": [
    "引数が多く少し複雑ですが、今回は引数部分のみ埋める問題ですので、一つ一つの項目を穴埋めした上で上のセルの使い方を参考にしましょう。  \n",
    "この関数はakari_client::m5stackに含まれており、問題の20行目でm5という名前でこのクラスのインスタンスを作成しています。  \n",
    "なので38行目のように、m5.set_display_text()としてこの関数を呼び出します。"
   ]
  },
  {
   "cell_type": "markdown",
   "id": "b57ed4d0-2700-46b1-9697-d5979814fa65",
   "metadata": {},
   "source": [
    "完成したら実行してみましょう。  \n",
    "AKARI本体のM5のディスプレイに「こんにちは」と表示されればOKです。"
   ]
  },
  {
   "cell_type": "markdown",
   "id": "d047344a-2470-4249-882e-5c227ec292c8",
   "metadata": {
    "tags": []
   },
   "source": [
    "## 回答と解説\n",
    "以下は回答例と解説です。動作が正しければ、これと同じでなくても問題ありません。"
   ]
  },
  {
   "cell_type": "code",
   "execution_count": null,
   "id": "cfa587da-f810-4ebd-987d-19cfddd74116",
   "metadata": {},
   "outputs": [],
   "source": [
    "#!/usr/bin/env python\n",
    "# -*- coding: utf-8 -*-\n",
    "\n",
    "# akari_clientをインポートする。\n",
    "from akari_client import AkariClient\n",
    "from akari_client.color import Colors\n",
    "from akari_client.position import Positions\n",
    "\n",
    "# sleep関数を使うためにtimeのライブラリをインポートする。\n",
    "import time\n",
    "\n",
    "\n",
    "def main() -> None:\n",
    "    \"\"\"\n",
    "    メイン関数\n",
    "    \"\"\"\n",
    "\n",
    "    with AkariClient() as akari:\n",
    "        # m5と通信するクラスを呼び出す\n",
    "        m5 = akari.m5stack\n",
    "\n",
    "        ### ここから問題  ###\n",
    "        # textは'こんにちは'\n",
    "        text = 'こんにちは'\n",
    "        # 左右表示位置を0-320で座標指定。０が左。Positions.LEFTで左揃え、Positions.CENTERで画面中央揃え、Positions.RIGHTで画面右揃え\n",
    "        pos_x = Positions.CENTER\n",
    "        # 上下表示位置を0-240で座標指定。0が上。Positions.TOPで上揃え、Positions.CENTERで画面中央揃え、Positions.BOTTOMで画面下揃え\n",
    "        pos_y = Positions.CENTER\n",
    "        # 文字サイズは3\n",
    "        size = 3\n",
    "        # 文字色は黒\n",
    "        text_color = Colors.BLACK\n",
    "        # 背景色は白\n",
    "        back_color = Colors.WHITE\n",
    "        # 背景をリセット\n",
    "        refresh = True\n",
    "        # set_display_textを実行\n",
    "        result = m5.set_display_text(\n",
    "            text, pos_x, pos_y, size, text_color, back_color, refresh)\n",
    "        ### ここまで  ###\n",
    "\n",
    "\n",
    "if __name__ == '__main__':\n",
    "    main()"
   ]
  },
  {
   "cell_type": "markdown",
   "id": "61d42804-6ac4-4c04-89bd-2f1746043a36",
   "metadata": {
    "tags": []
   },
   "source": [
    "#### 28行目:\n",
    "```python\n",
    "text = 'こんにちは'\n",
    "```\n",
    "\n",
    "textの引数には、str形式で出力したい文字列を与えます。\n",
    "\n",
    "#### 30行目:\n",
    "```python\n",
    "pos_x = Positions.CENTER\n",
    "```\n",
    "\n",
    "左右表示位置は0-320で座標指定ですが、Positions.CENTERを入れると真中揃えになります。\n",
    "\n",
    "#### 32行目:\n",
    "```python\n",
    "pos_y = Positions.CENTER\n",
    "```\n",
    "\n",
    "上下表示位置は0-240で座標指定ですが、Positions.CENTERを入れると真中揃えになります。\n",
    "\n",
    "#### 36行目:\n",
    "```python\n",
    "text_color = Colors.BLACK\n",
    "```\n",
    "\n",
    "文字の色は黒なので、text_colorは'Colors.BLACK'を指定します。\n",
    "\n",
    "#### 38行目:\n",
    "```python\n",
    "back_color = Colors.WHITE\n",
    "```\n",
    "\n",
    "背景色は白なので、back_colorは'Colors.WHITE'を指定します。"
   ]
  },
  {
   "cell_type": "markdown",
   "id": "ac8ae23e-3cfd-41c5-b51a-c2bc6429878c",
   "metadata": {
    "tags": []
   },
   "source": [
    "## 最後に\n",
    "これでQ3-2は終了です。次は、テキスト表示の別の使い方を学習してみましょう。"
   ]
  },
  {
   "cell_type": "markdown",
   "id": "0ac62a1d-2a93-4fe8-abce-889db09580d7",
   "metadata": {},
   "source": [
    "[Q3-3へ](q3-3_display_text_2.ipynb)"
   ]
  }
 ],
 "metadata": {
  "kernelspec": {
   "display_name": "Python 3 (ipykernel)",
   "language": "python",
   "name": "python3"
  },
  "language_info": {
   "codemirror_mode": {
    "name": "ipython",
    "version": 3
   },
   "file_extension": ".py",
   "mimetype": "text/x-python",
   "name": "python",
   "nbconvert_exporter": "python",
   "pygments_lexer": "ipython3",
   "version": "3.8.10"
  }
 },
 "nbformat": 4,
 "nbformat_minor": 5
}
