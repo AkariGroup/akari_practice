{
    "cells": [
        {
            "cell_type": "markdown",
            "id": "499fadb4-dc42-40f4-a10e-839eaa98ca98",
            "metadata": {},
            "source": [
                "# Q3-2.ディスプレイテキストの表示"
            ]
        },
        {
            "cell_type": "markdown",
            "id": "89b6d771-a611-45d4-8c7f-02304465ca6c",
            "metadata": {
                "tags": []
            },
            "source": [
                "## 問題\n",
                "**Q3-2.M5のディスプレイの中央に\"こんにちは\"という文字を表示してみましょう。**"
            ]
        },
        {
            "cell_type": "code",
            "execution_count": null,
            "id": "34197f04-6a3f-4369-890d-cf8e4c91990e",
            "metadata": {},
            "outputs": [],
            "source": [
                "#!/usr/bin/env python\n",
                "# -*- coding: utf-8 -*-\n",
                "\n",
                "# akari_clientをインポートする。\n",
                "from akari_client import AkariClient\n",
                "# 色を指定する際に使うColors,Colorのインポート\n",
                "from akari_client.color import Colors, Color\n",
                "# 位置を指定する際に使うPositionsのインポート\n",
                "from akari_client.position import Positions\n",
                "# sleep関数を使うためにtimeのライブラリをインポートする。\n",
                "import time\n",
                "\n",
                "# AkariClient、m5stackのインスタンスを取得する\n",
                "akari = AkariClient()\n",
                "m5 = akari.m5stack\n",
                "\n",
                "### ここから問題  ###\n",
                "# textは\"こんにちは\"\n",
                "text = \"\"\"(表示したい文字を入力)\"\"\"\n",
                "# 左右表示位置は中央\n",
                "pos_x = \"\"\"(中央の数値 or 位置指定)\"\"\"\n",
                "# 上下表示位置は中央\n",
                "pos_y = \"\"\"(中央の数値 or 位置指定)\"\"\"\n",
                "# 文字サイズは5\n",
                "size = 5\n",
                "# 文字色は黒\n",
                "text_color = \"\"\"(表示したい色を指定)\"\"\"\n",
                "# 背景色は白\n",
                "back_color = \"\"\"(表示したい色を指定)\"\"\"\n",
                "# set_display_textを実行\n",
                "m5.set_display_text(\n",
                "    text=text,\n",
                "    pos_x=pos_x,\n",
                "    pos_y=pos_y,\n",
                "    size=size,\n",
                "    text_color=text_color,\n",
                "    back_color=back_color,\n",
                "    refresh=refresh,\n",
                "    sync=sync,\n",
                "    )\n",
                "### ここまで  ###"
            ]
        },
        {
            "cell_type": "markdown",
            "id": "cfd1193d",
            "metadata": {},
            "source": [
                "### 動作イメージ"
            ]
        },
        {
            "cell_type": "code",
            "execution_count": null,
            "id": "89f1e5d2",
            "metadata": {},
            "outputs": [],
            "source": [
                "from IPython.display import Image\n",
                "Image('gif/q3-2.jpg')"
            ]
        },
        {
            "cell_type": "markdown",
            "id": "27784c1b-4331-4439-8218-8d0cd8861ff4",
            "metadata": {},
            "source": [
                "### ヒント\n",
                "M5のディスプレイにテキストを表示するには、 **set_display_text()** 関数を使います。  \n",
                "```python\n",
                "akari_client.m5stack_client.set_display_text(\n",
                "    self,\n",
                "    text: str,\n",
                "    pos_x: int = Positions.CENTER,\n",
                "    pos_y: int = Positions.CENTER,\n",
                "    size: int = 5,\n",
                "    text_color: Optional[Color] = None,\n",
                "    back_color: Optional[Color] = None,\n",
                "    refresh: bool = True,\n",
                "    sync: bool = True,\n",
                ") -> None:\n",
                "\"\"\"ボディー部M5のディスプレイに文字を表示する。\n",
                "\n",
                "Args:\n",
                "    text: 表示する文字列。\n",
                "    pos_x: x方向の描画位置ピクセルを0-320で指定。左端が0。 ``position.Positions`` を用いた位置指定も可能。デフォルト値は中央揃え。\n",
                "    pos_y: y方向の描画位置ピクセルを0-240で指定。上端が0。 ``position.Positions`` を用いた位置指定も可能。デフォルト値は中央揃え。\n",
                "    size: 文字サイズを1-11の11段階で指定。デフォルト値は5。\n",
                "    text_color: 文字色を指定。色は ``color.Colors`` から色名を引用する、もしくはRGBの数値指定も可能。値を指定しない場合、前回値を引き継ぐ。\n",
                "    back_color: 背景色を指定。色は ``color.Colors`` から色名を引用する、もしくはRGBの数値指定も可能。値を指定しない場合、画面全体の背景色に合わせる。\n",
                "    refresh: trueの場合画面全体を元の背景色で更新する。falseの場合は現在の表示を維持しつつ、文字を描画する範囲のみ更新する。デフォルト値は背景更新あり。\n",
                "    sync: 同期実行の指定。Trueの場合M5側で実行完了するまで関数の終了待ちを行う。\n",
                "\n",
                "\"\"\"\n",
                "```\n",
                "\n",
                "この関数はakari_client::AkariClientに含まれており、15行目でm5という名前でこのライブラリのインスタンスを作成しています。  \n",
                "なので31行目のように、_m5.set_display_text()_ としてこの関数を呼び出します。  \n",
                "\n",
                "下記のセルを実行すると使い方の例が見られます。"
            ]
        },
        {
            "cell_type": "code",
            "execution_count": null,
            "id": "4143f93f",
            "metadata": {},
            "outputs": [],
            "source": [
                "# akari_clientをインポートする。\n",
                "from akari_client import AkariClient\n",
                "\n",
                "# AkariClient、m5stackのインスタンスを取得する\n",
                "akari = AkariClient()\n",
                "m5 = akari.m5stack\n",
                "\n",
                "# AKARIと表示する\n",
                "m5.set_display_text(\"AKARI\")"
            ]
        },
        {
            "cell_type": "markdown",
            "id": "4d18cfc7",
            "metadata": {},
            "source": [
                "pos_x, pos_yに数値を入れることで表示位置を変更できます。"
            ]
        },
        {
            "cell_type": "code",
            "execution_count": null,
            "id": "2238bc3c",
            "metadata": {},
            "outputs": [],
            "source": [
                "# x=120,y=150に表示する\n",
                "m5.set_display_text(text=\"AKARI\", pos_x=120, pos_y=150)"
            ]
        },
        {
            "cell_type": "markdown",
            "id": "e38bfe46",
            "metadata": {},
            "source": [
                "pos_x, pos_yには Positions による位置指定も使えます。  \n",
                "pos_xにはLEFT, CENTER, RIGHT、pos_yにはTOP, CENTER, BOTTOMが使えます。"
            ]
        },
        {
            "cell_type": "code",
            "execution_count": null,
            "id": "fb1a50c5",
            "metadata": {},
            "outputs": [],
            "source": [
                "# 位置を指定する際に使うPositionsのインポート\n",
                "from akari_client.position import Positions\n",
                "\n",
                "# 右下に表示する\n",
                "m5.set_display_text(text=\"AKARI\", pos_x=Positions.RIGHT, pos_y=Positions.BOTTOM)"
            ]
        },
        {
            "cell_type": "markdown",
            "id": "7890ea39",
            "metadata": {},
            "source": [
                "text_color,back_colorを指定することで文字色と文字の背景色を変更できます。  \n",
                "色はset_display_colorと同様RGB値を指定する方法と、Colorsクラスから色名を指定する方法の両方を使うことができます。"
            ]
        },
        {
            "cell_type": "code",
            "execution_count": null,
            "id": "9f7ff59b",
            "metadata": {},
            "outputs": [],
            "source": [
                "# 色を指定する際に使うColors,Colorのインポート\n",
                "from akari_client.color import Colors\n",
                "\n",
                "# 文字の色を赤、背景の色を黒にする\n",
                "m5.set_display_text(text=\"AKARI\", text_color=Colors.RED, back_color=Colors.BLACK)"
            ]
        },
        {
            "cell_type": "code",
            "execution_count": null,
            "id": "7bcfd244",
            "metadata": {},
            "outputs": [],
            "source": [
                "# 色を指定する際に使うColors,Colorのインポート\n",
                "from akari_client.color import Color\n",
                "\n",
                "# 文字の色を(red=10,green=155,blue=10)、背景の色を(red=0,green=100,blue=200)にする\n",
                "m5.set_display_text(text=\"AKARI\", text_color=Color(red=10,green=155,blue=10), back_color=Color(red=0,green=100,blue=200))"
            ]
        },
        {
            "cell_type": "markdown",
            "id": "302e793b-5f1b-40e4-9ef2-2cc7ea36c5b8",
            "metadata": {},
            "source": [
                "引数が多く少し複雑ですが、今回は引数部分のみ埋める問題ですので、上のセルの使い方を参考にしながら一つ一つの項目を穴埋めしてみましょう。"
            ]
        },
        {
            "cell_type": "markdown",
            "id": "b57ed4d0-2700-46b1-9697-d5979814fa65",
            "metadata": {},
            "source": [
                "完成したら実行してみましょう。  \n",
                "M5のディスプレイ中央に「こんにちは」と表示されれば成功です。"
            ]
        },
        {
            "cell_type": "markdown",
            "id": "d047344a-2470-4249-882e-5c227ec292c8",
            "metadata": {
                "tags": []
            },
            "source": [
                "## 回答と解説\n",
                "以下は回答例と解説です。動作が正しければ、これと同じでなくても問題ありません。"
            ]
        },
        {
            "cell_type": "code",
            "execution_count": null,
            "id": "cfa587da-f810-4ebd-987d-19cfddd74116",
            "metadata": {},
            "outputs": [],
            "source": [
                "#!/usr/bin/env python\n",
                "# -*- coding: utf-8 -*-\n",
                "\n",
                "# akari_clientをインポートする。\n",
                "from akari_client import AkariClient\n",
                "# 色を指定する際に使うColors,Colorのインポート\n",
                "from akari_client.color import Colors\n",
                "# 位置を指定する際に使うPositionsのインポート\n",
                "from akari_client.position import Positions\n",
                "# sleep関数を使うためにtimeのライブラリをインポートする。\n",
                "import time\n",
                "\n",
                "# AkariClient、m5stackのインスタンスを取得する\n",
                "akari = AkariClient()\n",
                "m5 = akari.m5stack\n",
                "\n",
                "### ここから問題  ###\n",
                "# textは\"こんにちは\"\n",
                "text = \"こんにちは\"\n",
                "# 左右表示位置は中央\n",
                "pos_x = Positions.CENTER\n",
                "# 上下表示位置は中央\n",
                "pos_y = Positions.CENTER\n",
                "# 文字サイズは5\n",
                "size = 5\n",
                "# 文字色は黒\n",
                "text_color = Colors.BLACK\n",
                "# 背景色は白\n",
                "back_color = Colors.WHITE\n",
                "# set_display_textを実行\n",
                "m5.set_display_text(\n",
                "    text=text,\n",
                "    pos_x=pos_x,\n",
                "    pos_y=pos_y,\n",
                "    size=size,\n",
                "    text_color=text_color,\n",
                "    back_color=back_color\n",
                "    )\n",
                "### ここまで  ###"
            ]
        },
        {
            "cell_type": "markdown",
            "id": "61d42804-6ac4-4c04-89bd-2f1746043a36",
            "metadata": {
                "tags": []
            },
            "source": [
                "#### 19行目:\n",
                "```python\n",
                "text = \"こんにちは\",\n",
                "```\n",
                "\n",
                "textの引数には、str形式で出力したい文字列を与えます。\n",
                "\n",
                "#### 21行目:\n",
                "```python\n",
                "pos_x = Positions.CENTER\n",
                "```\n",
                "\n",
                "左右表示位置は0-320で座標指定ですが、Positions.CENTERを入れると真中揃えになります。\n",
                "\n",
                "#### 23行目:\n",
                "```python\n",
                "pos_y = Positions.CENTER\n",
                "```\n",
                "\n",
                "上下表示位置は0-240で座標指定ですが、Positions.CENTERを入れると真中揃えになります。\n",
                "\n",
                "#### 27行目:\n",
                "```python\n",
                "text_color = Colors.BLACK\n",
                "```\n",
                "\n",
                "文字の色は黒なので、text_colorはColors.BLACKを指定します。\n",
                "\n",
                "#### 29行目:\n",
                "```python\n",
                "back_color = Colors.WHITE\n",
                "```\n",
                "\n",
                "背景色は白なので、back_colorはColors.WHITEを指定します。"
            ]
        },
        {
            "cell_type": "markdown",
            "id": "2ae93b3f",
            "metadata": {},
            "source": [
                "# Tips"
            ]
        },
        {
            "cell_type": "markdown",
            "id": "d856ca18",
            "metadata": {},
            "source": [
                "#### 文字サイズの変更\n",
                "sizeに数値を入れることで文字サイズを変更できます。"
            ]
        },
        {
            "cell_type": "code",
            "execution_count": null,
            "id": "4273dc8e",
            "metadata": {},
            "outputs": [],
            "source": [
                "# sizeを11にする\n",
                "m5.set_display_text(text=\"AKARI\", size=11)"
            ]
        },
        {
            "cell_type": "markdown",
            "id": "ac8ae23e-3cfd-41c5-b51a-c2bc6429878c",
            "metadata": {
                "tags": []
            },
            "source": [
                "## 最後に\n",
                "これでQ3-2は終了です。次は、テキスト表示の別の使い方を学習してみましょう。"
            ]
        },
        {
            "cell_type": "markdown",
            "id": "0ac62a1d-2a93-4fe8-abce-889db09580d7",
            "metadata": {},
            "source": [
                "[Q3-3へ](q3-3_display_text_2.ipynb)"
            ]
        }
    ],
    "metadata": {
        "kernelspec": {
            "display_name": "Python 3 (ipykernel)",
            "language": "python",
            "name": "python3"
        },
        "language_info": {
            "codemirror_mode": {
                "name": "ipython",
                "version": 3
            },
            "file_extension": ".py",
            "mimetype": "text/x-python",
            "name": "python",
            "nbconvert_exporter": "python",
            "pygments_lexer": "ipython3",
            "version": "3.8.10"
        },
        "vscode": {
            "interpreter": {
                "hash": "e7370f93d1d0cde622a1f8e1c04877d8463912d04d973331ad4851f04de6915a"
            }
        }
    },
    "nbformat": 4,
    "nbformat_minor": 5
}