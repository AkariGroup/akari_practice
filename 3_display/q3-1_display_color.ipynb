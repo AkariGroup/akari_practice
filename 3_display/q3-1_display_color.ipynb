{
    "cells": [
        {
            "cell_type": "markdown",
            "id": "499fadb4-dc42-40f4-a10e-839eaa98ca98",
            "metadata": {},
            "source": [
                "# Q3-1.ディスプレイカラーの制御"
            ]
        },
        {
            "cell_type": "markdown",
            "id": "89b6d771-a611-45d4-8c7f-02304465ca6c",
            "metadata": {
                "tags": []
            },
            "source": [
                "## 問題\n",
                "**Q3-1.M5のディスプレイの背景色を赤→黄→青に変えてみましょう。**"
            ]
        },
        {
            "cell_type": "code",
            "execution_count": null,
            "id": "34197f04-6a3f-4369-890d-cf8e4c91990e",
            "metadata": {},
            "outputs": [],
            "source": [
                "#!/usr/bin/env python\n",
                "# -*- coding: utf-8 -*-\n",
                "\n",
                "# M5との通信の際はakari_clientのライブラリをインポートする\n",
                "from akari_client import AkariClient\n",
                "# 色を指定する際に使うColors,Colorのインポート\n",
                "from akari_client.color import Colors, Color\n",
                "# sleep関数を使うためにtimeのライブラリをインポートする。\n",
                "import time\n",
                "\n",
                "# AkariClient、m5stackのインスタンスを取得する\n",
                "akari = AkariClient()\n",
                "m5 = akari.m5stack\n",
                "\n",
                "### ここから問題  ###\n",
                "# M5のディスプレイの色を赤にする\n",
                "m5.set_display_color(\"\"\"(赤を指定)\"\"\")\n",
                "# 2秒停止処理を入れる。\n",
                "time.sleep(2)\n",
                "# M5のディスプレイの色を黃にする\n",
                "m5.set_display_color(\"\"\"(黃を指定)\"\"\")\n",
                "# 2秒停止処理を入れる。\n",
                "time.sleep(2)\n",
                "# M5のディスプレイの色を青にする\n",
                "\"\"\"(青を指定して変更する関数)\"\"\"\n",
                "# 2秒停止処理を入れる。\n",
                "time.sleep(2)\n",
                "### ここまで  ###"
            ]
        },
        {
            "cell_type": "markdown",
            "id": "beac6cf7",
            "metadata": {},
            "source": [
                "### 動作イメージ"
            ]
        },
        {
            "cell_type": "code",
            "execution_count": null,
            "id": "b6f05a67",
            "metadata": {},
            "outputs": [],
            "source": [
                "from IPython.display import Image\n",
                "Image('gif/q3-1.gif')"
            ]
        },
        {
            "cell_type": "markdown",
            "id": "27784c1b-4331-4439-8218-8d0cd8861ff4",
            "metadata": {},
            "source": [
                "### ヒント\n",
                "\n",
                "**M5のディスプレイカラーを変更するには、 _set_display_color()_ を使います。**\n",
                "\n",
                "```python\n",
                "akari_client.m5stack_client.set_display_color(\n",
                "        self,\n",
                "        color: Color,\n",
                "        sync: bool = True,\n",
                "    ) -> None:\n",
                "\"\"\"ボディー部M5のディスプレイ背景色を変更する。\n",
                "\n",
                "Args:\n",
                "    color: 背景色を指定。色は``color.Colors``から色名を引用する、もしくはRGBの数値指定も可能。\n",
                "    sync: 同期実行の指定。``True``の場合M5側で実行完了するまで関数の終了待ちを行う。\n",
                "\n",
                "\"\"\"\n",
                "```\n",
                "\n",
                "この関数を呼び出すと、colorで指定した色に変更することができます。  \n",
                "この関数はakari_client::AkariClientのライブラリに含まれており、13行目でm5という名前でこのライブラリのインスタンスを作成しています。  \n",
                "\n",
                "色は9行目でインポートしている _color.Colors_ から色名を引用します。  \n",
                "使える色名の一覧は [akari_manual](https://akari-docs.vbcpp.net/source/spec/soft_base.html#akari_client.color.Colors) を参照してください。  \n",
                "\n",
                "下記のセルを実行すると使い方の例が見られます。"
            ]
        },
        {
            "cell_type": "code",
            "execution_count": null,
            "id": "3a501672-89a3-46b4-aa3a-761a95dd10dc",
            "metadata": {},
            "outputs": [],
            "source": [
                "# M5との通信の際はakari_clientのライブラリをインポートする\n",
                "from akari_client import AkariClient\n",
                "# 色を指定する際に使うColorsのインポート\n",
                "from akari_client.color import Colors\n",
                "\n",
                "# AkariClient、m5stackのインスタンスを取得する\n",
                "akari = AkariClient()\n",
                "m5 = akari.m5stack\n",
                "\n",
                "# 背景色を赤色にする。\n",
                "m5.set_display_color(Colors.RED)"
            ]
        },
        {
            "cell_type": "markdown",
            "id": "baf706df",
            "metadata": {},
            "source": [
                "今回は赤、黃、青の3色が指定されています。赤は\"Colors.RED\",黄色は\"Colors.YELLOW\",青は\"Colors.BLUE\"を引数にしましょう。"
            ]
        },
        {
            "cell_type": "markdown",
            "id": "b57ed4d0-2700-46b1-9697-d5979814fa65",
            "metadata": {},
            "source": [
                "完成したら実行してみましょう。  \n",
                "M5の画面の色が赤→黄→青と変われば成功です。"
            ]
        },
        {
            "cell_type": "markdown",
            "id": "2dc388b4-f781-4c60-b4ff-cbace60934b8",
            "metadata": {
                "tags": []
            },
            "source": [
                "## 回答と解説\n",
                "以下は回答例と解説です。動作が正しければ、これと同じでなくても問題ありません。"
            ]
        },
        {
            "cell_type": "code",
            "execution_count": null,
            "id": "6fba88ef-ef82-480e-82a6-72e3c3491460",
            "metadata": {},
            "outputs": [],
            "source": [
                "#!/usr/bin/env python\n",
                "# -*- coding: utf-8 -*-\n",
                "\n",
                "# M5との通信の際はakari_clientのライブラリをインポートする\n",
                "from akari_client import AkariClient\n",
                "# 色を指定する際に使うColorsのインポート\n",
                "from akari_client.color import Colors\n",
                "# sleep関数を使うためにtimeのライブラリをインポートする。\n",
                "import time\n",
                "\n",
                "# AkariClient、m5stackのインスタンスを取得する\n",
                "akari = AkariClient()\n",
                "m5 = akari.m5stack\n",
                "\n",
                "### ここから問題  ###\n",
                "# M5のディスプレイの色を赤にする\n",
                "m5.set_display_color(Colors.RED)\n",
                "# 2秒停止処理を入れる。\n",
                "time.sleep(2)\n",
                "# M5のディスプレイの色を黃にする\n",
                "m5.set_display_color(Colors.YELLOW)\n",
                "# 2秒停止処理を入れる。\n",
                "time.sleep(2)\n",
                "# M5のディスプレイの色を青にする\n",
                "m5.set_display_color(Colors.BLUE)\n",
                "# 2秒停止処理を入れる。\n",
                "time.sleep(2)\n",
                "### ここまで  ###"
            ]
        },
        {
            "cell_type": "markdown",
            "id": "5735f15d-f72e-461f-b38d-996540b5bec1",
            "metadata": {},
            "source": [
                "#### 17行目:\n",
                "```python\n",
                "m5.set_display_color(Colors.RED)\n",
                "```\n",
                "\n",
                "ヒントにもあったように、赤にする場合は引数を\"Colors.RED\"にします。"
            ]
        },
        {
            "cell_type": "markdown",
            "id": "01a16423",
            "metadata": {},
            "source": [
                "#### 21行目:\n",
                "```python\n",
                "m5.set_display_color(Colors.YELLOW)\n",
                "```\n",
                "\n",
                "今度は黄色なので、引数は\"Colors.YELLOW\"です。"
            ]
        },
        {
            "cell_type": "markdown",
            "id": "82a8251f",
            "metadata": {},
            "source": [
                "#### 25行目:\n",
                "```python\n",
                "m5.set_display_color(Colors.BLUE)\n",
                "```\n",
                "\n",
                "今度は青です。  \n",
                "これまでの行を参考に、引数を\"Colors.BLUE\"にして関数ごと書きます。"
            ]
        },
        {
            "cell_type": "markdown",
            "id": "e1fbcd27-8d98-4c93-a711-64e650a3d449",
            "metadata": {
                "tags": []
            },
            "source": [
                "## Tips"
            ]
        },
        {
            "cell_type": "markdown",
            "id": "c1738741",
            "metadata": {},
            "source": [
                "#### 色指定方法\n",
                "\n",
                "色はColorsクラスから色名を指定する方法以外にRGB値を指定することができます。  \n",
                "Colorクラスの引数にred=, green=, blue= の値を0~255で指定します。\n",
                "\n",
                "下記のセルを実行すると使い方の例が見られます。"
            ]
        },
        {
            "cell_type": "code",
            "execution_count": null,
            "id": "e2ffd6da",
            "metadata": {},
            "outputs": [],
            "source": [
                "# M5との通信の際はakari_clientのライブラリをインポートする\n",
                "from akari_client import AkariClient\n",
                "# 色を指定する際に使うColorのインポート\n",
                "from akari_client.color import Color\n",
                "\n",
                "# AkariClient、m5stackのインスタンスを取得する\n",
                "akari = AkariClient()\n",
                "m5 = akari.m5stack\n",
                "\n",
                "# 背景色を(R=50,G=155,B=10)にする。\n",
                "m5.set_display_color(Color(red=50, green=155, blue=10))"
            ]
        },
        {
            "cell_type": "markdown",
            "id": "6da5a026-dd3e-400a-a007-f51932446efe",
            "metadata": {
                "tags": []
            },
            "source": [
                "## 最後に\n",
                "これでQ3-1は終了です。次は、ディスプレイテキストの表示を学習してみましょう。"
            ]
        },
        {
            "cell_type": "markdown",
            "id": "0ac62a1d-2a93-4fe8-abce-889db09580d7",
            "metadata": {},
            "source": [
                "[次の問題へ](q3-2_display_text.ipynb)"
            ]
        }
    ],
    "metadata": {
        "kernelspec": {
            "display_name": "Python 3 (ipykernel)",
            "language": "python",
            "name": "python3"
        },
        "language_info": {
            "codemirror_mode": {
                "name": "ipython",
                "version": 3
            },
            "file_extension": ".py",
            "mimetype": "text/x-python",
            "name": "python",
            "nbconvert_exporter": "python",
            "pygments_lexer": "ipython3",
            "version": "3.8.10"
        },
        "vscode": {
            "interpreter": {
                "hash": "e7370f93d1d0cde622a1f8e1c04877d8463912d04d973331ad4851f04de6915a"
            }
        }
    },
    "nbformat": 4,
    "nbformat_minor": 5
}