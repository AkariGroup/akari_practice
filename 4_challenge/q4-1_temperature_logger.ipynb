{
 "cells": [
  {
   "attachments": {},
   "cell_type": "markdown",
   "id": "499fadb4-dc42-40f4-a10e-839eaa98ca98",
   "metadata": {},
   "source": [
    "# Q4-1.温度ロガー"
   ]
  },
  {
   "attachments": {},
   "cell_type": "markdown",
   "id": "89b6d771-a611-45d4-8c7f-02304465ca6c",
   "metadata": {
    "tags": []
   },
   "source": [
    "## 問題\n",
    "  **Q4-1.現在時刻と環境温度を10秒ごとに取得して、csvファイルに追記し続けるコードを書きましょう。**"
   ]
  },
  {
   "cell_type": "code",
   "execution_count": null,
   "id": "34197f04-6a3f-4369-890d-cf8e4c91990e",
   "metadata": {},
   "outputs": [],
   "source": [
    "#!/usr/bin/env python\n",
    "# -*- coding: utf-8 -*-\n",
    "\n",
    "### ここから問題  ###\n",
    "\n",
    "\"\"\"(コードを記述)\"\"\"\n",
    "\n",
    "### ここまで  ###"
   ]
  },
  {
   "attachments": {},
   "cell_type": "markdown",
   "id": "27784c1b-4331-4439-8218-8d0cd8861ff4",
   "metadata": {},
   "source": [
    "### ヒント\n",
    "時刻の取得は[Q3-5](q3-5_clock.ipynb)、 環境温度の取得は[Q2-5](q2-5_temperature.ipunb)を参考にしましょう。  \n",
    "\n",
    "新たに出てくる学習項目はファイルへの書き込みです。  \n",
    "\n",
    "**ファイルへの書き込みには _csv.writer()_ を使いましょう**  \n",
    "\n",
    "今回は取得した時刻と温度をcsvファイルへと書き出していきます。csvへの書き込みはcsv.writerを使います。  \n",
    "最初の行にインデックスを書き込んで、以降取得した値を追記していきましょう。  \n",
    "下記のセルはlog.csvというファイルを作って'時刻','温度'という行を書き込むサンプルです。  \n",
    "実行して確認してみましょう。"
   ]
  },
  {
   "cell_type": "code",
   "execution_count": null,
   "id": "c23e4c4c",
   "metadata": {},
   "outputs": [],
   "source": [
    "# csvのモジュールをインポートする\n",
    "import csv\n",
    "# 'log.csv'というファイルを開く。'w'とすると書き込み用となる\n",
    "with open('log.csv', 'w') as f:\n",
    "    # csv書き込み用のwriterを定義する\n",
    "    writer = csv.writer(f)\n",
    "    # writerow()で行を書き込む。1列目が'時刻'で2列目が'温度'となる\n",
    "    writer.writerow(['時刻', '温度'])"
   ]
  },
  {
   "attachments": {},
   "cell_type": "markdown",
   "id": "08da016e",
   "metadata": {},
   "source": [
    "上記のように、_open()_ でファイルを開き、_csv.writer()_ を定義、_writerow()_ で列を書き込むといった流れです。  \n",
    "この書き方ですと、ファイル作成先はアプリを実行した場所と同じ階層になります。  \n",
    "\n",
    "_open()_ の第二引数を'w'にすると新規作成(存在する場合は新しいファイルで上書き)、'a'にすると既存のファイルに追記します。  \n",
    "これを用いて'時刻'と'温度'のインデックスを書き込んだ後は、  \n",
    "ループ処理を書いて温度と時刻を取得→csvファイルに追記→10秒停止を繰り返しましょう。  \n",
    "\n",
    "追記する場合、open()の第二引数を'a'として先程作成したファイルを開き、取得した時刻と温度をwriterow()で書き込んでいきます。"
   ]
  },
  {
   "attachments": {},
   "cell_type": "markdown",
   "id": "b57ed4d0-2700-46b1-9697-d5979814fa65",
   "metadata": {},
   "source": [
    "完成したら実行してみましょう。  \n",
    "アプリ実行終了した際に、時刻と温度がcsvファイルに記録されていれば成功です。"
   ]
  },
  {
   "cell_type": "markdown",
   "id": "d047344a-2470-4249-882e-5c227ec292c8",
   "metadata": {
    "tags": []
   },
   "source": [
    "## 回答と解説\n",
    "以下は回答例と解説です。動作が正しければ、これと同じでなくても問題ありません。"
   ]
  },
  {
   "cell_type": "code",
   "execution_count": null,
   "id": "cfa587da-f810-4ebd-987d-19cfddd74116",
   "metadata": {},
   "outputs": [],
   "source": [
    "#!/usr/bin/env python\n",
    "# -*- coding: utf-8 -*-\n",
    "\n",
    "### ここから問題  ###\n",
    "\n",
    "# akari_clientをインポートする。\n",
    "from akari_client import AkariClient\n",
    "# sleep関数を使うためにtimeのライブラリをインポートする。\n",
    "import time\n",
    "# 時刻取得に必要なライブラリをインポートする。\n",
    "import datetime\n",
    "import locale\n",
    "# csvの読み書き用ライブラリをインポートする。\n",
    "import csv\n",
    "\n",
    "# logファイルの名前を定義\n",
    "FILE_NAME = 'log.csv'\n",
    "\n",
    "# AkariClient、m5stackのインスタンスを取得する\n",
    "akari = AkariClient()\n",
    "m5 = akari.m5stack\n",
    "\n",
    "# log.csvを作成して、インデックス行を書き込む\n",
    "with open(FILE_NAME, 'w') as f:\n",
    "    writer = csv.writer(f)\n",
    "    writer.writerow(['時刻', '温度'])\n",
    "\n",
    "# Ctrl + Cで終了するまでループし続ける\n",
    "while(True):\n",
    "    m5_data = m5.get()\n",
    "    cur_temperature = m5_data['temperature']\n",
    "    # 現在時刻を取得\n",
    "    locale.setlocale(locale.LC_TIME, 'ja_JP.UTF-8')\n",
    "    dt_now = datetime.datetime.now()\n",
    "    # 時:分:秒の形に変換\n",
    "    cur_time = dt_now.strftime('%H:%M:%S')\n",
    "    print('[' + cur_time + '] temperature: ' + str(cur_temperature) + ' [deg]' )\n",
    "    # logファイルを開いて取得した時刻、温度を最終行に追記\n",
    "    with open(FILE_NAME, 'a') as f:\n",
    "        writer = csv.writer(f)\n",
    "        writer.writerow([cur_time, cur_temperature])\n",
    "    # 10秒停止処理を入れる。\n",
    "    time.sleep(10)\n",
    "\n",
    "### ここまで  ###"
   ]
  },
  {
   "attachments": {},
   "cell_type": "markdown",
   "id": "61d42804-6ac4-4c04-89bd-2f1746043a36",
   "metadata": {
    "tags": []
   },
   "source": [
    "#### 6-14行目:\n",
    "```python\n",
    "# akari_clientをインポートする。\n",
    "from akari_client import AkariClient\n",
    "# sleep関数を使うためにtimeのライブラリをインポートする。\n",
    "import time\n",
    "# 時刻取得に必要なライブラリをインポートする。\n",
    "import datetime\n",
    "import locale\n",
    "# csvの読み書き用ライブラリをインポートする。\n",
    "import csv\n",
    "```\n",
    "最初に必要なモジュールをインポートします。  \n",
    "1つ目はM5と通信するための _AkariClient_  \n",
    "2つ目はsleepを使うために必要な _time_  \n",
    "3つ目は時刻を取得するために必要な _datatime_, _locale_  \n",
    "4つ目はcsv書き込みに必要な _csv_ です。  \n",
    "\n",
    "#### 17行目:\n",
    "```python\n",
    "FILE_NAME = 'log.csv'\n",
    "```\n",
    "logファイルの名前を'log.csv'として定義しておきます。  \n",
    "同じファイルへの書き込み処理をする箇所が複数あるので、先に定義しておいた方が使いやすいです。\n",
    "\n",
    "#### 20-21行目:\n",
    "```python\n",
    "akari = AkariClient()\n",
    "m5 = akari.m5stack\n",
    "```\n",
    "AkariClient()の中の _m5stack_ のインスタンスを _m5_ という名前で作成します。\n",
    "\n",
    "#### 24-26行目:\n",
    "```python\n",
    "with open(FILE_NAME, 'w') as f:\n",
    "    writer = csv.writer(f)\n",
    "    writer.writerow(['時刻','温度'])\n",
    "```\n",
    "ヒントの書き方を参考にlogファイルを新規作成し、インデックスを書き込みます。  \n",
    "新規作成なので、open()の第二引数を'w'としています。\n",
    "\n",
    "#### 29行目:\n",
    "```python\n",
    "while(True):\n",
    "```\n",
    "while()でループさせます。条件式はTrueなので、終了するまでループし続けます。\n",
    "\n",
    "#### 30行目:\n",
    "```python\n",
    "m5_data = m5.get()\n",
    "```\n",
    "これまでと同じようにm5.get()でM5のデータを取得します。\n",
    "\n",
    "#### 31行目:\n",
    "```python\n",
    "cur_temperature = m5_data['temperature']\n",
    "```\n",
    "現在温度をm5_data内から取得します。温度のキーは'temperature'です。\n",
    "\n",
    "#### 33-36行目:\n",
    "```python\n",
    "locale.setlocale(locale.LC_TIME, 'ja_JP.UTF-8')\n",
    "dt_now = datetime.datetime.now()\n",
    "# 時:分:秒の形に変換\n",
    "cur_time = dt_now.strftime('%H:%M:%S')\n",
    "```\n",
    "datatime.datatime.now()を用いて、現在時刻を取得します。  \n",
    "dt_now.strftime()を使うと、引数で指定した書式での現在時刻がstr型で取得できます。  \n",
    "[Q3-5](q3-5_clock.ipynb)で使っているので、そちらを参考にするのがいいでしょう。  \n",
    "\n",
    "#### 37行目:\n",
    "```python\n",
    "print('[' + cur_time + '] temperature: ' + str(cur_temperature) + ' [deg]' )\n",
    "```\n",
    "特に指定はないですが、記録する値をコマンドラインに出力しておくとデバッグに便利です。  \n",
    "\n",
    "#### 39-41行目:\n",
    "```python\n",
    "with open(FILE_NAME, 'a') as f:\n",
    "    writer = csv.writer(f)\n",
    "    writer.writerow([cur_time, cur_temperature])\n",
    "```\n",
    "33-36行目と同じファイルへ追記していきます。  \n",
    "追記なので、open()の第二引数は'a'です。  \n",
    "この書き方で、1列目にcur_time,2列目にcur_temperatureが書き込めます。\n",
    "\n",
    "#### 43行目:\n",
    "```python\n",
    "time.sleep(10)\n",
    "```\n",
    "最後に10秒停止の処理を _sleep()_で行います。"
   ]
  },
  {
   "attachments": {},
   "cell_type": "markdown",
   "id": "ac8ae23e-3cfd-41c5-b51a-c2bc6429878c",
   "metadata": {
    "tags": []
   },
   "source": [
    "## 最後に\n",
    "これでQ4-1は終了です。次のチャレンジ問題に取り組んでみましょう。"
   ]
  },
  {
   "attachments": {},
   "cell_type": "markdown",
   "id": "0ac62a1d-2a93-4fe8-abce-889db09580d7",
   "metadata": {},
   "source": [
    "[Q4-2へ](q4-2_camera_shutter.ipynb)"
   ]
  }
 ],
 "metadata": {
  "kernelspec": {
   "display_name": "Python 3 (ipykernel)",
   "language": "python",
   "name": "python3"
  },
  "language_info": {
   "codemirror_mode": {
    "name": "ipython",
    "version": 3
   },
   "file_extension": ".py",
   "mimetype": "text/x-python",
   "name": "python",
   "nbconvert_exporter": "python",
   "pygments_lexer": "ipython3",
   "version": "3.6.8"
  },
  "vscode": {
   "interpreter": {
    "hash": "045823372ae896803066400baabdd9ce57da994bf40a6bcd023d2de1b7d884a6"
   }
  }
 },
 "nbformat": 4,
 "nbformat_minor": 5
}
