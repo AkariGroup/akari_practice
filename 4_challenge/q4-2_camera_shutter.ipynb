{
 "cells": [
  {
   "cell_type": "markdown",
   "id": "499fadb4-dc42-40f4-a10e-839eaa98ca98",
   "metadata": {},
   "source": [
    "# Q4-2.シャッターカメラ"
   ]
  },
  {
   "cell_type": "markdown",
   "id": "89b6d771-a611-45d4-8c7f-02304465ca6c",
   "metadata": {
    "tags": []
   },
   "source": [
    "## 問題\n",
    "  **Q4-2.キーボードで特定のキーを入力した際に写真を撮影して保存するアプリを作りましょう。**"
   ]
  },
  {
   "cell_type": "markdown",
   "id": "6de12254-4527-4959-ae56-7887ad98a3cd",
   "metadata": {},
   "source": [
    "### ライブラリのインストール\n",
    "今回はipywidetsを使うので、まずは下記のセルを実行してipywidgetsをインストールします。"
   ]
  },
  {
   "cell_type": "code",
   "execution_count": null,
   "id": "8de5e7c9-6c41-4075-933e-347692543790",
   "metadata": {},
   "outputs": [],
   "source": [
    "!pip install ipywidgets"
   ]
  },
  {
   "cell_type": "code",
   "execution_count": null,
   "id": "34197f04-6a3f-4369-890d-cf8e4c91990e",
   "metadata": {},
   "outputs": [],
   "source": [
    "#!/usr/bin/env python\n",
    "# -*- coding: utf-8 -*-\n",
    "\n",
    "# opencvのライブラリをインポート\n",
    "import cv2\n",
    "# osのインポート\n",
    "import os\n",
    "# OAK-Dに必要なライブラリをインポート\n",
    "import depthai as dai\n",
    "%matplotlib inline\n",
    "import matplotlib.pyplot as plt\n",
    "import ipywidgets as widgets\n",
    "from IPython.display import display, Image\n",
    "import threading\n",
    "# OAK-Dのパイプライン作成\n",
    "pipeline = dai.Pipeline()\n",
    "\n",
    "# ソースとアウトプットの設定\n",
    "cam_rgb = pipeline.createColorCamera()\n",
    "\n",
    "# preview size640x480に指定\n",
    "cam_rgb.setPreviewSize(640, 480) \n",
    "cam_rgb.setInterleaved(False)\n",
    "\n",
    "# ストリーミング名設定\n",
    "xout_rgb = pipeline.createXLinkOut()\n",
    "xout_rgb.setStreamName(\"rgb\")\n",
    "cam_rgb.preview.link(xout_rgb.input)\n",
    "\n",
    "# webカメラの設定\n",
    "DEVICE_ID = 0\n",
    "\n",
    "\n",
    "def take_photo(name: str):\n",
    "    \"\"\"\n",
    "    写真を撮って保存する関数。\n",
    "    保存先はoutputディレクトリ以下。\n",
    "    Args:\n",
    "        name (str): 保存する画像ファイル名\n",
    "    Returns:\n",
    "        Bool: True なら成功, False なら失敗.\n",
    "\n",
    "    \"\"\"\n",
    "    # ディスプレイを設定\n",
    "    display_handle=display(None, display_id=True)\n",
    "    # デバイスをパイプラインに接続\n",
    "    with dai.Device(pipeline) as device:\n",
    "        # フレームを取得して表示\n",
    "        video = device.getOutputQueue(name=\"rgb\", maxSize=4, blocking=False)\n",
    "        frame = video.get().getCvFrame()\n",
    "        ret, jpg = cv2.imencode('.jpeg', frame)\n",
    "\n",
    "\n",
    "    # カメラ画像の取得\n",
    "    # 取得に失敗した場合、Falseを返す\n",
    "    if not ret:\n",
    "        print('画像取得に失敗しました。')\n",
    "        return False\n",
    "    else:\n",
    "        img = Image(data=jpg.tobytes())\n",
    "        display_handle.update(img)\n",
    "        file_name = 'output/' + name + '.jpg'\n",
    "        cv2.imwrite(file_name, frame)\n",
    "        print('ファイル名' + file_name + 'を保存しました。')\n",
    "        return True\n",
    "\n",
    "\n",
    "# 'output'というディレクトリを作成\n",
    "os.makedirs('output', exist_ok=True)\n",
    "\n",
    "### ここから問題  ###\n",
    "\n",
    "\"\"\"(特定の文字入力で、写真を撮影して保存するコードを記述)\"\"\"\n",
    "\n",
    "### ここまで  ###"
   ]
  },
  {
   "cell_type": "markdown",
   "id": "27784c1b-4331-4439-8218-8d0cd8861ff4",
   "metadata": {},
   "source": [
    "### ヒント\n",
    "カメラ画像を記録する関数take_photo()が既に作成されています。  \n",
    "キーボードで正しい入力が得られた時に、この関数を呼び出すようにします。\n",
    "\n",
    "**input()を使うとキーボード入力が取得できます。**  \n",
    "\n",
    "以下のセルのように記述すると、キーボードで入力した文字列をvalに取得し、コマンドラインに同じ文字列を出力することができます。  \n",
    "実行して確認してみましょう。"
   ]
  },
  {
   "cell_type": "code",
   "execution_count": null,
   "id": "17d9b844",
   "metadata": {},
   "outputs": [],
   "source": [
    "val = input()\n",
    "print(val)"
   ]
  },
  {
   "cell_type": "markdown",
   "id": "6ba2ede6",
   "metadata": {},
   "source": [
    "**zfill()を使って、数値をゼロ埋めした文字列をつくることができます**\n",
    "\n",
    "写真を保存する時は、1枚目は001,2枚目は002...というファイル名を付けたいので、引数でそのように渡してあげる必要があります。  \n",
    "数値をゼロ埋めした文字列にするには、_zfill()_ を使います。  \n",
    "\n",
    "下記のセルを実行して確認してみましょう。  \n",
    "zfillの引数はゼロ埋めする桁数です。  "
   ]
  },
  {
   "cell_type": "code",
   "execution_count": null,
   "id": "4dac8968",
   "metadata": {},
   "outputs": [],
   "source": [
    "num = 1\n",
    "# numを3桁にゼロ埋めした文字列にする\n",
    "num_after = str(num).zfill(3)\n",
    "print(num_after)"
   ]
  },
  {
   "cell_type": "markdown",
   "id": "b57ed4d0-2700-46b1-9697-d5979814fa65",
   "metadata": {},
   "source": [
    "完成したら実行してみましょう。  \n",
    "指定したキーを押した際に写真が撮影できるようになれば成功です。"
   ]
  },
  {
   "cell_type": "markdown",
   "id": "d047344a-2470-4249-882e-5c227ec292c8",
   "metadata": {
    "tags": []
   },
   "source": [
    "## 回答と解説\n",
    "以下は回答例と解説です。動作が正しければ、これと同じでなくても問題ありません。"
   ]
  },
  {
   "cell_type": "code",
   "execution_count": null,
   "id": "cfa587da-f810-4ebd-987d-19cfddd74116",
   "metadata": {},
   "outputs": [],
   "source": [
    "#!/usr/bin/env python\n",
    "# -*- coding: utf-8 -*-\n",
    "\n",
    "# opencvのライブラリをインポート\n",
    "import cv2\n",
    "# osのインポート\n",
    "import os\n",
    "# OAK-Dに必要なライブラリをインポート\n",
    "import depthai as dai\n",
    "%matplotlib inline\n",
    "import matplotlib.pyplot as plt\n",
    "import ipywidgets as widgets\n",
    "from IPython.display import display, Image\n",
    "import threading\n",
    "# OAK-Dのパイプライン作成\n",
    "pipeline = dai.Pipeline()\n",
    "\n",
    "# ソースとアウトプットの設定\n",
    "cam_rgb = pipeline.createColorCamera()\n",
    "\n",
    "# preview size640x480に指定\n",
    "cam_rgb.setPreviewSize(640, 480) \n",
    "cam_rgb.setInterleaved(False)\n",
    "\n",
    "# ストリーミング名設定\n",
    "xout_rgb = pipeline.createXLinkOut()\n",
    "xout_rgb.setStreamName(\"rgb\")\n",
    "cam_rgb.preview.link(xout_rgb.input)\n",
    "\n",
    "# webカメラの設定\n",
    "DEVICE_ID = 0\n",
    "\n",
    "\n",
    "def take_photo(name: str):\n",
    "    \"\"\"\n",
    "    写真を撮って保存する関数。\n",
    "    保存先はoutputディレクトリ以下。\n",
    "    Args:\n",
    "        name (str): 保存する画像ファイル名\n",
    "    Returns:\n",
    "        Bool: True なら成功, False なら失敗.\n",
    "\n",
    "    \"\"\"\n",
    "    # ディスプレイを設定\n",
    "    display_handle=display(None, display_id=True)\n",
    "    # デバイスをパイプラインに接続\n",
    "    with dai.Device(pipeline) as device:\n",
    "        # フレームを取得して表示\n",
    "        video = device.getOutputQueue(name=\"rgb\", maxSize=4, blocking=False)\n",
    "        frame = video.get().getCvFrame()\n",
    "        ret, jpg = cv2.imencode('.jpeg', frame)\n",
    "\n",
    "\n",
    "    # カメラ画像の取得\n",
    "    # 取得に失敗した場合、Falseを返す\n",
    "    if not ret:\n",
    "        print('画像取得に失敗しました。')\n",
    "        return False\n",
    "    else:\n",
    "        img = Image(data=jpg.tobytes())\n",
    "        display_handle.update(img)\n",
    "        file_name = 'output/' + name + '.jpg'\n",
    "        cv2.imwrite(file_name, frame)\n",
    "        print('ファイル名' + file_name + 'を保存しました。')\n",
    "        return True\n",
    "\n",
    "\n",
    "# 'output'というディレクトリを作成\n",
    "os.makedirs('output', exist_ok=True)\n",
    "\n",
    "### ここから問題  ###\n",
    "\n",
    "# ファイル名の通し番号\n",
    "num = 0\n",
    "# Ctrl + Cで終了するまでループし続ける\n",
    "while(True):\n",
    "    print('cを入力後エンターを押すと写真を撮影します。')\n",
    "    # キーボード入力待ち\n",
    "    val = input()\n",
    "    # cが入力されていた場合写真を撮る。\n",
    "    if(val == 'c'):\n",
    "        # numを3桁に0埋めしてtake_photo()に渡す。\n",
    "        take_photo(str(num).zfill(3))\n",
    "        # 写真を撮ったらnumを+1する。\n",
    "        num += 1\n",
    "\n",
    "### ここまで  ###"
   ]
  },
  {
   "cell_type": "markdown",
   "id": "61d42804-6ac4-4c04-89bd-2f1746043a36",
   "metadata": {
    "tags": []
   },
   "source": [
    "#### 74行目:\n",
    "```python\n",
    "num = 0\n",
    "```\n",
    "ファイル名の通し番号として使う変数を最初に作っておきます。\n",
    "\n",
    "#### 76行目:\n",
    "```python\n",
    "while(True):\n",
    "```\n",
    "while()でループさせます。  \n",
    "条件式はTrueなので、終了するまでループし続けます。\n",
    "\n",
    "#### 77行目:\n",
    "```python\n",
    "print('cを入力後エンターを押すと写真を撮影します。')\n",
    "\n",
    "```\n",
    "操作説明文をコマンドラインに出力します。  \n",
    "今回は'c'が入力されたら写真を撮る、としました。\n",
    "\n",
    "#### 79行目:\n",
    "```python\n",
    "val = input()\n",
    "```\n",
    "input()関数を使ってキーボードの入力待ちをします。\n",
    "\n",
    "#### 81行目:\n",
    "```python\n",
    "if(val == 'c'):\n",
    "```\n",
    "キーボードで入力された値が'c'かどうかを判定します。  \n",
    "\n",
    "今回はelse文を書いていません。  \n",
    "'c'以外だった場合は、ループの始めに戻って再びキーボード入力待ちとなります。  \n",
    "\n",
    "#### 83行目:\n",
    "```python\n",
    "take_photo(str(num).zfill(3))\n",
    "```\n",
    "take_photo()関数で写真を撮影します。  \n",
    "引数は、numを文字列に変換して3桁でゼロ埋めした文字列です。  \n",
    "\n",
    "#### 85行目:\n",
    "```python\n",
    "num += 1\n",
    "```\n",
    "numを一つ進めておきます。  \n",
    "こうすることで、次の撮影時は1つ先の番号で名前付けがされます。  "
   ]
  },
  {
   "cell_type": "markdown",
   "id": "ac8ae23e-3cfd-41c5-b51a-c2bc6429878c",
   "metadata": {
    "tags": []
   },
   "source": [
    "## 最後に\n",
    "これでQ4-2は終了です。今までの練習問題を参考にオリジナルソフト開発に取り組んでみましょう。"
   ]
  }
 ],
 "metadata": {
  "kernelspec": {
   "display_name": "Python 3 (ipykernel)",
   "language": "python",
   "name": "python3"
  },
  "language_info": {
   "codemirror_mode": {
    "name": "ipython",
    "version": 3
   },
   "file_extension": ".py",
   "mimetype": "text/x-python",
   "name": "python",
   "nbconvert_exporter": "python",
   "pygments_lexer": "ipython3",
   "version": "3.8.10"
  },
  "vscode": {
   "interpreter": {
    "hash": "e7370f93d1d0cde622a1f8e1c04877d8463912d04d973331ad4851f04de6915a"
   }
  }
 },
 "nbformat": 4,
 "nbformat_minor": 5
}
