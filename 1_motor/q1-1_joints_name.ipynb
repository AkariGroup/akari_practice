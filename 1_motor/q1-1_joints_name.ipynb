{
 "cells": [
  {
   "cell_type": "markdown",
   "id": "499fadb4-dc42-40f4-a10e-839eaa98ca98",
   "metadata": {},
   "source": [
    "# Q1-1.モータの制御"
   ]
  },
  {
   "cell_type": "markdown",
   "id": "89b6d771-a611-45d4-8c7f-02304465ca6c",
   "metadata": {
    "tags": []
   },
   "source": [
    "## 問題\n",
    "**Q1-1.ヘッドを左に45°向かせてみましょう。**"
   ]
  },
  {
   "cell_type": "code",
   "execution_count": null,
   "id": "34197f04-6a3f-4369-890d-cf8e4c91990e",
   "metadata": {},
   "outputs": [],
   "source": [
    "#!/usr/bin/env python\n",
    "# -*- coding: utf-8 -*-\n",
    "\n",
    "# sleep関数を使うためにtimeのライブラリをインポートする。\n",
    "import time\n",
    "# モータ制御の際はakari_clientのライブラリをインポートする\n",
    "from akari_client import AkariClient\n",
    "\n",
    "# AkariClientのインスタンスを作成する。\n",
    "akari = AkariClient()\n",
    "# 関節制御用のインスタンスを取得する。\n",
    "joints = akari.joints\n",
    "# サーボONにする。\n",
    "joints.enable_all_servo()\n",
    "\n",
    "### ここから問題  ###\n",
    "\"\"\"(モータを動かす関数)\"\"\"\n",
    "### ここまで  ###\n",
    "\n",
    "# 1秒待つ\n",
    "time.sleep(1)\n",
    "# 現在位置を取得してコマンドラインに表示\n",
    "print(\"現在位置は\" + str(joints.get_joint_positions()) + \"です。\")"
   ]
  },
  {
   "cell_type": "markdown",
   "id": "27784c1b-4331-4439-8218-8d0cd8861ff4",
   "metadata": {},
   "source": [
    "### ヒント\n",
    "  \n",
    "ヘッドを動かすには、_move_joint_positions()_　を使います。  \n",
    "```python\n",
    "    AkaliClient::JointManager::move_joint_positions(\n",
    "        pan: Optional[float] = None,\n",
    "        tilt: Optional[float] = None\n",
    "    ) -> None:\n",
    "```\n",
    "> サーボの移動する角度を指定して移動する。単位は[rad]\n",
    "\n",
    "下記のセルを実行すると使い方の例が見られます。"
   ]
  },
  {
   "cell_type": "code",
   "execution_count": null,
   "id": "3a501672-89a3-46b4-aa3a-761a95dd10dc",
   "metadata": {},
   "outputs": [],
   "source": [
    "# モータ制御の際はakari_clientのライブラリをインポートする\n",
    "from akari_client import AkariClient\n",
    "\n",
    "# AkariClientのインスタンスを作成する。\n",
    "akari = AkariClient()\n",
    "# 関節制御用のインスタンスを取得する。\n",
    "joints = akari.joints\n",
    "# サーボONにする。\n",
    "joints.enable_all_servo()\n",
    "#panのサーボを0.3rad、tiltのサーボを0.5rad移動する。\n",
    "joints.move_joint_positions(pan=0.3, tilt=0.5)"
   ]
  },
  {
   "cell_type": "markdown",
   "id": "302e793b-5f1b-40e4-9ef2-2cc7ea36c5b8",
   "metadata": {},
   "source": [
    "上のセルの例を参考に、joints.move_joint_positions()を使ってpanを45°に指定しましょう。  \n",
    "ただ、この関数の角度はラジアン指定なので、45°をラジアンに変換した値を入れる必要があります。"
   ]
  },
  {
   "cell_type": "markdown",
   "id": "b57ed4d0-2700-46b1-9697-d5979814fa65",
   "metadata": {},
   "source": [
    "完成したら実行してみましょう。  \n",
    "AKARIのヘッドが左45°の方向を向いて、コマンドラインに現在の関節角が表示されたら成功です。"
   ]
  },
  {
   "cell_type": "markdown",
   "id": "2dc388b4-f781-4c60-b4ff-cbace60934b8",
   "metadata": {
    "tags": []
   },
   "source": [
    "## 回答と解説\n",
    "以下は回答例と解説です。動作が正しければ、これと同じでなくても問題ありません。"
   ]
  },
  {
   "cell_type": "code",
   "execution_count": null,
   "id": "6fba88ef-ef82-480e-82a6-72e3c3491460",
   "metadata": {},
   "outputs": [],
   "source": [
    "#!/usr/bin/env python\n",
    "# -*- coding: utf-8 -*-\n",
    "\n",
    "# sleep関数を使うためにtimeのライブラリをインポートする。\n",
    "import time\n",
    "# モータ制御の際はakari_clientのライブラリをインポートする\n",
    "from akari_client import AkariClient\n",
    "\n",
    "# AkariClientのインスタンスを作成する。\n",
    "akari = AkariClient()\n",
    "# 関節制御用のインスタンスを取得する。\n",
    "joints = akari.joints\n",
    "# サーボONにする。\n",
    "joints.enable_all_servo()\n",
    "\n",
    "### ここから問題  ###\n",
    "joints.move_joint_positions(pan=0.785)\n",
    "### ここまで  ###\n",
    "\n",
    "# 1秒待つ\n",
    "time.sleep(1)\n",
    "# 現在位置を取得してコマンドラインに表示\n",
    "print(\"現在位置は\" + str(joints.get_joint_positions()) + \"です。\")"
   ]
  },
  {
   "cell_type": "markdown",
   "id": "5735f15d-f72e-461f-b38d-996540b5bec1",
   "metadata": {},
   "source": [
    "#### 17行目:\n",
    "```python\n",
    "joints.move_joint_positions(pan=0.785)\n",
    "```\n",
    "\n",
    "joints.move_joint_positions()でモータの移動先を指定します。  \n",
    "今回はpanのみ45°動かすので、引数はpanのみです。  \n",
    "45°=0.785[rad]なので、引数はpan=0.785となります。  \n"
   ]
  },
  {
   "cell_type": "markdown",
   "id": "e1fbcd27-8d98-4c93-a711-64e650a3d449",
   "metadata": {
    "tags": []
   },
   "source": [
    "## Tips"
   ]
  },
  {
   "cell_type": "markdown",
   "id": "83140fe5-9d81-44db-93c0-27b3ac41f2aa",
   "metadata": {
    "tags": []
   },
   "source": [
    "### 全行解説\n",
    "最初の問題なのでpythonのコードの書き方の解説を兼ねて、全行解説します。  \n",
    "やや難しい部分もあるかと思いますが、現時点では気にせず読み飛ばしても大丈夫です。\n",
    "\n",
    "#### 1行目:\n",
    "```python\n",
    "#!/usr/bin/env python\n",
    "```\n",
    "\n",
    "これはShebang(シバン)というもので、Linux環境でスクリプトの1行目に記述する、特殊な文字列のことです。  \n",
    "/usr/bin/env pythonとなっているのは、システム内でPATHが通っている環境のpythonを使うということになります。  \n",
    "難しいですが、 **現時点では特に気にせず毎回最初の行に入れておきましょう。**  \n",
    "\n",
    "#### 2行目:\n",
    "```python\n",
    "# -*- coding: utf-8 -*-\n",
    "```\n",
    "\n",
    "同様にShebangで、日本語のエンコードを選択しておきます。ここではUTF-8を選択しています。  \n",
    "現状互換性が一番高いと思います。 **これも毎回入れておきましょう。**  \n",
    "\n",
    "#### 4-7行目:\n",
    "```python\n",
    "# sleep関数を使うためにtimeのライブラリをインポートする。\n",
    "import time\n",
    "# モータ制御の際はakari_clientのライブラリをインポートする\n",
    "from akari_client import AkariClient\n",
    "```\n",
    "\n",
    "4,6行目の#で始まる行はコメントとなり、実行時に無視されます。  \n",
    "5行目はimport <method>という書き方で、外部のpythonライブラリのmethodを取り込んで利用するために使います。今回はtimeというライブラリをインポートしています。  \n",
    "7行目はちょっと違う記述方法で、from <module> import <method>という書き方で、モジュールに記述されたPythonライブラリのmethodを取り込むために使います。\n",
    "ここではakari_clientを使います。akari_clientはAKARIの制御に必要なライブラリとしてあらかじめインストールされています。  \n",
    "この中のAkariClientをインポートしています。  \n",
    "最初のうちは、 **ヘッドのモータ制御が必要な際は必ずインポートするもの** 、と覚えておいてください。\n",
    "\n",
    "#### 9-12行目:\n",
    "```python\n",
    "# AkariClientのインスタンスを作成する。\n",
    "akari = AkariClient()\n",
    "# 関節制御用のインスタンスを取得する。\n",
    "joints = akari.joints\n",
    "```\n",
    "\n",
    "AKARIのライブラリであるAkariClientを使用するには、最初にこのインスタンスの作成が必須となります。  \n",
    "ここではそのインスタンスにakariという名前を付けています。  \n",
    "また、モータ制御をするには、このakariの中のjointsのインスタンスを取得する必要があります。  \n",
    "これらも **ヘッドのモータ制御をするために必要なもの** 、と覚えておいてください。  \n",
    "\n",
    "#### 13-14行目\n",
    "```python\n",
    "# サーボONにする。\n",
    "joints.enable_all_servo()\n",
    "```\n",
    "\n",
    "全サーボを有効状態にする関数を呼び出します。  \n",
    "サーボを有効にしないと動かせないので、関節制御用のインスタンス取得とセットで実行するようにしましょう。  \n",
    "\n",
    "#### 16-18行目:\n",
    "```python\n",
    "### ここから問題  ###\n",
    "joints.move_joint_positions(pan=0.785)\n",
    "### ここまで  ###\n",
    "```\n",
    "\n",
    "ここは回答と解説で説明した通りです。\n",
    "\n",
    "#### 20-21行目:\n",
    "```python\n",
    "# 1秒待つ\n",
    "time.sleep(1)\n",
    "```\n",
    "\n",
    "ここでは1秒待機させる関数を呼び出します。  \n",
    "ここで5行目でimportしたtimeモジュール内のsleep()という関数を使います。引数は秒数なので、()内に1を入れることで1秒待機させることができます。  \n",
    "\n",
    "#### 22-23行目:\n",
    "```python\n",
    "# 現在位置を取得してコマンドラインに表示\n",
    "print(\"現在位置は\" + str(joints.get_joint_positions()) + \"です。\")\n",
    "```\n",
    "\n",
    "print()は()内の値を文字として出力する関数です。  \n",
    "ここでは、get_joint_positions()という関数を使って現在角度を取得して、それを結果として出力しています。  \n",
    "この関数については次の問題で解説します。  "
   ]
  },
  {
   "cell_type": "markdown",
   "id": "6da5a026-dd3e-400a-a007-f51932446efe",
   "metadata": {
    "tags": []
   },
   "source": [
    "## 最後に\n",
    "これでQ1-1は終了です。次は、モータの現在位置の取得方法を学習してみましょう。"
   ]
  },
  {
   "cell_type": "markdown",
   "id": "0ac62a1d-2a93-4fe8-abce-889db09580d7",
   "metadata": {},
   "source": [
    "[次の問題へ](q1-2_get_position.ipynb)"
   ]
  }
 ],
 "metadata": {
  "kernelspec": {
   "display_name": "Python 3 (ipykernel)",
   "language": "python",
   "name": "python3"
  },
  "language_info": {
   "codemirror_mode": {
    "name": "ipython",
    "version": 3
   },
   "file_extension": ".py",
   "mimetype": "text/x-python",
   "name": "python",
   "nbconvert_exporter": "python",
   "pygments_lexer": "ipython3",
   "version": "3.8.10"
  },
  "vscode": {
   "interpreter": {
    "hash": "045823372ae896803066400baabdd9ce57da994bf40a6bcd023d2de1b7d884a6"
   }
  }
 },
 "nbformat": 4,
 "nbformat_minor": 5
}
