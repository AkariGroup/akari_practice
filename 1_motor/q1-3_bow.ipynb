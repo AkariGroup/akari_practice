{
 "cells": [
  {
   "cell_type": "markdown",
   "id": "499fadb4-dc42-40f4-a10e-839eaa98ca98",
   "metadata": {},
   "source": [
    "# Q1-3.おじぎをする"
   ]
  },
  {
   "cell_type": "markdown",
   "id": "89b6d771-a611-45d4-8c7f-02304465ca6c",
   "metadata": {
    "tags": []
   },
   "source": [
    "## 問題\n",
    "**Q1-3.下30°を向く→3秒待つ→上20°を向く→3秒待つ→下30°を向く…という動作を繰り返すコードを書きましょう。**"
   ]
  },
  {
   "cell_type": "code",
   "execution_count": null,
   "id": "34197f04-6a3f-4369-890d-cf8e4c91990e",
   "metadata": {},
   "outputs": [],
   "source": [
    "#!/usr/bin/env python\n",
    "# -*- coding: utf-8 -*-\n",
    "\n",
    "# sleep関数を使うためにtimeのライブラリをインポートする。\n",
    "import time\n",
    "# モータ制御の際はakari_clientのライブラリをインポートする\n",
    "from akari_client import AkariClient\n",
    "\n",
    "\n",
    "def main() -> None:\n",
    "    \"\"\"\n",
    "    メイン関数\n",
    "    \"\"\"\n",
    "\n",
    "    # AkariClientのインスタンスを作成する。\n",
    "    akari = AkariClient()\n",
    "    # 関節制御用のインスタンスを取得する。\n",
    "    joints = akari.joints\n",
    "    # サーボONにする。\n",
    "    joints.enable_all_servo()\n",
    "\n",
    "    # 両方のモータ速度を5rad/sに変更する。\n",
    "    joints.set_joint_velocities(pan=5, tilt=5)\n",
    "\n",
    "    ### ここから問題  ###\n",
    "    while(True):\n",
    "        \"\"\" (処理を書く)\"\"\"\n",
    "    ### ここまで  ###\n",
    "\n",
    "\n",
    "if __name__ == '__main__':\n",
    "    main()"
   ]
  },
  {
   "cell_type": "markdown",
   "id": "27784c1b-4331-4439-8218-8d0cd8861ff4",
   "metadata": {},
   "source": [
    "### ヒント\n",
    "\n",
    "**プログラムを繰り返すには _while()_ を使います**  \n",
    "\n",
    "26行目でwhile(True)が使われています。  \n",
    "while(条件式)中に含まれる処理は条件式を満たす場合ループします。  \n",
    "今回の条件式はTrueなので、この場合は常に条件を満たすことになりループし続けます。  \n",
    "詳しくは下記を参照してください。  \n",
    "https://www.python.jp/train/loop/index.html  \n",
    "\n",
    "今回は下30°を向く→3秒待つ→上20°を向く→3秒待つまでが１ループなので、これをwhileの中に書きます。"
   ]
  },
  {
   "cell_type": "markdown",
   "id": "3ef7bb7e",
   "metadata": {},
   "source": [
    "**処理を停止するには _sleep()_ を使います。**  \n",
    "\n",
    "一定時間処理を停止するためにはsleep(sec)関数を使います。  \n",
    "secの数字の秒数分処理を停止します。  \n",
    "5行目でtimeモジュールをimportしています。  \n",
    "sleep()はtimeモジュールに含まれるので、timeモジュールをimportしてから使います。  \n",
    "\n",
    "下記のセルを実行すると使い方の例が見られます。"
   ]
  },
  {
   "cell_type": "code",
   "execution_count": null,
   "id": "6570b40a",
   "metadata": {},
   "outputs": [],
   "source": [
    "import time\n",
    "print(\"5秒待ってから、\")\n",
    "time.sleep(5)\n",
    "print(\"この文を実行します。\")"
   ]
  },
  {
   "cell_type": "markdown",
   "id": "72f4f0fd",
   "metadata": {},
   "source": [
    "完成したら実行してみましょう。  \n",
    "正しく書けていれば、AKARIのヘッドが下30°を向く→3秒待つ→上20°を向く→3秒待つ→下30°を向く…という動作を繰り返します。\n"
   ]
  },
  {
   "cell_type": "markdown",
   "id": "2dc388b4-f781-4c60-b4ff-cbace60934b8",
   "metadata": {
    "tags": []
   },
   "source": [
    "## 回答と解説\n",
    "以下は回答例と解説です。動作が正しければ、これと同じでなくても問題ありません。"
   ]
  },
  {
   "cell_type": "code",
   "execution_count": null,
   "id": "6fba88ef-ef82-480e-82a6-72e3c3491460",
   "metadata": {},
   "outputs": [],
   "source": [
    "#!/usr/bin/env python\n",
    "# -*- coding: utf-8 -*-\n",
    "\n",
    "# sleep関数を使うためにtimeのライブラリをインポートする。\n",
    "import time\n",
    "# モータ制御の際はakari_clientのライブラリをインポートする\n",
    "from akari_client import AkariClient\n",
    "\n",
    "\n",
    "def main() -> None:\n",
    "    \"\"\"\n",
    "    メイン関数\n",
    "    \"\"\"\n",
    "\n",
    "    # AkariClientのインスタンスを作成する。\n",
    "    akari = AkariClient()\n",
    "    # 関節制御用のインスタンスを取得する。\n",
    "    joints = akari.joints\n",
    "    # サーボONにする。\n",
    "    joints.enable_all_servo()\n",
    "\n",
    "    # 両方のモータ速度を5rad/sに変更する。\n",
    "    joints.set_joint_velocities(pan=5, tilt=5)\n",
    "\n",
    "    ### ここから問題  ###\n",
    "    while(True):\n",
    "        # 下30°を向く\n",
    "        joints.move_joint_positions(tilt=-0.524)\n",
    "        # 3秒停止する\n",
    "        time.sleep(3)\n",
    "        # 上20°を向く\n",
    "        joints.move_joint_positions(tilt=0.349)\n",
    "        # 3秒停止する\n",
    "        time.sleep(3)\n",
    "    ### ここまで  ###\n",
    "\n",
    "\n",
    "if __name__ == '__main__':\n",
    "    main()"
   ]
  },
  {
   "cell_type": "markdown",
   "id": "5735f15d-f72e-461f-b38d-996540b5bec1",
   "metadata": {},
   "source": [
    "#### 28行目:\n",
    "```python\n",
    "joints.move_joint_positions(tilt=-0.524)\n",
    "```\n",
    "\n",
    "[Q1-2](q1-2_get_position.ipynb)と同じやり方で、 _move_joint_positions()_ でモータを制御します。  \n",
    "今回は上下方向に動かしたいので、-30°をradにした-0.524を引数 _tilt=_ にして _move_joint_positions()_ を呼び出します。\n"
   ]
  },
  {
   "cell_type": "markdown",
   "id": "4f5823cf",
   "metadata": {},
   "source": [
    "#### 30行目:\n",
    "```python\n",
    "time.sleep(3)\n",
    "```\n",
    "\n",
    "sleep()関数で3秒停止します。  \n",
    "引数は秒数(sec)なので、3を入れます。"
   ]
  },
  {
   "cell_type": "markdown",
   "id": "0edfea9d",
   "metadata": {},
   "source": [
    "#### 32行目:\n",
    "```python\n",
    "joints.move_joint_positions(tilt=0.349)\n",
    "```\n",
    "\n",
    "28行目と同じやり方です。  \n",
    "20°をradにした0.349を引数 _tilt=_ にします。"
   ]
  },
  {
   "cell_type": "markdown",
   "id": "be013627",
   "metadata": {},
   "source": [
    "#### 34行目:\n",
    "```python\n",
    "time.sleep(3)\n",
    "```\n",
    "30行目と同じです。"
   ]
  },
  {
   "cell_type": "markdown",
   "id": "6da5a026-dd3e-400a-a007-f51932446efe",
   "metadata": {
    "tags": []
   },
   "source": [
    "## 最後に\n",
    "これでQ1-3は終了です。   \n",
    "次は、AKARIのヘッドをランダムに動かしてみましょう。"
   ]
  },
  {
   "cell_type": "markdown",
   "id": "0ac62a1d-2a93-4fe8-abce-889db09580d7",
   "metadata": {},
   "source": [
    "[次の問題へ](q1-4_random.ipynb)"
   ]
  }
 ],
 "metadata": {
  "kernelspec": {
   "display_name": "Python 3 (ipykernel)",
   "language": "python",
   "name": "python3"
  },
  "language_info": {
   "codemirror_mode": {
    "name": "ipython",
    "version": 3
   },
   "file_extension": ".py",
   "mimetype": "text/x-python",
   "name": "python",
   "nbconvert_exporter": "python",
   "pygments_lexer": "ipython3",
   "version": "3.8.10"
  },
  "vscode": {
   "interpreter": {
    "hash": "e7370f93d1d0cde622a1f8e1c04877d8463912d04d973331ad4851f04de6915a"
   }
  }
 },
 "nbformat": 4,
 "nbformat_minor": 5
}
