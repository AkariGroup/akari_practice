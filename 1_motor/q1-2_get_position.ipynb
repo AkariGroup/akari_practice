{
 "cells": [
  {
   "cell_type": "markdown",
   "id": "499fadb4-dc42-40f4-a10e-839eaa98ca98",
   "metadata": {},
   "source": [
    "# Q1-2.モータ位置の取得"
   ]
  },
  {
   "cell_type": "markdown",
   "id": "89b6d771-a611-45d4-8c7f-02304465ca6c",
   "metadata": {
    "tags": []
   },
   "source": [
    "## 問題\n",
    "**Q1-2.AKARIが動いたあとの、現在位置を取得してコマンドラインに表示しましょう。**"
   ]
  },
  {
   "cell_type": "code",
   "execution_count": null,
   "id": "34197f04-6a3f-4369-890d-cf8e4c91990e",
   "metadata": {},
   "outputs": [],
   "source": [
    "#!/usr/bin/env python\n",
    "# -*- coding: utf-8 -*-\n",
    "\n",
    "# sleep関数を使うためにtimeのライブラリをインポートする。\n",
    "import time\n",
    "# モータ制御の際はakari_clientのライブラリをインポートする\n",
    "from akari_client import AkariClient\n",
    "\n",
    "\n",
    "def main() -> None:\n",
    "    \"\"\"\n",
    "    メイン関数\n",
    "    \"\"\"\n",
    "\n",
    "    # AkariClientのインスタンスを作成する。\n",
    "    akari = AkariClient()\n",
    "    # 関節制御用のインスタンスを取得する。\n",
    "    joints = akari.joints\n",
    "    # サーボONにする。\n",
    "    joints.enable_all_servo()\n",
    "\n",
    "    # 両方のサーボの速度を5rad/sに変更する。\n",
    "    joints.set_joint_velocities(pan=5, tilt=5)\n",
    "\n",
    "    # AKARIを目標位置に移動する。\n",
    "    joints.move_joint_positions(pan=-0.5, tilt=0.2)\n",
    "\n",
    "    # 1秒待つ\n",
    "    time.sleep(1)\n",
    "    ### ここから問題  ###\n",
    "    \"\"\"(処理を書く)\"\"\"\n",
    "    ### ここまで  ###\n",
    "\n",
    "\n",
    "    if __name__ == '__main__':\n",
    "        main()"
   ]
  },
  {
   "cell_type": "markdown",
   "id": "27784c1b-4331-4439-8218-8d0cd8861ff4",
   "metadata": {},
   "source": [
    "### ヒント\n",
    "\n",
    "**サーボ位置の取得には、 _get_joint_positions()_ を使います。**  \n",
    "```python\n",
    "AkaliClient::JointManager::get_joint_positions(\n",
    "    void\n",
    "    ) -> Dict[str, float]:\n",
    "```\n",
    "> 現在角度を取得する。単位は[rad]  \n",
    "\n",
    "下記のセルを実行すると、サーボの現在位置を取得することができます。"
   ]
  },
  {
   "cell_type": "code",
   "execution_count": null,
   "id": "3a501672-89a3-46b4-aa3a-761a95dd10dc",
   "metadata": {},
   "outputs": [],
   "source": [
    "# モータ制御の際はakari_clientのライブラリをインポートする\n",
    "from akari_client import AkariClient\n",
    "\n",
    "# AkariClientのインスタンスを作成する。\n",
    "akari = AkariClient()\n",
    "# 関節制御用のインスタンスを取得する。\n",
    "joints = akari.joints\n",
    "# 現在位置を取得して出力\n",
    "pos = joints.get_joint_positions()\n",
    "print(pos)"
   ]
  },
  {
   "cell_type": "markdown",
   "id": "72f4f0fd",
   "metadata": {},
   "source": [
    "panのセルの値、tiltのセルの値のみ取得することも可能です。"
   ]
  },
  {
   "cell_type": "code",
   "execution_count": null,
   "id": "813e587c",
   "metadata": {},
   "outputs": [],
   "source": [
    "# 現在位置を取得して出力\n",
    "pos=joints.get_joint_positions()\n",
    "print(\"panの角度は\" + str(pos['pan'])+\"です。\")"
   ]
  },
  {
   "cell_type": "markdown",
   "id": "302e793b-5f1b-40e4-9ef2-2cc7ea36c5b8",
   "metadata": {},
   "source": [
    "この関数を使うと、現在の関節角度がDictで取得できます。   \n",
    "取得した値をコマンドラインにプリントします。  \n",
    "同じ方法は[Q1-1](q1-1_joints_name.ipynb)でも使われていますので、そちらも参考にしてください。"
   ]
  },
  {
   "cell_type": "markdown",
   "id": "b57ed4d0-2700-46b1-9697-d5979814fa65",
   "metadata": {},
   "source": [
    "完成したら実行してみましょう。  \n",
    "AKARIのヘッドが動いたあとに、コマンドラインに現在の関節角が表示されたら成功です。"
   ]
  },
  {
   "cell_type": "markdown",
   "id": "2dc388b4-f781-4c60-b4ff-cbace60934b8",
   "metadata": {
    "tags": []
   },
   "source": [
    "## 回答と解説\n",
    "以下は回答例と解説です。動作が正しければ、これと同じでなくても問題ありません。"
   ]
  },
  {
   "cell_type": "code",
   "execution_count": null,
   "id": "6fba88ef-ef82-480e-82a6-72e3c3491460",
   "metadata": {},
   "outputs": [],
   "source": [
    "#!/usr/bin/env python\n",
    "# -*- coding: utf-8 -*-\n",
    "\n",
    "# sleep関数を使うためにtimeのライブラリをインポートする。\n",
    "import time\n",
    "# モータ制御の際はakari_clientのライブラリをインポートする\n",
    "from akari_client import AkariClient\n",
    "\n",
    "\n",
    "def main() -> None:\n",
    "    \"\"\"\n",
    "    メイン関数\n",
    "    \"\"\"\n",
    "\n",
    "    # AkariClientのインスタンスを作成する。\n",
    "    akari = AkariClient()\n",
    "    # 関節制御用のインスタンスを取得する。\n",
    "    joints = akari.joints\n",
    "    # サーボONにする。\n",
    "    joints.enable_all_servo()\n",
    "\n",
    "    # 両方のサーボの速度を5rad/sに変更する。\n",
    "    joints.set_joint_velocities(pan=5, tilt=5)\n",
    "\n",
    "    # AKARIを目標位置に移動する。\n",
    "    joints.move_joint_positions(pan=-0.5, tilt=0.2)\n",
    "    \n",
    "    # 1秒待つ\n",
    "    time.sleep(1)\n",
    "    ### ここから問題  ###\n",
    "    pos = joints.get_joint_positions()\n",
    "    print(pos)\n",
    "    ### ここまで  ###\n",
    "\n",
    "\n",
    "if __name__ == '__main__':\n",
    "    main()"
   ]
  },
  {
   "cell_type": "markdown",
   "id": "5735f15d-f72e-461f-b38d-996540b5bec1",
   "metadata": {},
   "source": [
    "#### 31行目:\n",
    "```python\n",
    "pos = joints.get_joint_positions()\n",
    "```\n",
    "\n",
    "joints.get_joint_positions()で現在のサーボの角度を取得します。  \n",
    "両方の関節の角度が返り値に入ります。\n"
   ]
  },
  {
   "cell_type": "markdown",
   "id": "e1fbcd27-8d98-4c93-a711-64e650a3d449",
   "metadata": {
    "tags": []
   },
   "source": [
    "## Tips"
   ]
  },
  {
   "cell_type": "markdown",
   "id": "83140fe5-9d81-44db-93c0-27b3ac41f2aa",
   "metadata": {
    "tags": []
   },
   "source": [
    "#### サーボの速度を指定するには？\n",
    "\n",
    "**サーボの速度を指定する関数: set_joint_velocities()**\n",
    "\n",
    "速度を変更するには、_set_joint_velocities()_ という関数を使います。\n",
    "```python\n",
    "AkaliClient::JointManager::set_joint_velocities(\n",
    "    pan: Optional[float] = None,\n",
    "    tilt: Optional[float] = None\n",
    ") -> None:\n",
    "```\n",
    "> サーボの速度を指定する。単位は[rad/s]  \n",
    "\n",
    "この関数を先に呼んでから _move_joint_positions()_ を実行すると、指定した速度で動くようになります。\n",
    "\n",
    "#### 22-23行目:\n",
    "\n",
    "```python\n",
    "# 両方のサーボの速度を5rad/sに変更する。\n",
    "joints.set_joint_velocities(pan=5, tilt=5)\n",
    "```\n",
    "\n",
    "この場合、pan、tilt共に5rad/sになります。"
   ]
  },
  {
   "cell_type": "markdown",
   "id": "6da5a026-dd3e-400a-a007-f51932446efe",
   "metadata": {
    "tags": []
   },
   "source": [
    "## 最後に\n",
    "これでQ1-2は終了です。  \n",
    "次は、AKARIにおじぎをさせてみましょう。"
   ]
  },
  {
   "cell_type": "markdown",
   "id": "0ac62a1d-2a93-4fe8-abce-889db09580d7",
   "metadata": {},
   "source": [
    "[次の問題へ](q1-3_bow.ipynb)"
   ]
  }
 ],
 "metadata": {
  "kernelspec": {
   "display_name": "Python 3 (ipykernel)",
   "language": "python",
   "name": "python3"
  },
  "language_info": {
   "codemirror_mode": {
    "name": "ipython",
    "version": 3
   },
   "file_extension": ".py",
   "mimetype": "text/x-python",
   "name": "python",
   "nbconvert_exporter": "python",
   "pygments_lexer": "ipython3",
   "version": "3.8.10"
  },
  "vscode": {
   "interpreter": {
    "hash": "e7370f93d1d0cde622a1f8e1c04877d8463912d04d973331ad4851f04de6915a"
   }
  }
 },
 "nbformat": 4,
 "nbformat_minor": 5
}
