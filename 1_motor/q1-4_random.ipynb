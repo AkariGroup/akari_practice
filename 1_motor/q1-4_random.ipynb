{
    "cells": [
        {
            "cell_type": "markdown",
            "id": "499fadb4-dc42-40f4-a10e-839eaa98ca98",
            "metadata": {},
            "source": [
                "# Q1-4.ランダムに動く"
            ]
        },
        {
            "cell_type": "markdown",
            "id": "89b6d771-a611-45d4-8c7f-02304465ca6c",
            "metadata": {
                "tags": []
            },
            "source": [
                "## 問題\n",
                "**Q1-4.3秒に1回パン、チルトで-0.5rad~0.5radのランダムな角度を２つ作り、その方向を向くコードを書きましょう。**"
            ]
        },
        {
            "cell_type": "code",
            "execution_count": null,
            "id": "34197f04-6a3f-4369-890d-cf8e4c91990e",
            "metadata": {},
            "outputs": [],
            "source": [
                "#!/usr/bin/env python\n",
                "# -*- coding: utf-8 -*-\n",
                "\n",
                "### ここから問題  ###\n",
                "\n",
                "\"\"\"(コードを記述)”\"\"\"\n",
                "\n",
                "### ここまで  ###"
            ]
        },
        {
            "cell_type": "markdown",
            "id": "3e19e74e",
            "metadata": {},
            "source": [
                "ここまで学習した関数を使って、ランダムな方向を向くコードを書いてみましょう。  \n",
                "今回は今までのコードを参照しながら、１からアプリを作ってみましょう。"
            ]
        },
        {
            "cell_type": "markdown",
            "id": "707d35ee",
            "metadata": {},
            "source": [
                "### 動作イメージ"
            ]
        },
        {
            "cell_type": "code",
            "execution_count": null,
            "id": "23b19486",
            "metadata": {},
            "outputs": [],
            "source": [
                "from IPython.display import Image\n",
                "Image('gif/q1-4.gif')"
            ]
        },
        {
            "cell_type": "markdown",
            "id": "27784c1b-4331-4439-8218-8d0cd8861ff4",
            "metadata": {},
            "source": [
                "### ヒント\n",
                "\n",
                "**Q1-3の回答を参考に書くのがいいでしょう。**  \n",
                "\n",
                "[Q1-3](q1-3_bow.ipynb)では、下30°を向く→3秒待つ→上20°を向く→3秒待つまでが1ループでした。  \n",
                "今回は、パンの角度の乱数とチルトの角度の乱数を作る→作った方向を向く→3秒待つ、が1ループです。"
            ]
        },
        {
            "cell_type": "markdown",
            "id": "7d236b4d",
            "metadata": {},
            "source": [
                "**ランダムな数を生成するには、random.uniform()という関数を使います。**\n",
                "\n",
                "random.uniform(min,max)の引数minが下限値, maxが上限値です。  \n",
                "この範囲内の乱数が返り値となります。  \n",
                "uniform()はrandomモジュールに含まれるので、先にrandomモジュールをimportします。  \n",
                "\n",
                "下記のセルを実行すると使い方の例が見られます。"
            ]
        },
        {
            "cell_type": "code",
            "execution_count": null,
            "id": "decc5860",
            "metadata": {},
            "outputs": [],
            "source": [
                "import random\n",
                "val = random.uniform(-5, 5)\n",
                "print(\"乱数 \" + str(val) + \" を生成しました。\")"
            ]
        },
        {
            "cell_type": "markdown",
            "id": "89dadb92",
            "metadata": {},
            "source": [
                "これを2回使って、パン用の乱数とチルト用の乱数を作りましょう。"
            ]
        },
        {
            "cell_type": "markdown",
            "id": "b57ed4d0-2700-46b1-9697-d5979814fa65",
            "metadata": {},
            "source": [
                "完成したら実行してみましょう。  \n",
                "正しく書けていれば、AKARIのヘッドが3秒に１回ランダムな方向を向く挙動を繰り返します。"
            ]
        },
        {
            "cell_type": "markdown",
            "id": "2dc388b4-f781-4c60-b4ff-cbace60934b8",
            "metadata": {
                "tags": []
            },
            "source": [
                "## 回答と解説\n",
                "以下は回答例と解説です。動作が正しければ、これと同じでなくても問題ありません。"
            ]
        },
        {
            "cell_type": "code",
            "execution_count": null,
            "id": "6fba88ef-ef82-480e-82a6-72e3c3491460",
            "metadata": {},
            "outputs": [],
            "source": [
                "#!/usr/bin/env python\n",
                "# -*- coding: utf-8 -*-\n",
                "\n",
                "### ここから問題  ###\n",
                "\n",
                "# sleep関数を使うためにtimeのライブラリをインポートする。\n",
                "import time\n",
                "# 乱数生成用のライブラリをインポートする。\n",
                "import random\n",
                "# モータ制御の際はakari_clientのライブラリをインポートする\n",
                "from akari_client import AkariClient\n",
                "\n",
                "# AkariClientのインスタンスを作成する。\n",
                "akari = AkariClient()\n",
                "# 関節制御用のインスタンスを取得する。\n",
                "joints = akari.joints\n",
                "# サーボONにする。\n",
                "joints.enable_all_servo()\n",
                "\n",
                "while(True):\n",
                "    # -0.5~0.5のランダムな角度をpan,tiltそれぞれ生成\n",
                "    pan_angle = random.uniform(-0.5, 0.5)\n",
                "    tilt_angle = random.uniform(-0.5, 0.5)\n",
                "    # 問題文に指定はないが、一応print。\n",
                "    print(\"pan: \" + str(pan_angle) + \"tilt: \" + str(tilt_angle))\n",
                "    # 生成したランダムな方向を向く\n",
                "    joints.move_joint_positions(pan=pan_angle, tilt=tilt_angle)\n",
                "    # 3秒停止する\n",
                "    time.sleep(3)\n",
                "\n",
                "### ここまで  ###"
            ]
        },
        {
            "cell_type": "markdown",
            "id": "5735f15d-f72e-461f-b38d-996540b5bec1",
            "metadata": {},
            "source": [
                "#### 6-11行目:\n",
                "```python\n",
                "# sleep関数を使うためにtimeのライブラリをインポートする。\n",
                "import time\n",
                "# 乱数生成用のライブラリをインポートする。\n",
                "import random\n",
                "# モータ制御の際はakari_clientのライブラリをインポートする\n",
                "from akari_client import AkariClient\n",
                "```\n",
                "最初に必要なモジュールをインポートします。  \n",
                "1つ目はsleepを使うために必要なtime  \n",
                "2つ目はuniformを使うために必要なrandom  \n",
                "3つ目はAKARIのヘッドを動かすのに必要なAkariClientです。"
            ]
        },
        {
            "cell_type": "markdown",
            "id": "9da227f1",
            "metadata": {},
            "source": [
                "#### 13-16行目:\n",
                "\n",
                "```python\n",
                "# AkariClientのインスタンスを作成する。\n",
                "akari = AkariClient()\n",
                "# 関節制御用のインスタンスを取得する。\n",
                "joints = akari.joints\n",
                "```\n",
                "\n",
                "AkariController()のインスタンスを _akari_ という名前で  \n",
                "akari.jointsのインスタンスを _joints_ という名前で作成します。"
            ]
        },
        {
            "cell_type": "markdown",
            "id": "b6061e0a",
            "metadata": {},
            "source": [
                "#### 17-18行目\n",
                "```python\n",
                "# サーボONにする。\n",
                "joints.enable_all_servo()\n",
                "```\n",
                "\n",
                "全サーボを有効状態にする関数を呼び出します。  "
            ]
        },
        {
            "cell_type": "markdown",
            "id": "de09e4c4",
            "metadata": {},
            "source": [
                "#### 20行目:\n",
                "\n",
                "```python\n",
                "while(True):\n",
                "```\n",
                "\n",
                "3秒に１回動作するコードなので、while()でループさせます。  \n",
                "条件式はTrueなので、終了するまでループし続けます。"
            ]
        },
        {
            "cell_type": "markdown",
            "id": "224be2c3",
            "metadata": {},
            "source": [
                "#### 21-23行目:\n",
                "```python\n",
                "# -0.5~0.5のランダムな角度をpan,tiltそれぞれ生成\n",
                "pan_angle = random.uniform(-0.5, 0.5)\n",
                "tilt_angle = random.uniform(-0.5, 0.5)\n",
                "```\n",
                "pan_angleでpan方向の乱数、tilt_angleでtilt方向の乱数を作成します。  \n",
                "乱数生成はrandom.uniform(min,max)を使います。-0.5~0.5なので、minが-0.5でmaxが0.5です。"
            ]
        },
        {
            "cell_type": "markdown",
            "id": "02f4bebf",
            "metadata": {},
            "source": [
                "#### 24-25行目:\n",
                "\n",
                "```python\n",
                "# 問題文に指定はないが、一応print。\n",
                "print(\"pan: \" + str(pan_angle) + \"tilt: \" + str(tilt_angle))\n",
                "```\n",
                "\n",
                "特に指定はないですが、21-23行目で作成した乱数をコマンドラインに表示しておきます。  \n",
                "str(数値)で数値を文字列に変換できます。文字列どうしであれば + で結合できるので、一つの文字列としてprintできます。\n"
            ]
        },
        {
            "cell_type": "markdown",
            "id": "1c0b8ed5",
            "metadata": {},
            "source": [
                "#### 26-27行目:\n",
                "\n",
                "```python\n",
                "# 生成したランダムな方向を向く\n",
                "joints.move_joint_positions(pan=pan_angle, tilt=tilt_angle)\n",
                "```\n",
                "\n",
                "[Q1-1](q1-1_joints_name.ipynb)や[Q1-3](q1-3_bow.ipynb)と同じ方法で、指令値を引数に渡して _move_joint_positions()で指令します。  \n",
                "panとtilt同時に動かすので、 _pan=_ と _tilt=_ にはそれぞれ作成した乱数 _pan_angle_ , _tilt_angle_ を与えます。\n"
            ]
        },
        {
            "cell_type": "markdown",
            "id": "e74bab7d",
            "metadata": {},
            "source": [
                "#### 28-29行目:\n",
                "\n",
                "```python\n",
                "# 3秒停止する\n",
                "time.sleep(3)\n",
                "```\n",
                "\n",
                "3秒に1回動かすので、ここでは3秒のsleepを入れます。"
            ]
        },
        {
            "cell_type": "markdown",
            "id": "6da5a026-dd3e-400a-a007-f51932446efe",
            "metadata": {
                "tags": []
            },
            "source": [
                "## 最後に\n",
                "これでQ1-4は終了です。  \n",
                "次は、ボタン入力の取得を学習してみましょう。"
            ]
        },
        {
            "cell_type": "markdown",
            "id": "0ac62a1d-2a93-4fe8-abce-889db09580d7",
            "metadata": {},
            "source": [
                "[次の問題へ](q2-1_button.ipynb)"
            ]
        }
    ],
    "metadata": {
        "kernelspec": {
            "display_name": "Python 3 (ipykernel)",
            "language": "python",
            "name": "python3"
        },
        "language_info": {
            "codemirror_mode": {
                "name": "ipython",
                "version": 3
            },
            "file_extension": ".py",
            "mimetype": "text/x-python",
            "name": "python",
            "nbconvert_exporter": "python",
            "pygments_lexer": "ipython3",
            "version": "3.8.10"
        },
        "vscode": {
            "interpreter": {
                "hash": "045823372ae896803066400baabdd9ce57da994bf40a6bcd023d2de1b7d884a6"
            }
        }
    },
    "nbformat": 4,
    "nbformat_minor": 5
}